{
  "nbformat": 4,
  "nbformat_minor": 0,
  "metadata": {
    "kernelspec": {
      "display_name": "Python 3",
      "language": "python",
      "name": "python3"
    },
    "language_info": {
      "codemirror_mode": {
        "name": "ipython",
        "version": 3
      },
      "file_extension": ".py",
      "mimetype": "text/x-python",
      "name": "python",
      "nbconvert_exporter": "python",
      "pygments_lexer": "ipython3",
      "version": "3.8.5"
    },
    "colab": {
      "name": "datapane_SQLite.ipynb",
      "provenance": [],
      "collapsed_sections": []
    }
  },
  "cells": [
    {
      "cell_type": "markdown",
      "metadata": {
        "collapsed": true,
        "id": "Y_pE2XwY26XE"
      },
      "source": [
        "# Building a Datapane Dashboard\n",
        "\n",
        "Code and data from <a href=\"https://towardsdatascience.com/building-an-interactive-python-dashboard-using-sql-and-datapane-46bd92294fd3\">Building an interactive Python dashboard using SQL and Datapane</a> - John Micah Reid, June 2021"
      ]
    },
    {
      "cell_type": "markdown",
      "metadata": {
        "id": "MzJj9ABP26XJ"
      },
      "source": [
        "We'll be working with a modified version (`chinook_m.db`) of a database called [Chinook](https://github.com/lerocha/chinook-database). The Chinook database contains information about a fictional digital music shop.\n",
        "\n",
        "The Chinook database contains information about the artists, songs, and albums from the music shop, as well as information on the shop's employees, customers, and the customers purchases. This information is contained in eleven tables.\n",
        "\n",
        "The Chinook database is provided as a SQLite database file called `chinook_m.db`. It's worth remembering that our database retains 'state', so if we run a query with a `CREATE` or `DROP` twice, the query will fail. \n",
        "\n",
        "<b>[Marcos] Note for this seminar/homework:</b> if the database gets locked, there's a `chinook.db` file on GitHub that can be copied over the `chinook_m.db` to restore it back to its initial state.\n",
        "\n",
        "Here's a schema diagram for the Chinook database:\n"
      ]
    },
    {
      "cell_type": "code",
      "metadata": {
        "id": "GCCdnUSWTEml"
      },
      "source": [
        "from IPython.display import Image\n",
        "Image(filename='Chinook_m.png', width=\"600\") "
      ],
      "execution_count": null,
      "outputs": []
    },
    {
      "cell_type": "code",
      "metadata": {
        "id": "lXPS37oITmud"
      },
      "source": [
        "# installing the Datapane library\n",
        "!pip install datapane"
      ],
      "execution_count": null,
      "outputs": []
    },
    {
      "cell_type": "code",
      "metadata": {
        "id": "_Ifux13426XL"
      },
      "source": [
        "# Import the necessary libraries\n",
        "import sqlite3\n",
        "import pandas as pd\n",
        "import numpy as np\n",
        "import plotly.express as px\n",
        "import plotly.graph_objects as go\n",
        "# remember to install the Datapane library (see Preparation_BeforeClass on GitHub)\n",
        "import datapane as dp"
      ],
      "execution_count": null,
      "outputs": []
    },
    {
      "cell_type": "code",
      "metadata": {
        "id": "I6_1ISiI26XM"
      },
      "source": [
        "# The database we will be using\n",
        "# IMPORTANT: adjust the path to reflect the location of your file!\n",
        "db = './chinook_m.db'"
      ],
      "execution_count": null,
      "outputs": []
    },
    {
      "cell_type": "code",
      "metadata": {
        "id": "Q8-yeVpd26XM"
      },
      "source": [
        "# Main function for running SQL queries\n",
        "def run_query(q):\n",
        "    # Connect to the database\n",
        "    with sqlite3.connect(db) as conn:\n",
        "        # Wrapper function to read_sql_query(): returns a DataFrame corresponding to the result set of \n",
        "        # the query string\n",
        "        return pd.read_sql(q,conn)\n",
        "    \n",
        "#def run_command(c):\n",
        "#    with sqlite3.connect(db) as conn:\n",
        "#        conn.isolation_level = None\n",
        "#        conn.execute(c) "
      ],
      "execution_count": null,
      "outputs": []
    },
    {
      "cell_type": "markdown",
      "metadata": {
        "id": "kOevyuVZ26XN"
      },
      "source": [
        "`sql_master` is the <b>schema table</b>: it contains a description of all of the other tables, indexes, triggers, and views that are contained within the database.\n",
        "\n",
        "Have a look <a href=\"https://www.sqlite.org/schematab.html\">here</a> for a complete description."
      ]
    },
    {
      "cell_type": "code",
      "metadata": {
        "id": "1wX9N0oI26XN"
      },
      "source": [
        "# Function to show all the tables present in the database.\n",
        "def show_tables():\n",
        "    q = '''\n",
        "        SELECT\n",
        "            name\n",
        "        FROM sqlite_master\n",
        "        WHERE type IN (\"table\",\"view\");\n",
        "        '''\n",
        "    return run_query(q)\n",
        "\n",
        "# Function to count how many rows in each table\n",
        "def get_table_row_count(tablename):\n",
        "    q = '''\n",
        "        SELECT\n",
        "            COUNT(1)\n",
        "        FROM %s;\n",
        "        ''' % tablename\n",
        "    return run_query(q)[\"COUNT(1)\"][0]\n",
        "\n",
        "tables = show_tables()\n",
        "tables[\"row_count\"] = [get_table_row_count(t) for t in tables[\"name\"]]\n",
        "\n",
        "tables"
      ],
      "execution_count": null,
      "outputs": []
    },
    {
      "cell_type": "markdown",
      "metadata": {
        "id": "PljdECfO26XP"
      },
      "source": [
        "### IMPORTANT: connect to <a href=\"https://datapane.com/\">Datapane</a> using your API token\n",
        "\n",
        "#### See [Preparation_BeforeClass](https://github.com/lse-st207/lectures2021/tree/main/Preparation_BeforeSeminar) on GitHub for how to register and get an API token."
      ]
    },
    {
      "cell_type": "code",
      "metadata": {
        "id": "BMxVaonh26XQ"
      },
      "source": [
        "# Uncomment the following line and put your Datapane token\n",
        "#!datapane login --token=YOUR_TOKEN_HERE"
      ],
      "execution_count": null,
      "outputs": []
    },
    {
      "cell_type": "code",
      "metadata": {
        "id": "sWt7Bphr26XQ"
      },
      "source": [
        "# Building a first datapane\n",
        "import datapane as dp \n",
        "\n",
        "# Query: the best-selling tracks\n",
        "# We start by selecting the columns we want to see in the output. Since these come from four different tables \n",
        "# (track, album, artist, invoice_line), we need to join the tables on the foreign key relationships — check the \n",
        "# schema to see what is possible. Next we group by the track name, order by the most purchases and only select \n",
        "# the top 10 results.\n",
        "\n",
        "top_10_tracks_query = '''\n",
        "SELECT \n",
        "    t.name trackname,\n",
        "    a.title album_title,\n",
        "    ar.name artist,\n",
        "    count(*) as total_purchases,\n",
        "    sum(il.unit_price) total_cost\n",
        "FROM track t \n",
        "JOIN album a on a.album_id = t.album_id\n",
        "JOIN artist ar on ar.artist_id = a.artist_id\n",
        "JOIN invoice_line il on il.track_id = t.track_id\n",
        "GROUP BY 1\n",
        "ORDER BY total_purchases desc\n",
        "LIMIT 10\n",
        "'''\n",
        "\n",
        "top_10_df = run_query(top_10_tracks_query)\n",
        "\n",
        "table = dp.Table(top_10_df)\n",
        "report = dp.Report(table)\n",
        "report.upload(name='Music Sales')"
      ],
      "execution_count": null,
      "outputs": []
    },
    {
      "cell_type": "markdown",
      "metadata": {
        "id": "CeSbf9P326XR"
      },
      "source": [
        "## Selecting Albums to Purchase"
      ]
    },
    {
      "cell_type": "code",
      "metadata": {
        "id": "MB6scaj026XR"
      },
      "source": [
        "# Query: tracks sold by genre\n",
        "albums_to_purchase = '''\n",
        "WITH \n",
        "    usa_tracks_sold AS\n",
        "        (\n",
        "         SELECT il.* FROM invoice_line il\n",
        "         INNER JOIN invoice i ON il.invoice_id = i.invoice_id\n",
        "         INNER JOIN customer c ON i.customer_id = c.customer_id\n",
        "        )\n",
        "SELECT \n",
        "    g.name Genre, \n",
        "    COUNT(uts.invoice_line_id) \"Number of Tracks Sold\", \n",
        "    CAST(COUNT(uts.invoice_line_id) AS FLOAT)/(SELECT COUNT(*) FROM usa_tracks_sold) \"Percentage of Tracks Sold\"\n",
        "FROM usa_tracks_sold uts\n",
        "INNER JOIN track t ON uts.track_id = t.track_id\n",
        "INNER JOIN genre g ON t.genre_id = g.genre_id\n",
        "GROUP BY 1 \n",
        "ORDER BY 2 DESC\n",
        "LIMIT 10;\n",
        "'''\n",
        "\n",
        "genre_sales = run_query(albums_to_purchase)\n",
        "genre_sales.sort_values('Number of Tracks Sold', inplace=True)\n",
        "\n",
        "genre_sales_plot = px.bar(\n",
        "    genre_sales, \n",
        "    x=\"Percentage of Tracks Sold\", \n",
        "    y=\"Genre\", \n",
        "    orientation='h',\n",
        "    text=\"Percentage of Tracks Sold\",\n",
        "    title = \"Sales by Genre\"\n",
        ")\n",
        "\n",
        "genre_sales_plot.update_traces(texttemplate='%{text:.1%}', textposition='outside')\n",
        "genre_sales_plot.show()"
      ],
      "execution_count": null,
      "outputs": []
    },
    {
      "cell_type": "markdown",
      "metadata": {
        "id": "YFHL1JtA26XS"
      },
      "source": [
        "### Observations"
      ]
    },
    {
      "cell_type": "markdown",
      "metadata": {
        "id": "VKWvOEDh26XS"
      },
      "source": [
        "Based on the sales of tracks across different genres in the USA, we should purchase the new albums by the following artists:\n",
        "\n",
        "- Red Tone (Punk)\n",
        "- Slim Jim Bites (Blues)\n",
        "- Meteor and the Girls (Pop)\n",
        "\n",
        "It's worth keeping in mind that combined, these three genres only make up only 17% of total sales, so we should be on the lookout for artists and albums from the 'rock' genre, which accounts for 53% of sales."
      ]
    },
    {
      "cell_type": "markdown",
      "metadata": {
        "id": "FMQ2Jasq26XS"
      },
      "source": [
        "## Analyzing Employee Sales Performance"
      ]
    },
    {
      "cell_type": "markdown",
      "metadata": {
        "id": "DklUZH0m26XS"
      },
      "source": [
        "Each customer for the Chinook store gets assigned to a sales support agent within the company when they first make a purchase. We have been asked to analyze the purchases of customers belonging to each employee to see if any sales support agent is performing either better or worse than the others."
      ]
    },
    {
      "cell_type": "code",
      "metadata": {
        "id": "k2xDaiRC26XT"
      },
      "source": [
        "# Query: Who are our best-performing sales employees, and when do they make the most sales?\n",
        "\n",
        "# We use strftime to truncate the timestamps so we can group by month. This makes the data \n",
        "# look nicer when we plot it.\n",
        "# We use a subquery (also called a Common Table Expression) to calculate an intermediate \n",
        "# table (customer_support_rep_sales). We then call this table in the final query.\n",
        "\n",
        "employee_sales_performance = '''\n",
        "WITH \n",
        "    customer_support_rep_sales AS\n",
        "        (\n",
        "         SELECT \n",
        "             i.customer_id,\n",
        "             strftime('%Y-%m', i.invoice_date) || \"-01\" Month,\n",
        "             c.support_rep_id,\n",
        "             SUM(i.total) Sales_Total\n",
        "         FROM invoice i\n",
        "         INNER JOIN customer c ON c.customer_id = i.customer_id\n",
        "         GROUP BY 2, 3\n",
        "        )\n",
        "SELECT\n",
        "    e.first_name || \" \" || e.last_name \"Employee Name\",\n",
        "    csrs.Month,\n",
        "    SUM(csrs.Sales_total) \"Amount of Sales (in $)\"\n",
        "FROM customer_support_rep_sales csrs\n",
        "INNER JOIN employee e ON csrs.support_rep_id = e.employee_id\n",
        "GROUP BY 1, 2;\n",
        "'''\n",
        "\n",
        "run_query(employee_sales_performance)"
      ],
      "execution_count": null,
      "outputs": []
    },
    {
      "cell_type": "code",
      "metadata": {
        "id": "TUUkVsWW26XT"
      },
      "source": [
        "# We did a groupby in Pandas to remove the ‘Month’ column for the second chart.\n",
        "employee_sales = run_query(employee_sales_performance)\n",
        "employee_sales[\"Month\"] = pd.to_datetime(employee_sales[\"Month\"])\n",
        "\n",
        "employee_sales_monthly = px.line(employee_sales,\n",
        "                            x = \"Month\",\n",
        "                            y = \"Amount of Sales (in $)\",\n",
        "                            color = \"Employee Name\")\n",
        "\n",
        "employee_sales_monthly.update_layout(legend=dict(\n",
        "    yanchor=\"top\",\n",
        "    y=0.99,\n",
        "    xanchor=\"left\",\n",
        "    x=0.01\n",
        "))\n",
        "\n",
        "employee_sales_monthly.show()"
      ],
      "execution_count": null,
      "outputs": []
    },
    {
      "cell_type": "code",
      "metadata": {
        "id": "qcNNF8na26XU"
      },
      "source": [
        "employee_sales_total = employee_sales.groupby([\"Employee Name\"]) \\\n",
        "                                        .sum() \\\n",
        "                                        .sort_values(by=\"Amount of Sales (in $)\") \\\n",
        "                                        .reset_index()\n",
        "\n",
        "employee_sales_bar = px.bar(employee_sales_total, \n",
        "                            y = 'Employee Name', \n",
        "                            x = \"Amount of Sales (in $)\",\n",
        "                            text = \"Amount of Sales (in $)\",\n",
        "                            orientation = 'h')\n",
        "\n",
        "employee_sales_bar.update_traces(texttemplate='%{text:.1f}')\n",
        "employee_sales_bar.show()"
      ],
      "execution_count": null,
      "outputs": []
    },
    {
      "cell_type": "code",
      "metadata": {
        "id": "zGwzikru26XU"
      },
      "source": [
        "# Generating the datapane\n",
        "dp.Report(\n",
        "    dp.Plot(employee_sales_monthly, name = \"employee-sales-monthly\"),\n",
        "    dp.Plot(employee_sales_bar, name = \"employee-sales-bar\"),\n",
        ").upload(name=\"Employee Sales\")"
      ],
      "execution_count": null,
      "outputs": []
    },
    {
      "cell_type": "markdown",
      "metadata": {
        "id": "nIts_J_W26XV"
      },
      "source": [
        "### Observations"
      ]
    },
    {
      "cell_type": "markdown",
      "metadata": {
        "id": "DVpHFNs726XV"
      },
      "source": [
        "While there is a 20% difference in sales between Jane (the top employee) and Steve (the bottom employee), the difference roughly corresponds with the differences in their hiring dates."
      ]
    },
    {
      "cell_type": "markdown",
      "metadata": {
        "id": "WkIdXSBX26XV"
      },
      "source": [
        "## Analyzing Sales by Country"
      ]
    },
    {
      "cell_type": "markdown",
      "metadata": {
        "id": "n51rDBsa26XV"
      },
      "source": [
        "Our next task is to analyze the sales data for customers from each different country. We have been given guidance to use the country value from the `customers` table, and ignore the country from the billing address in the `invoice` table.\n",
        "\n",
        "In particular, you have been directed to calculate data, for each country, on the:\n",
        "\n",
        "- total number of customers\n",
        "- total value of sales\n",
        "- average value of sales per customer\n",
        "- average order value\n",
        "\n",
        "Because there are a number of countries with only one customer, we should group these customers as \"Other\" in our analysis."
      ]
    },
    {
      "cell_type": "code",
      "metadata": {
        "id": "RYA6szEC26XV"
      },
      "source": [
        "sales_by_country = '''\n",
        "WITH country_or_other AS\n",
        "    (\n",
        "     SELECT\n",
        "       CASE\n",
        "           WHEN (\n",
        "                 SELECT count(*)\n",
        "                 FROM customer\n",
        "                 where country = c.country\n",
        "                ) = 1 THEN \"Other\"\n",
        "           ELSE c.country\n",
        "       END AS country,\n",
        "       c.customer_id,\n",
        "       il.*\n",
        "     FROM invoice_line il\n",
        "     INNER JOIN invoice i ON i.invoice_id = il.invoice_id\n",
        "     INNER JOIN customer c ON c.customer_id = i.customer_id\n",
        "    )\n",
        "\n",
        "\n",
        "SELECT\n",
        "    country,\n",
        "    count(distinct customer_id) customers,\n",
        "    SUM(unit_price) total_sales,\n",
        "    SUM(unit_price) / count(distinct customer_id) customer_lifetime_value,\n",
        "    SUM(unit_price) / count(distinct invoice_id) average_order,\n",
        "    CASE\n",
        "        WHEN country = \"Other\" THEN 1\n",
        "        ELSE 0\n",
        "    END AS sort\n",
        "FROM country_or_other\n",
        "GROUP BY country\n",
        "ORDER BY sort ASC, total_sales DESC;\n",
        "'''\n",
        "\n",
        "run_query(sales_by_country)"
      ],
      "execution_count": null,
      "outputs": []
    },
    {
      "cell_type": "markdown",
      "metadata": {
        "id": "QvY_DwRE26XW"
      },
      "source": [
        "## Visualizing Sales by Country"
      ]
    },
    {
      "cell_type": "markdown",
      "metadata": {
        "id": "lB2WqfFV26XW"
      },
      "source": [
        "Now that we have our data, we've been asked to create a series of visualizations which communicate our findings, and then make recommendations on which countries may have potential for growth, so the Chinook marketing team can create some new advertising campaigns."
      ]
    },
    {
      "cell_type": "code",
      "metadata": {
        "id": "fwOoYlOH26XW"
      },
      "source": [
        "country_metrics = run_query(sales_by_country)\n",
        "\n",
        "sales_breakdown = go.Figure(data=[go.Pie(\n",
        "    labels = country_metrics[\"country\"], \n",
        "    values=country_metrics[\"total_sales\"], \n",
        "    hole=.3)\n",
        "                                 ])\n",
        "\n",
        "sales_breakdown.update_layout(title_text=\"Sales by country\")\n",
        "sales_breakdown.show()"
      ],
      "execution_count": null,
      "outputs": []
    },
    {
      "cell_type": "code",
      "metadata": {
        "id": "aYp1ednG26XW"
      },
      "source": [
        "customer_ratio = country_metrics[\"customers\"] / country_metrics[\"customers\"].sum() * 100.0\n",
        "sales_ratio = country_metrics[\"total_sales\"] / country_metrics[\"total_sales\"].sum() * 100.0\n",
        "\n",
        "\n",
        "custs_vs_dollars = go.Figure(data=[\n",
        "    go.Bar(name='Customers', x=country_metrics[\"country\"], y=customer_ratio),\n",
        "    go.Bar(name='Total Sales', x=country_metrics[\"country\"], y=sales_ratio),\n",
        "])\n",
        "\n",
        "# Change the bar mode\n",
        "custs_vs_dollars.update_layout(barmode='group', title_text=\"Pct customers vs sales\")\n",
        "custs_vs_dollars.show()"
      ],
      "execution_count": null,
      "outputs": []
    },
    {
      "cell_type": "code",
      "metadata": {
        "id": "0R3J-EsG26XX"
      },
      "source": [
        "country_metrics[\"difference_from_avg\"] = (country_metrics[\"average_order\"] - \\\n",
        "                                          country_metrics[\"average_order\"].mean()) * 100.0\n",
        "\n",
        "avg_order = px.bar(\n",
        "    country_metrics, \n",
        "    x = \"country\", \n",
        "    y = \"difference_from_avg\", \n",
        "    color = \"country\", \n",
        "    title = \"Avg order - Pct difference from mean\",\n",
        "    labels={\n",
        "        \"country\": \"Country\",\n",
        "        \"difference_from_avg\": \"Difference from mean (%)\"\n",
        "    }\n",
        ")\n",
        "\n",
        "avg_order.update_layout(showlegend=False)\n",
        "avg_order.show()"
      ],
      "execution_count": null,
      "outputs": []
    },
    {
      "cell_type": "code",
      "metadata": {
        "id": "fNX9TUpN26XX"
      },
      "source": [
        "clv = px.bar(\n",
        "    country_metrics,\n",
        "    x = 'country',\n",
        "    y = 'customer_lifetime_value',\n",
        "    color='country',\n",
        "    labels={\n",
        "        \"country\": \"Country\",\n",
        "        \"customer_lifetime_value\": \"Customer Lifetime Value ($)\"\n",
        "    },\n",
        "    title = \"Customer Lifetime Value\"\n",
        ")\n",
        "\n",
        "clv.update_layout(showlegend=False)\n",
        "clv.show()"
      ],
      "execution_count": null,
      "outputs": []
    },
    {
      "cell_type": "code",
      "metadata": {
        "id": "eUXsP79H26XY"
      },
      "source": [
        "customers = tables[tables[\"name\"]==\"customer\"][\"row_count\"].values[0]\n",
        "employees = tables[tables[\"name\"]==\"employee\"][\"row_count\"].values[0]\n",
        "tracks_sold = tables[tables[\"name\"]==\"invoice_line\"][\"row_count\"].values[0]"
      ],
      "execution_count": null,
      "outputs": []
    },
    {
      "cell_type": "code",
      "metadata": {
        "id": "cbfenZhR26XY"
      },
      "source": [
        "dp.Report(\n",
        "    dp.Group(\n",
        "        dp.BigNumber(heading=\"Total customers\", value = customers),\n",
        "        dp.BigNumber(heading=\"Total employees\", value = employees),\n",
        "        dp.BigNumber(heading=\"Total tracks sold\", value = tracks_sold),\n",
        "        columns = 3\n",
        "    ),\n",
        "    dp.Plot(genre_sales_plot, name = \"genre_sales\"),\n",
        "    dp.Plot(employee_sales_monthly, name = \"employee-sales-1\"),\n",
        "    dp.Plot(employee_sales_bar, name = \"employee-sales-2\"),\n",
        "    dp.Group(\n",
        "        dp.Plot(sales_breakdown),\n",
        "        dp.Plot(custs_vs_dollars),\n",
        "        dp.Plot(avg_order),\n",
        "        dp.Plot(clv),\n",
        "        columns=2\n",
        "    ),\n",
        "    dp.DataTable(top_10_df, name = \"track-sales\"),\n",
        ").upload(name=\"Interactive Dashboard using SQLite\")"
      ],
      "execution_count": null,
      "outputs": []
    },
    {
      "cell_type": "markdown",
      "metadata": {
        "id": "mOOzMJY3fkX9"
      },
      "source": [
        "### WEEK 2 - HOMEWORK B\n",
        "\n",
        "Write additional SQL commands for the following questions:\n",
        "\n",
        "1. Which tracks are on the playlist \"Brazilian Music\"?\n",
        "2. How many tracks are there by each of Amy Winehouse's albums? (tip: you can use some aggregation function to count the number of tracks).\n",
        "\n",
        "Go back to the `# Building a first datapane` cell and use the same structure here. Design your SQL query and show the results in a Datapane. Do this for each question."
      ]
    },
    {
      "cell_type": "code",
      "metadata": {
        "id": "B7kPetFH26XY"
      },
      "source": [
        ""
      ],
      "execution_count": null,
      "outputs": []
    },
    {
      "cell_type": "code",
      "metadata": {
        "id": "wPNuwpHg26XY"
      },
      "source": [
        ""
      ],
      "execution_count": null,
      "outputs": []
    },
    {
      "cell_type": "code",
      "metadata": {
        "id": "56jTOu0d26XY"
      },
      "source": [
        ""
      ],
      "execution_count": null,
      "outputs": []
    }
  ]
}