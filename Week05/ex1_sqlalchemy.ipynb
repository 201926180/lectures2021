{
  "nbformat": 4,
  "nbformat_minor": 0,
  "metadata": {
    "colab": {
      "name": "ex1_sqlalchemy.ipynb",
      "provenance": [],
      "collapsed_sections": []
    },
    "kernelspec": {
      "name": "python3",
      "display_name": "Python 3"
    },
    "language_info": {
      "name": "python"
    }
  },
  "cells": [
    {
      "cell_type": "markdown",
      "metadata": {
        "id": "9ziYjbF86UEF"
      },
      "source": [
        "### SQLAlchemy - Introduction\n",
        "\n",
        "Based on the SQLAlchemy <a href=\"https://docs.sqlalchemy.org/en/14/tutorial/\">documentation</a>.\n",
        "\n",
        "SQLAlchemy is presented as two distinct APIs, one building on top of the other. These APIs are known as **Core** and **ORM**:\n",
        "\n",
        "- **SQLAlchemy Core** is the foundational architecture for SQLAlchemy as a *database toolkit*. The library provides tools for managing connectivity to a database, interacting with database queries and results, and programmatic construction of SQL statements.\n",
        "\n",
        "- **SQLAlchemy ORM** builds upon the Core to provide optional *object relational mapping* capabilities. The ORM provides an additional configuration layer allowing user-defined Python classes to be mapped to database tables and other constructs, as well as an object persistence mechanism known as the `Session`. It then extends the Core-level SQL Expression Language to allow SQL queries to be composed and invoked in terms of user-defined objects."
      ]
    },
    {
      "cell_type": "code",
      "metadata": {
        "id": "-jN-dxXl6etW"
      },
      "source": [
        "# Uncomment for installing the SQL Alchemy library.\n",
        "#!pip install sqlalchemy"
      ],
      "execution_count": null,
      "outputs": []
    },
    {
      "cell_type": "code",
      "metadata": {
        "colab": {
          "base_uri": "https://localhost:8080/",
          "height": 35
        },
        "id": "MFF7rHkW6O_L",
        "outputId": "f91e993d-0c27-404a-ff7f-4b6713e06db4"
      },
      "source": [
        "# importing the library\n",
        "import sqlalchemy\n",
        "# checking the version - just for demonstration\n",
        "sqlalchemy.__version__ "
      ],
      "execution_count": null,
      "outputs": [
        {
          "output_type": "execute_result",
          "data": {
            "application/vnd.google.colaboratory.intrinsic+json": {
              "type": "string"
            },
            "text/plain": [
              "'1.4.20'"
            ]
          },
          "metadata": {
            "tags": []
          },
          "execution_count": 2
        }
      ]
    },
    {
      "cell_type": "markdown",
      "metadata": {
        "id": "AH5oWgeT7D2S"
      },
      "source": [
        "### Establishing connectivity - the `Engine`\n",
        "\n",
        "---\n",
        "Any SQLAlchemy application shoudl start with an object called `Engine`. This object acts as a central source of connections to a particular database, providing both a factory as well as a holding space called `connection pool` for these database connections. \n",
        "\n",
        "The `engine` is typically a global object created just once for a particular database server, and is configured using a URL string which will describe how it should connect to the database host or backend.\n",
        "\n",
        "For this tutorial, we will use an *in-memory-only& SQLite database. This is an easy way to test things without needing to have an actual pre-existing database set up. The Engine is created by using `create_engine()` and passing a string URL with following parameters:\n",
        "\n",
        "- `sqlite`: what kind of database will be used? In this case, the `sqlite` portion above links in SQLAlchemy to an object known as the `dialect`.\n",
        "\n",
        "- `pysqlite`: what DBAPI are we using? The Python DBAPI is a third party driver that SQLAlchemy uses to interact with a particular database. In this case, we’re using `pysqlite`, which represents the `sqlite3` standard library interface for SQLite.\n",
        "\n",
        "- `/:memory:`: how do we locate the database? In this case, our URL includes the phrase `/:memory:`, which indicates that we will be using an in-memory-only database.\n",
        "\n",
        "We also set `echo=True`, which will instruct the Engine to log all of the SQL commands it emits to a Python logger that will write to standard out; and `create_engine.future=True`, so that we make full use of 2.0 style usage.\n"
      ]
    },
    {
      "cell_type": "code",
      "metadata": {
        "id": "0SRRUnF36TEy"
      },
      "source": [
        "from sqlalchemy import create_engine\n",
        "# creating the engine object\n",
        "engine = create_engine(\"sqlite+pysqlite:///:memory:\", echo=True, future=True)"
      ],
      "execution_count": null,
      "outputs": []
    },
    {
      "cell_type": "markdown",
      "metadata": {
        "id": "1nbTYdnI8Y7d"
      },
      "source": [
        "### Working with transactions and the DBAPI\n",
        "---\n",
        "The `Engine` object has two interactive endpoints that can be used for executing transactions: `Connection` and `Result`. When using the ORM, the `Engine` is managed by a <a href=\"https://docs.sqlalchemy.org/en/14/glossary.html#term-facade\">facade</a> object called `Session`, which emphasizes a transactional and SQL execution pattern that is largely identical to that of the `Connection`.\n",
        "\n",
        "### Getting the connection\n",
        "---\n",
        "\n",
        "The `Engine` object provides a unit of connectivity to the database called the `Connection`. When working with the Core directly, the `Connection` object is how all interaction with the database is done. As the Connection represents an open resource against the database, we want to always limit the scope of our use of this object to a specific context, and the best way to do that is by using Python context manager form, also known as the `with` statement. Below we illustrate “Hello World”, using a textual SQL statement. Textual SQL is emitted using a construct called `text()`.\n",
        "\n"
      ]
    },
    {
      "cell_type": "code",
      "metadata": {
        "colab": {
          "base_uri": "https://localhost:8080/"
        },
        "id": "LfjgDAhX6THP",
        "outputId": "2b1346e8-8430-4835-f7d6-608160974f37"
      },
      "source": [
        "from sqlalchemy import text\n",
        "\n",
        "with engine.connect() as conn:\n",
        "  result = conn.execute(text(\"select 'hello world'\"))\n",
        "  print(result.all())"
      ],
      "execution_count": null,
      "outputs": [
        {
          "output_type": "stream",
          "text": [
            "2021-08-13 13:21:21,861 INFO sqlalchemy.engine.Engine BEGIN (implicit)\n",
            "2021-08-13 13:21:21,864 INFO sqlalchemy.engine.Engine select 'hello world'\n",
            "2021-08-13 13:21:21,870 INFO sqlalchemy.engine.Engine [generated in 0.00893s] ()\n",
            "[('hello world',)]\n",
            "2021-08-13 13:21:21,872 INFO sqlalchemy.engine.Engine ROLLBACK\n"
          ],
          "name": "stdout"
        }
      ]
    },
    {
      "cell_type": "markdown",
      "metadata": {
        "id": "X96HUop_Ftwq"
      },
      "source": [
        "The default behavior of the Python DBAPI is that a transaction is always in progress; when the scope of the connection is released, a `ROLLBACK` is emitted to end the transaction. The transaction is not committed automatically; when we want to commit data we normally need to call `Connection.commit()`.\n",
        "\n",
        "**IMPORTANT:** The result of `SELECT` is returned in an object called `Result`, that should be consumed within the *connect* block, i.e. should not be passed along outside of the scope of the connection.\n",
        "\n",
        "### Committing changes\n",
        "---\n",
        "There are two ways of commiting changes to the database when you need to store some data:\n",
        "\n",
        "- `Connection.commit()`: this is known as **commit as you go**. We should emit this command **inside** the block in which we acquired a connection.\n"
      ]
    },
    {
      "cell_type": "code",
      "metadata": {
        "colab": {
          "base_uri": "https://localhost:8080/"
        },
        "id": "I3i4NQSi6TJt",
        "outputId": "b1b56d26-80e9-43e3-a0c6-4868136a590c"
      },
      "source": [
        "# \"commit as you go\"\n",
        "# we are creating a table and inserting some data, then commiting the changes to the database.\n",
        "with engine.connect() as conn:\n",
        "  conn.execute(text(\"CREATE TABLE some_table (x int, y int)\"))\n",
        "  conn.execute(\n",
        "      text(\"INSERT INTO some_table (x, y) VALUES (:x, :y)\"),\n",
        "      [{\"x\": 1, \"y\": 1}, {\"x\": 2, \"y\": 4}]\n",
        "      )\n",
        "  conn.commit()"
      ],
      "execution_count": null,
      "outputs": [
        {
          "output_type": "stream",
          "text": [
            "2021-08-13 13:21:21,890 INFO sqlalchemy.engine.Engine BEGIN (implicit)\n",
            "2021-08-13 13:21:21,891 INFO sqlalchemy.engine.Engine CREATE TABLE some_table (x int, y int)\n",
            "2021-08-13 13:21:21,893 INFO sqlalchemy.engine.Engine [generated in 0.00362s] ()\n",
            "2021-08-13 13:21:21,896 INFO sqlalchemy.engine.Engine INSERT INTO some_table (x, y) VALUES (?, ?)\n",
            "2021-08-13 13:21:21,898 INFO sqlalchemy.engine.Engine [generated in 0.00256s] ((1, 1), (2, 4))\n",
            "2021-08-13 13:21:21,901 INFO sqlalchemy.engine.Engine COMMIT\n"
          ],
          "name": "stdout"
        }
      ]
    },
    {
      "cell_type": "markdown",
      "metadata": {
        "id": "k6EoagWHInuK"
      },
      "source": [
        "- `Engine.begin()`: the *connect* block is defined as a *transaction block* up front. For this mode of operation, we use the `Engine.begin()` method to acquire the connection, rather than the `Engine.connect()` method. This method will both manage the scope of the Connection and also enclose everything inside of a transaction with `COMMIT`` at the end, assuming a successful block, or `ROLLBACK` in case of exception raise. This style may be referred towards as **begin once**."
      ]
    },
    {
      "cell_type": "code",
      "metadata": {
        "colab": {
          "base_uri": "https://localhost:8080/"
        },
        "id": "gwO3xrQr6TML",
        "outputId": "3b5ac2fb-3ca5-4cce-bc3b-53a253d6bf59"
      },
      "source": [
        "# \"begin once\"\n",
        "# the connection block is implicitly treated as a transaction\n",
        "with engine.begin() as conn:\n",
        "  conn.execute(\n",
        "      text(\"INSERT INTO some_table (x, y) VALUES (:x, :y)\"),\n",
        "      [{\"x\": 6, \"y\": 8}, {\"x\": 9, \"y\": 10}]\n",
        "  )"
      ],
      "execution_count": null,
      "outputs": [
        {
          "output_type": "stream",
          "text": [
            "2021-08-13 13:21:21,921 INFO sqlalchemy.engine.Engine BEGIN (implicit)\n",
            "2021-08-13 13:21:21,924 INFO sqlalchemy.engine.Engine INSERT INTO some_table (x, y) VALUES (?, ?)\n",
            "2021-08-13 13:21:21,926 INFO sqlalchemy.engine.Engine [cached since 0.02972s ago] ((6, 8), (9, 10))\n",
            "2021-08-13 13:21:21,928 INFO sqlalchemy.engine.Engine COMMIT\n"
          ],
          "name": "stdout"
        }
      ]
    },
    {
      "cell_type": "markdown",
      "metadata": {
        "id": "ODBtARH2KA_t"
      },
      "source": [
        "### Fetching rows\n",
        "---\n",
        "\n",
        "We’ll first illustrate the `Result` object more closely by making use of the rows we’ve inserted previously, running a textual `SELECT` statement on the table we’ve created."
      ]
    },
    {
      "cell_type": "code",
      "metadata": {
        "colab": {
          "base_uri": "https://localhost:8080/"
        },
        "id": "xRWsrU_jKIqd",
        "outputId": "f106fc27-0564-4185-bcdf-b06a94ee5f1f"
      },
      "source": [
        "with engine.connect() as conn:\n",
        "  result = conn.execute(text(\"SELECT x, y FROM some_table\"))\n",
        "  for row in result:\n",
        "    print(f\"x: {row.x}  y: {row.y}\")"
      ],
      "execution_count": null,
      "outputs": [
        {
          "output_type": "stream",
          "text": [
            "2021-08-13 13:21:21,953 INFO sqlalchemy.engine.Engine BEGIN (implicit)\n",
            "2021-08-13 13:21:21,955 INFO sqlalchemy.engine.Engine SELECT x, y FROM some_table\n",
            "2021-08-13 13:21:21,957 INFO sqlalchemy.engine.Engine [generated in 0.00454s] ()\n",
            "x: 1  y: 1\n",
            "x: 2  y: 4\n",
            "x: 6  y: 8\n",
            "x: 9  y: 10\n",
            "2021-08-13 13:21:21,960 INFO sqlalchemy.engine.Engine ROLLBACK\n"
          ],
          "name": "stdout"
        }
      ]
    },
    {
      "cell_type": "markdown",
      "metadata": {
        "id": "cCLBiVByKoNL"
      },
      "source": [
        "Noticed that the `Result` object returned by the `SELECT` command is an iterable Python object of result rows (i.e., it implements the iterator interface so that we can iterate over the collection of Row objects directly.\n",
        "\n",
        "`Result` has lots of methods for fetching and transforming rows, such as the `Result.all()` method, which returns a list of all Row objects. \n",
        "\n",
        "The `Row objects` themselves are intended to act like Python `named tuples`, so we have a variety of ways to access them:\n",
        "\n",
        "- **Tuple Assignment:** this is the most Python-idiomatic style, which is to assign variables to each row positionally as they are received.\n",
        "\n",
        "- **Integer Index:** tuples are Python sequences, so regular integer access is available too.\n",
        "\n",
        "- **Attribute Name:** as these are Python named tuples, the tuples have dynamic attribute names matching the names of each column. These names are normally the names that the SQL statement assigns to the columns in each row. \n",
        "\n",
        "- **Mapping Access:** to receive rows as Python mapping objects, which is essentially a read-only version of Python’s interface to the common `dict` object, the `Result` may be transformed into a `MappingResult` object using the `Result.mappings()` modifier; this is a result object that yields dictionary-like `RowMapping` objects rather than `Row` objects."
      ]
    },
    {
      "cell_type": "code",
      "metadata": {
        "colab": {
          "base_uri": "https://localhost:8080/"
        },
        "id": "7eGN-aEXKIs8",
        "outputId": "09477fd4-75bf-4a75-f859-d888a2bfa34d"
      },
      "source": [
        "# tuple assignment\n",
        "with engine.connect() as conn:\n",
        "  result = conn.execute(text(\"select x, y from some_table\"))\n",
        "  \n",
        "  for x, y in result.fetchall():\n",
        "    # illustrate use with Python f-strings\n",
        "    print(f\"x: {x}  y: {y}\")"
      ],
      "execution_count": null,
      "outputs": [
        {
          "output_type": "stream",
          "text": [
            "2021-08-13 13:21:21,985 INFO sqlalchemy.engine.Engine BEGIN (implicit)\n",
            "2021-08-13 13:21:21,987 INFO sqlalchemy.engine.Engine select x, y from some_table\n",
            "2021-08-13 13:21:21,988 INFO sqlalchemy.engine.Engine [generated in 0.00281s] ()\n",
            "x: 1  y: 1\n",
            "x: 2  y: 4\n",
            "x: 6  y: 8\n",
            "x: 9  y: 10\n",
            "2021-08-13 13:21:21,992 INFO sqlalchemy.engine.Engine ROLLBACK\n"
          ],
          "name": "stdout"
        }
      ]
    },
    {
      "cell_type": "code",
      "metadata": {
        "colab": {
          "base_uri": "https://localhost:8080/"
        },
        "id": "FCVnGZp6KIvC",
        "outputId": "91a974c2-dfe9-4c9e-82b1-773d03ca8401"
      },
      "source": [
        "# integer index\n",
        "with engine.connect() as conn:\n",
        "  result = conn.execute(text(\"select x, y from some_table\"))\n",
        "  \n",
        "  for row in result:\n",
        "    x = row[0]\n",
        "    print(f\"x: {x}\")"
      ],
      "execution_count": null,
      "outputs": [
        {
          "output_type": "stream",
          "text": [
            "2021-08-13 13:21:22,016 INFO sqlalchemy.engine.Engine BEGIN (implicit)\n",
            "2021-08-13 13:21:22,020 INFO sqlalchemy.engine.Engine select x, y from some_table\n",
            "2021-08-13 13:21:22,022 INFO sqlalchemy.engine.Engine [cached since 0.03698s ago] ()\n",
            "x: 1\n",
            "x: 2\n",
            "x: 6\n",
            "x: 9\n",
            "2021-08-13 13:21:22,024 INFO sqlalchemy.engine.Engine ROLLBACK\n"
          ],
          "name": "stdout"
        }
      ]
    },
    {
      "cell_type": "code",
      "metadata": {
        "colab": {
          "base_uri": "https://localhost:8080/"
        },
        "id": "gybFW88_KIxe",
        "outputId": "e7ccdada-c6b0-4f33-d530-2cbc450e9c4f"
      },
      "source": [
        "# attribute name\n",
        "with engine.connect() as conn:\n",
        "  result = conn.execute(text(\"select x, y from some_table\"))\n",
        "  \n",
        "  for row in result:\n",
        "    y = row.y\n",
        "    print(f\"Row: {row.x} {row.y}\")"
      ],
      "execution_count": null,
      "outputs": [
        {
          "output_type": "stream",
          "text": [
            "2021-08-13 13:21:22,035 INFO sqlalchemy.engine.Engine BEGIN (implicit)\n",
            "2021-08-13 13:21:22,042 INFO sqlalchemy.engine.Engine select x, y from some_table\n",
            "2021-08-13 13:21:22,043 INFO sqlalchemy.engine.Engine [cached since 0.05772s ago] ()\n",
            "Row: 1 1\n",
            "Row: 2 4\n",
            "Row: 6 8\n",
            "Row: 9 10\n",
            "2021-08-13 13:21:22,045 INFO sqlalchemy.engine.Engine ROLLBACK\n"
          ],
          "name": "stdout"
        }
      ]
    },
    {
      "cell_type": "code",
      "metadata": {
        "colab": {
          "base_uri": "https://localhost:8080/"
        },
        "id": "WQHpfPOAPFpM",
        "outputId": "4c76b8d9-4652-40d1-8e7f-efc72ad6e675"
      },
      "source": [
        "# mapping access\n",
        "with engine.connect() as conn:\n",
        "  result = conn.execute(text(\"select x, y from some_table\"))\n",
        "  \n",
        "  for dict_row in result.mappings():\n",
        "    x = dict_row['x']\n",
        "    y = dict_row['y']\n",
        "    print(f\"x: {x}  y: {y}\")"
      ],
      "execution_count": null,
      "outputs": [
        {
          "output_type": "stream",
          "text": [
            "2021-08-13 13:21:22,056 INFO sqlalchemy.engine.Engine BEGIN (implicit)\n",
            "2021-08-13 13:21:22,059 INFO sqlalchemy.engine.Engine select x, y from some_table\n",
            "2021-08-13 13:21:22,060 INFO sqlalchemy.engine.Engine [cached since 0.07467s ago] ()\n",
            "x: 1  y: 1\n",
            "x: 2  y: 4\n",
            "x: 6  y: 8\n",
            "x: 9  y: 10\n",
            "2021-08-13 13:21:22,062 INFO sqlalchemy.engine.Engine ROLLBACK\n"
          ],
          "name": "stdout"
        }
      ]
    },
    {
      "cell_type": "markdown",
      "metadata": {
        "id": "SDYQuv71P5iA"
      },
      "source": [
        "### Parameterized queries\n",
        "\n",
        "The `Connection.execute()` method also accepts parameters, which are referred towards as <a href=\"https://docs.sqlalchemy.org/en/14/glossary.html#term-bound-parameters\">bound parameters</a>. A rudimentary example might be if we wanted to limit our `SELECT` statement only to rows that meet a certain criteria, such as rows where the *y* value were greater than a certain value that is passed in to a function.\n",
        "\n",
        "In order to achieve this such that the SQL statement can remain fixed and that the driver can properly sanitize the value, we add a `WHERE` criteria to our statement that names a new parameter called *y*; the `text()` construct accepts these using a colon format `:y`. The actual value for `:y` is then passed as the second argument to `Connection.execute()` in the form of a dictionary.\n"
      ]
    },
    {
      "cell_type": "code",
      "metadata": {
        "id": "S4E8jxpFP81c",
        "colab": {
          "base_uri": "https://localhost:8080/"
        },
        "outputId": "2592092d-db84-42af-8359-d8c1f23c72dc"
      },
      "source": [
        "# example of parameterized query having only one parameter\n",
        "with engine.connect() as conn:\n",
        "  result = conn.execute(\n",
        "      text(\"SELECT x, y FROM some_table WHERE y > :y\"),\n",
        "      {\"y\": 2} # dict containing the parameter to be passed to the query\n",
        "  )\n",
        "  \n",
        "  for row in result:\n",
        "    print(f\"x: {row.x}  y: {row.y}\")"
      ],
      "execution_count": null,
      "outputs": [
        {
          "output_type": "stream",
          "text": [
            "2021-08-13 13:21:22,073 INFO sqlalchemy.engine.Engine BEGIN (implicit)\n",
            "2021-08-13 13:21:22,076 INFO sqlalchemy.engine.Engine SELECT x, y FROM some_table WHERE y > ?\n",
            "2021-08-13 13:21:22,079 INFO sqlalchemy.engine.Engine [generated in 0.00635s] (2,)\n",
            "x: 2  y: 4\n",
            "x: 6  y: 8\n",
            "x: 9  y: 10\n",
            "2021-08-13 13:21:22,081 INFO sqlalchemy.engine.Engine ROLLBACK\n"
          ],
          "name": "stdout"
        }
      ]
    },
    {
      "cell_type": "markdown",
      "metadata": {
        "id": "tUhdBSp2tx2m"
      },
      "source": [
        "**Multiple parameters**\n",
        "\n",
        "We can send multi parameters to the `Connection.execute()` method by passing a list of dictionaries instead of a single dictionary, thus allowing the single SQL statement to be invoked against each parameter set individually.\n",
        "\n",
        "Behind the scenes, the `Connection` object uses a DBAPI feature known as <a href=\"https://www.python.org/dev/peps/pep-0249/#id18\">cursor.executemany()</a>. This method performs the equivalent operation of invoking the given SQL statement against each parameter set individually. The DBAPI may optimize this operation in a variety of ways, by using prepared statements, or by concatenating the parameter sets into a single SQL statement in some cases.\n",
        "\n",
        "\n"
      ]
    },
    {
      "cell_type": "code",
      "metadata": {
        "colab": {
          "base_uri": "https://localhost:8080/"
        },
        "id": "9yyD1lbVueOK",
        "outputId": "adc3f0ef-8842-45db-e3af-3982818aae2e"
      },
      "source": [
        "# example of multi-parameterized query\n",
        "with engine.connect() as conn:\n",
        "  conn.execute(\n",
        "      text(\"INSERT INTO some_table (x, y) VALUES (:x, :y)\"),\n",
        "      [{\"x\": 11, \"y\": 12}, {\"x\": 13, \"y\": 14}]  # list of dict to be iterated over during the query \n",
        "  )\n",
        "  conn.commit()"
      ],
      "execution_count": null,
      "outputs": [
        {
          "output_type": "stream",
          "text": [
            "2021-08-13 13:21:22,094 INFO sqlalchemy.engine.Engine BEGIN (implicit)\n",
            "2021-08-13 13:21:22,099 INFO sqlalchemy.engine.Engine INSERT INTO some_table (x, y) VALUES (?, ?)\n",
            "2021-08-13 13:21:22,100 INFO sqlalchemy.engine.Engine [cached since 0.2042s ago] ((11, 12), (13, 14))\n",
            "2021-08-13 13:21:22,101 INFO sqlalchemy.engine.Engine COMMIT\n"
          ],
          "name": "stdout"
        }
      ]
    },
    {
      "cell_type": "markdown",
      "metadata": {
        "id": "rIHMkd-GvaRI"
      },
      "source": [
        "**Bundling parameters with a statement**\n",
        "\n",
        "Another example of using **single** parameterized queries is through the `TextClause.bindparams()` method; this is a <a href=\"https://docs.sqlalchemy.org/en/14/glossary.html#term-generative\">generative method</a> that returns a new copy of the SQL construct with additional state added, in this case the parameter values we want to pass along.\n",
        "\n",
        "\n",
        "\n",
        "\n"
      ]
    },
    {
      "cell_type": "code",
      "metadata": {
        "colab": {
          "base_uri": "https://localhost:8080/"
        },
        "id": "7R8Ozvi7vapl",
        "outputId": "317dd071-4466-42ec-a1c6-d22f085153c9"
      },
      "source": [
        "# example of single parameterized query using the bindparams() construct\n",
        "stmt = text(\"SELECT x, y FROM some_table WHERE y > :y ORDER BY x, y\").bindparams(y=6)\n",
        "\n",
        "with engine.connect() as conn:\n",
        "  result = conn.execute(stmt) # the SQL statement to be executed\n",
        "  for row in result:\n",
        "    print(f\"x: {row.x}  y: {row.y}\")"
      ],
      "execution_count": null,
      "outputs": [
        {
          "output_type": "stream",
          "text": [
            "2021-08-13 13:21:22,113 INFO sqlalchemy.engine.Engine BEGIN (implicit)\n",
            "2021-08-13 13:21:22,115 INFO sqlalchemy.engine.Engine SELECT x, y FROM some_table WHERE y > ? ORDER BY x, y\n",
            "2021-08-13 13:21:22,117 INFO sqlalchemy.engine.Engine [generated in 0.00449s] (6,)\n",
            "x: 6  y: 8\n",
            "x: 9  y: 10\n",
            "x: 11  y: 12\n",
            "x: 13  y: 14\n",
            "2021-08-13 13:21:22,118 INFO sqlalchemy.engine.Engine ROLLBACK\n"
          ],
          "name": "stdout"
        }
      ]
    },
    {
      "cell_type": "markdown",
      "metadata": {
        "id": "YdpMu1vkw1aX"
      },
      "source": [
        "### Executing with an ORM Session\n",
        "---\n",
        "The fundamental transactional / database interactive object when using the ORM is called `Session`. In SQLAlchemy, this object is used in a manner very similar to that of the `Connection`, and in fact as the `Session` is used, it refers to a `Connection` internally which it uses to emit SQL. When the `Session` is used with non-ORM constructs, it behaves very similarly to the `Connection`.\n",
        "\n",
        "The `Session` has a few different creational patterns, but here we will illustrate the most basic one that tracks exactly with how the `Connection` is used which is to construct it within a context manager.\n",
        "\n",
        "Compare the next command with the previous one and notice how we changed from `engine.connect() as conn` to `with Session(engine) as session`, and then make use of the `Session.execute()` method just like we do with the `Connection.execute()`."
      ]
    },
    {
      "cell_type": "code",
      "metadata": {
        "colab": {
          "base_uri": "https://localhost:8080/"
        },
        "id": "F6Opg6z2yCE7",
        "outputId": "94fff9c6-ed85-4524-94f1-06caa57392cf"
      },
      "source": [
        "# importing the necessaty library / objects\n",
        "from sqlalchemy.orm import Session\n",
        "\n",
        "stmt = text(\"SELECT x, y FROM some_table WHERE y > :y ORDER BY x, y\").bindparams(y=6)\n",
        "# replacing Connection by Session\n",
        "with Session(engine) as session:\n",
        "  result = session.execute(stmt)\n",
        "  for row in result:\n",
        "    print(f\"x: {row.x}  y: {row.y}\")"
      ],
      "execution_count": null,
      "outputs": [
        {
          "output_type": "stream",
          "text": [
            "2021-08-13 13:21:22,232 INFO sqlalchemy.engine.Engine BEGIN (implicit)\n",
            "2021-08-13 13:21:22,234 INFO sqlalchemy.engine.Engine SELECT x, y FROM some_table WHERE y > ? ORDER BY x, y\n",
            "2021-08-13 13:21:22,238 INFO sqlalchemy.engine.Engine [cached since 0.1252s ago] (6,)\n",
            "x: 6  y: 8\n",
            "x: 9  y: 10\n",
            "x: 11  y: 12\n",
            "x: 13  y: 14\n",
            "2021-08-13 13:21:22,241 INFO sqlalchemy.engine.Engine ROLLBACK\n"
          ],
          "name": "stdout"
        }
      ]
    },
    {
      "cell_type": "markdown",
      "metadata": {
        "id": "R0lC5pvDyt0M"
      },
      "source": [
        "Below, we invoked an `UPDATE` statement using the bound-parameter, “executemany” style of execution introduced earlier, ending the block with a “commit as you go” `Session.commit()` method."
      ]
    },
    {
      "cell_type": "code",
      "metadata": {
        "colab": {
          "base_uri": "https://localhost:8080/"
        },
        "id": "VKEubJqazTqn",
        "outputId": "2c3a3191-93c6-4234-a46d-e930406f15a9"
      },
      "source": [
        "with Session(engine) as session:\n",
        "  result = session.execute(\n",
        "      text(\"UPDATE some_table SET y=:y WHERE x=:x\"),\n",
        "      [{\"x\": 9, \"y\":11}, {\"x\": 13, \"y\": 15}]\n",
        "  )\n",
        "  session.commit()"
      ],
      "execution_count": null,
      "outputs": [
        {
          "output_type": "stream",
          "text": [
            "2021-08-13 13:21:22,256 INFO sqlalchemy.engine.Engine BEGIN (implicit)\n",
            "2021-08-13 13:21:22,265 INFO sqlalchemy.engine.Engine UPDATE some_table SET y=? WHERE x=?\n",
            "2021-08-13 13:21:22,268 INFO sqlalchemy.engine.Engine [generated in 0.00242s] ((11, 9), (15, 13))\n",
            "2021-08-13 13:21:22,272 INFO sqlalchemy.engine.Engine COMMIT\n"
          ],
          "name": "stdout"
        }
      ]
    }
  ]
}