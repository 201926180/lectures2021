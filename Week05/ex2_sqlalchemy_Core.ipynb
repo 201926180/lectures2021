{
  "nbformat": 4,
  "nbformat_minor": 0,
  "metadata": {
    "colab": {
      "name": "ex2_sqlalchemy_Core.ipynb",
      "provenance": [],
      "collapsed_sections": []
    },
    "kernelspec": {
      "name": "python3",
      "display_name": "Python 3"
    },
    "language_info": {
      "name": "python"
    }
  },
  "cells": [
    {
      "cell_type": "markdown",
      "metadata": {
        "id": "9ziYjbF86UEF"
      },
      "source": [
        "### SQLAlchemy - Core API\n",
        "\n",
        "Based on the SQLAlchemy <a href=\"https://docs.sqlalchemy.org/en/14/tutorial/\">documentation</a>.\n",
        "\n",
        "Please, check the [ex1_sqlalchemy.ipynb](ex1_sqlalchemy.ipynb) for an general introduction to the use of SQLAlchemy.\n",
        "\n",
        "---\n",
        "\n",
        "**NOTE:** this code is intended to show hot to use the **Core** API for creating and manipulating databases in SQLAlchemy. In [ex3_sqlalchemy_ORM.ipynb](ex3_sqlalchemy_ORM.ipynb), we discuss how to use the **ORM** API for performing the same tasks. Most of the time, you can choose only one approach to work with databases in SQLAlchemy.\n",
        "\n",
        "---\n",
        "**OPTIONAL**\n",
        "\n",
        "Two sections are labeled **optional** in this notebook. Uncomment them (using `Ctrl`  or `Command + /`) if you want to experiment with hybrid approach and table reflection.\n",
        "\n",
        "There is an **hybrid approach** combining Core and ORM objects. If you want to experiment with that, run the following sections (in this order):\n",
        "- Core: Setting up MetaData with Table objects\n",
        "- Core: Declaring primary and foreign key constraints\n",
        "- [OPTIONAL] Combining Core Table declarations with ORM declarative\n",
        "\n",
        "**Table Reflection** is another way of declaring tables in SQLAlchemy. For experimenting with that, you **should** run the following sections (in this order):\n",
        "- Core - Setting up MetaData with Table objects\n",
        "- Core - Declaring primary and foreign key constraints\n",
        "- [OPTIONAL] Table Reflection \n",
        "\n",
        "Also, remember to **Restart the runtime** every time you change from one approach to another, so you can clean all `Table` objects from the memory-hosted database."
      ]
    },
    {
      "cell_type": "code",
      "metadata": {
        "id": "-jN-dxXl6etW"
      },
      "source": [
        "# Uncomment for installing the SQL Alchemy library.\n",
        "#!pip install sqlalchemy"
      ],
      "execution_count": 1,
      "outputs": []
    },
    {
      "cell_type": "code",
      "metadata": {
        "colab": {
          "base_uri": "https://localhost:8080/",
          "height": 35
        },
        "id": "MFF7rHkW6O_L",
        "outputId": "4d70f0ee-0a79-4ba9-c9dc-9172e77b0960"
      },
      "source": [
        "# importing the library\n",
        "import sqlalchemy\n",
        "# checking the version - just for demonstration\n",
        "sqlalchemy.__version__ "
      ],
      "execution_count": 2,
      "outputs": [
        {
          "output_type": "execute_result",
          "data": {
            "application/vnd.google.colaboratory.intrinsic+json": {
              "type": "string"
            },
            "text/plain": [
              "'1.4.22'"
            ]
          },
          "metadata": {
            "tags": []
          },
          "execution_count": 2
        }
      ]
    },
    {
      "cell_type": "code",
      "metadata": {
        "id": "ufp6sPtp4whI"
      },
      "source": [
        "# importing necessary libraries\n",
        "from sqlalchemy import create_engine\n",
        "\n",
        "# Engine object refering an in-memory SQLite database\n",
        "engine = create_engine(\"sqlite+pysqlite:///:memory:\", echo=True, future=True)"
      ],
      "execution_count": 3,
      "outputs": []
    },
    {
      "cell_type": "markdown",
      "metadata": {
        "id": "AH5oWgeT7D2S"
      },
      "source": [
        "### Database metadata\n",
        "\n",
        "The central element of both SQLAlchemy Core and ORM is the `SQL Expression Language` which allows for fluent, composable construction of SQL queries. The foundation for these queries are Python objects that represent database concepts like `tables` and `columns`. These objects are known collectively as **database metadata**.\n",
        "\n",
        "The most common foundational objects for database metadata in SQLAlchemy are known as `MetaData`, `Table`, and `Column`. \n",
        "\n",
        "This notebook illustrate how these objects are used in a Core-oriented style, following the reference documentation.\n",
        "\n",
        "### Core: Setting up MetaData with Table objects\n",
        "---\n",
        "In a relational database, the basic structure that we create and query from is known as a `table`. In SQLAlchemy, the *table* is represented by a Python object similarly named `Table`.\n",
        "\n",
        "To start using the SQLAlchemy Expression Language, we will want to have `Table` objects  that represent all of the database tables we are interested in working with. Each Table may be **declared**, meaning we explicitly spell out in source code what the table looks like, or may be **reflected**, which means we generate the object based on what’s already present in a particular database. The two approaches can also be blended in many ways.\n",
        "\n",
        "Whether we will declare or reflect our tables, we start out with a collection that will be where we place our tables known as the `MetaData` object. This object is essentially a facade around a Python dictionary that stores a series of `Table` objects keyed to their string name. Constructing this object looks like:\n"
      ]
    },
    {
      "cell_type": "code",
      "metadata": {
        "id": "0SRRUnF36TEy"
      },
      "source": [
        "# importing necessary libraries\n",
        "from sqlalchemy import MetaData\n",
        "\n",
        "# declaring a metadata object (repository) as a module-level variable to store all tables.\n",
        "# this is the recommended standard approach for most applications.\n",
        "metadata = MetaData()"
      ],
      "execution_count": 4,
      "outputs": []
    },
    {
      "cell_type": "markdown",
      "metadata": {
        "id": "1nbTYdnI8Y7d"
      },
      "source": [
        "After declaring the `MetaData` object, we can declare `Table` objects. In this tutorial, we will create a table `user`, which represents the users of a website, and the table `address`, representing a list of email addresses associated with rows in the `user` table. Each `Table` object is referred by a variable in the pplication code.\n"
      ]
    },
    {
      "cell_type": "code",
      "metadata": {
        "id": "LfjgDAhX6THP"
      },
      "source": [
        "# importing necessary libraries\n",
        "from sqlalchemy import Table, Column, Integer, String\n",
        "\n",
        "# creating a table named \"user_account\" and corresponding columns, referred as \"user_table\" in the code.\n",
        "user_table = Table(\n",
        "    \"user_account\",  # table name\n",
        "    metadata,        # metadata (list of columns - name, type and other characteristics)\n",
        "      Column('id', Integer, primary_key=True),  # SQL datatype Integer\n",
        "      Column('name', String(30)),  # SQL datatype String, with length of 30\n",
        "      Column('fullname', String)  # SQL datatype String with no specified length \n",
        "    )"
      ],
      "execution_count": 5,
      "outputs": []
    },
    {
      "cell_type": "markdown",
      "metadata": {
        "id": "X96HUop_Ftwq"
      },
      "source": [
        "The collection of `Column` objects in terms of the parent Table are typically accessed via an associative array located at `Table.c`.\n"
      ]
    },
    {
      "cell_type": "code",
      "metadata": {
        "colab": {
          "base_uri": "https://localhost:8080/"
        },
        "id": "I3i4NQSi6TJt",
        "outputId": "ab1c9dcd-311f-4d31-d976-5e91eb91f04c"
      },
      "source": [
        "# accessing a specific column object\n",
        "user_table.c.name"
      ],
      "execution_count": 6,
      "outputs": [
        {
          "output_type": "execute_result",
          "data": {
            "text/plain": [
              "Column('name', String(length=30), table=<user_account>)"
            ]
          },
          "metadata": {
            "tags": []
          },
          "execution_count": 6
        }
      ]
    },
    {
      "cell_type": "code",
      "metadata": {
        "colab": {
          "base_uri": "https://localhost:8080/"
        },
        "id": "tGlkIXZEkKZY",
        "outputId": "d1607388-7c1e-4758-e54d-641210bcb8a0"
      },
      "source": [
        "# acessing all column objects\n",
        "user_table.c.keys()"
      ],
      "execution_count": 7,
      "outputs": [
        {
          "output_type": "execute_result",
          "data": {
            "text/plain": [
              "['id', 'name', 'fullname']"
            ]
          },
          "metadata": {
            "tags": []
          },
          "execution_count": 7
        }
      ]
    },
    {
      "cell_type": "markdown",
      "metadata": {
        "id": "k6EoagWHInuK"
      },
      "source": [
        "###  Core: Declaring primary and foreign key constraints\n",
        "---\n",
        "\n",
        "The column `id` in the `user_table` is declared as a *primary_key parameter*. The primary key itself is normally declared implicitly and is represented by the `PrimaryKeyConstraint` construct:\n",
        "\n"
      ]
    },
    {
      "cell_type": "code",
      "metadata": {
        "colab": {
          "base_uri": "https://localhost:8080/"
        },
        "id": "gwO3xrQr6TML",
        "outputId": "e41deeb5-cbe5-4653-dc0a-f26f0bf4104f"
      },
      "source": [
        "# checking the primary key attribute\n",
        "user_table.primary_key"
      ],
      "execution_count": 8,
      "outputs": [
        {
          "output_type": "execute_result",
          "data": {
            "text/plain": [
              "PrimaryKeyConstraint(Column('id', Integer(), table=<user_account>, primary_key=True, nullable=False))"
            ]
          },
          "metadata": {
            "tags": []
          },
          "execution_count": 8
        }
      ]
    },
    {
      "cell_type": "markdown",
      "metadata": {
        "id": "ODBtARH2KA_t"
      },
      "source": [
        "We can use a `ForeignKeyConstraint` object that corresponds to a database **foreign key constraint** Below we declare a second table address that will have a foreign key constraint referring to the user table:\n"
      ]
    },
    {
      "cell_type": "code",
      "metadata": {
        "id": "xRWsrU_jKIqd"
      },
      "source": [
        "# importing necessary libraries\n",
        "from sqlalchemy import ForeignKey\n",
        "\n",
        "address_table = Table(\n",
        "    \"address\",   # table name\n",
        "    metadata,    # metadata (list of columns - name, type and other characteristics)\n",
        "      Column('id', Integer, primary_key=True),\n",
        "      Column('user_id', ForeignKey('user_account.id'), nullable=False),  # definition of foreign key (FK), including the NOT NULL constraint\n",
        "      Column('email_address', String, nullable=False)\n",
        "    )"
      ],
      "execution_count": 9,
      "outputs": []
    },
    {
      "cell_type": "markdown",
      "metadata": {
        "id": "cCLBiVByKoNL"
      },
      "source": [
        "###  Core: Emitting DDL to the Database\n",
        "\n",
        "So far, we have an object hierarchy to represent two database tables, starting at the root `MetaData` object, then into two `Table` objects, each of which hold onto a collection of `Column` and `Constraint` objects. This object structure will be at the center of most operations we perform with both Core and ORM going forward.\n",
        "\n",
        "Now, we can emit `CREATE TABLE` statements (or DDL) to our SQLite database so that we can insert and query data from them. We should invoke the `MetaData.create_all()` method on our MetaData, sending it the `Engine` that refers to the target database:\n"
      ]
    },
    {
      "cell_type": "code",
      "metadata": {
        "colab": {
          "base_uri": "https://localhost:8080/"
        },
        "id": "7eGN-aEXKIs8",
        "outputId": "dc340a96-5528-454b-c775-27f2c157b34d"
      },
      "source": [
        "# DDL statement to create all tables\n",
        "metadata.create_all(engine)"
      ],
      "execution_count": 10,
      "outputs": [
        {
          "output_type": "stream",
          "text": [
            "2021-08-16 16:37:38,383 INFO sqlalchemy.engine.Engine BEGIN (implicit)\n",
            "2021-08-16 16:37:38,389 INFO sqlalchemy.engine.Engine PRAGMA main.table_info(\"user_account\")\n",
            "2021-08-16 16:37:38,391 INFO sqlalchemy.engine.Engine [raw sql] ()\n",
            "2021-08-16 16:37:38,394 INFO sqlalchemy.engine.Engine PRAGMA temp.table_info(\"user_account\")\n",
            "2021-08-16 16:37:38,396 INFO sqlalchemy.engine.Engine [raw sql] ()\n",
            "2021-08-16 16:37:38,398 INFO sqlalchemy.engine.Engine PRAGMA main.table_info(\"address\")\n",
            "2021-08-16 16:37:38,400 INFO sqlalchemy.engine.Engine [raw sql] ()\n",
            "2021-08-16 16:37:38,402 INFO sqlalchemy.engine.Engine PRAGMA temp.table_info(\"address\")\n",
            "2021-08-16 16:37:38,403 INFO sqlalchemy.engine.Engine [raw sql] ()\n",
            "2021-08-16 16:37:38,407 INFO sqlalchemy.engine.Engine \n",
            "CREATE TABLE user_account (\n",
            "\tid INTEGER NOT NULL, \n",
            "\tname VARCHAR(30), \n",
            "\tfullname VARCHAR, \n",
            "\tPRIMARY KEY (id)\n",
            ")\n",
            "\n",
            "\n",
            "2021-08-16 16:37:38,409 INFO sqlalchemy.engine.Engine [no key 0.00197s] ()\n",
            "2021-08-16 16:37:38,412 INFO sqlalchemy.engine.Engine \n",
            "CREATE TABLE address (\n",
            "\tid INTEGER NOT NULL, \n",
            "\tuser_id INTEGER NOT NULL, \n",
            "\temail_address VARCHAR NOT NULL, \n",
            "\tPRIMARY KEY (id), \n",
            "\tFOREIGN KEY(user_id) REFERENCES user_account (id)\n",
            ")\n",
            "\n",
            "\n",
            "2021-08-16 16:37:38,414 INFO sqlalchemy.engine.Engine [no key 0.00188s] ()\n",
            "2021-08-16 16:37:38,416 INFO sqlalchemy.engine.Engine COMMIT\n"
          ],
          "name": "stdout"
        }
      ]
    },
    {
      "cell_type": "markdown",
      "metadata": {
        "id": "U29IyCbNpa_Y"
      },
      "source": [
        "`[from documentation]`\n",
        "\n",
        "The DDL create process includes some `PRAGMA` statements that test for the existence of each table before emitting a `CREATE`. The full series of steps are also included within a `BEGIN/COMMIT` pair to accommodate for transactional DDL.\n",
        "\n",
        "`CREATE` statements are emitted in the correct order, so `FOREIGN KEY` constraints are guaranteed."
      ]
    },
    {
      "cell_type": "markdown",
      "metadata": {
        "id": "-XTTMBZs015p"
      },
      "source": [
        "### [OPTIONAL] Combining Core Table declarations with ORM declarative\n",
        "---\n",
        "\n",
        "This section is **optional**. Uncomment them (using `Ctrl`  or `Command + /`) if you want to experiment with hybrid approach and table reflection.\n",
        "\n",
        "We can make use of the `Table` objects we created directly in conjunction with declarative mapped classes from a `declarative_base()` generated base class. This form is called **hybrid table**, and it consists of assigning an existing table definition to the `.__table__` attribute directly, rather than having the declarative process to generate it.\n",
        "\n",
        "**IMPORTANT:** for the next cell to work, you **should** first run the following sections (in this order):\n",
        "- Core - Setting up MetaData with Table objects\n",
        "- Core - Declaring primary and foreign key constraints\n"
      ]
    },
    {
      "cell_type": "code",
      "metadata": {
        "id": "cNuTKleI1N97"
      },
      "source": [
        "# # importing necessary libraries\n",
        "# from sqlalchemy.orm import declarative_base\n",
        "\n",
        "# # declarative Base class for mapped classes\n",
        "# Base = declarative_base()\n",
        "\n",
        "# # hybrid table using an existing \"user_table\" mapped to class \"User\"\n",
        "# class User(Base):\n",
        "#   # existing table (previously defined in the code)\n",
        "#   __table__ = user_table \n",
        "#   # relationship mapping ONE user to MANY addressess\n",
        "#   # this is optional at this point\n",
        "#   addresses = relationship(\"Address\", back_populates=\"user\")\n",
        "#   # this method returns a descriptive string of the current class' instance\n",
        "#   def __repr__(self):\n",
        "#     return f\"User({self.name!r}, {self.fullname!r})\"\n",
        "\n",
        "# # the same applies to an existing \"address_table\" mapped to class \"Address\"\n",
        "# class Address(Base):\n",
        "#   __table__ = address_table\n",
        "  \n",
        "#   user = relationship(\"User\", back_populates=\"addresses\")\n",
        "  \n",
        "#   def __repr__(self):\n",
        "#     return f\"Address({self.email_address!r})\""
      ],
      "execution_count": 11,
      "outputs": []
    },
    {
      "cell_type": "code",
      "metadata": {
        "id": "CP8bXe0jDSz8"
      },
      "source": [
        "# # checking the Table object associated with a mapped class\n",
        "# User.__table__"
      ],
      "execution_count": 12,
      "outputs": []
    },
    {
      "cell_type": "markdown",
      "metadata": {
        "id": "Xg7Yd4gj2X_b"
      },
      "source": [
        "### [OPTIONAL] Table Reflection\n",
        "---\n",
        "This section is **optional**. Uncomment them (using `Ctrl`  or `Command + /`) if you want to experiment with hybrid approach and table reflection.\n",
        "\n",
        "**Table reflection** refers to the process of generating `Table` and related objects by reading the current state of a database. Whereas in the previous sections we’ve been declaring `Table` objects and then emitting DDL to the database, the reflection process does it in reverse.\n",
        "\n",
        "As an example of reflection, we will create a new object which represents the `some_table` object we created manually in [ex1_sqlalchemy.ipynb](./ex1_sqlalchemy.ipynb). There are again some varieties of how this is performed, however the most basic is i) to construct a Table object, ii) given the name of the table and a MetaData collection to which it will belong, and iii) then instead of indicating individual Column and Constraint objects, pass it the target Engine using the `Table.autoload_with` parameter:"
      ]
    },
    {
      "cell_type": "code",
      "metadata": {
        "id": "hm02-yb32ZK0"
      },
      "source": [
        "# # [from ex1_sqlalchemy.ipynb] creating the \"some_table\" object\n",
        "# from sqlalchemy import text\n",
        "\n",
        "# with engine.connect() as conn:\n",
        "#   conn.execute(text(\"CREATE TABLE some_table (x int, y int)\"))\n",
        "#   conn.execute(\n",
        "#       text(\"INSERT INTO some_table (x, y) VALUES (:x, :y)\"),\n",
        "#       [{\"x\": 1, \"y\": 1}, {\"x\": 2, \"y\": 4}]\n",
        "#       )\n",
        "#   conn.commit()"
      ],
      "execution_count": 13,
      "outputs": []
    },
    {
      "cell_type": "code",
      "metadata": {
        "id": "0zrxk2X94En-"
      },
      "source": [
        "# # using reflection to build the \"some_table\" object from an existing table\n",
        "# some_table = Table(\"some_table\", metadata, autoload_with=engine)"
      ],
      "execution_count": 14,
      "outputs": []
    },
    {
      "cell_type": "code",
      "metadata": {
        "id": "rryryyRO4RLP"
      },
      "source": [
        "# # checking the table structure\n",
        "# some_table"
      ],
      "execution_count": 15,
      "outputs": []
    },
    {
      "cell_type": "markdown",
      "metadata": {
        "id": "DyN-upJRJ7zg"
      },
      "source": [
        "### Core: Inserting Rows \n",
        "---\n",
        "When using Core, a SQL INSERT statement is generated using the `insert()` function - this function generates a new instance of `Insert` which represents an INSERT statement in SQL, that adds new data into a table."
      ]
    },
    {
      "cell_type": "code",
      "metadata": {
        "colab": {
          "base_uri": "https://localhost:8080/"
        },
        "id": "nOxZ0WKxOQ39",
        "outputId": "860ef987-b62e-40a3-db46-5bc7ca7c3bf6"
      },
      "source": [
        "# importing necessary libraries\n",
        "from sqlalchemy import insert\n",
        "\n",
        "# creating the INSERT instance (command) to be executed\n",
        "stmt = insert(user_table).values(name='Spongebob', fullname=\"Spongebob Squarepants\")\n",
        "# checking how the command is translated into SQL - observe the placeholders (:name, :fullname)\n",
        "print(stmt)"
      ],
      "execution_count": 16,
      "outputs": [
        {
          "output_type": "stream",
          "text": [
            "INSERT INTO user_account (name, fullname) VALUES (:name, :fullname)\n"
          ],
          "name": "stdout"
        }
      ]
    },
    {
      "cell_type": "code",
      "metadata": {
        "colab": {
          "base_uri": "https://localhost:8080/"
        },
        "id": "X2K3Qh-WOfY4",
        "outputId": "8e1a6560-1cae-48c5-82b2-0498c5149040"
      },
      "source": [
        "# we can also check a compiled form of the object which includes a database-specific string SQL representation of the statement.\n",
        "compiled = stmt.compile()\n",
        "# placeholders (:name, :fullname) or bound parameters\n",
        "compiled.params"
      ],
      "execution_count": 17,
      "outputs": [
        {
          "output_type": "execute_result",
          "data": {
            "text/plain": [
              "{'fullname': 'Spongebob Squarepants', 'name': 'Spongebob'}"
            ]
          },
          "metadata": {
            "tags": []
          },
          "execution_count": 17
        }
      ]
    },
    {
      "cell_type": "code",
      "metadata": {
        "colab": {
          "base_uri": "https://localhost:8080/"
        },
        "id": "-cFGtaHIOrby",
        "outputId": "26075093-4f8c-42b3-a76c-0cbbcc3a52ad"
      },
      "source": [
        "# executing and commiting the command\n",
        "with engine.connect() as conn:\n",
        "  result = conn.execute(stmt)\n",
        "  conn.commit()"
      ],
      "execution_count": 18,
      "outputs": [
        {
          "output_type": "stream",
          "text": [
            "2021-08-16 16:37:38,539 INFO sqlalchemy.engine.Engine BEGIN (implicit)\n",
            "2021-08-16 16:37:38,542 INFO sqlalchemy.engine.Engine INSERT INTO user_account (name, fullname) VALUES (?, ?)\n",
            "2021-08-16 16:37:38,545 INFO sqlalchemy.engine.Engine [generated in 0.00584s] ('Spongebob', 'Spongebob Squarepants')\n",
            "2021-08-16 16:37:38,548 INFO sqlalchemy.engine.Engine COMMIT\n"
          ],
          "name": "stdout"
        }
      ]
    },
    {
      "cell_type": "markdown",
      "metadata": {
        "id": "HGld3tIaRftV"
      },
      "source": [
        "The INSERT statement does not return any rows, and if only a single row is inserted, it will usually include the ability to return information about column-level default values that were generated during the INSERT of that row, most commonly an integer primary key value.\n",
        "\n",
        "In the above case the first row in a SQLite database will normally return 1 for the first integer primary key value, which we can acquire using the `CursorResult.inserted_primary_key` accessor"
      ]
    },
    {
      "cell_type": "code",
      "metadata": {
        "colab": {
          "base_uri": "https://localhost:8080/"
        },
        "id": "qKqE66dbO5_v",
        "outputId": "dc364239-91a3-4809-ee3f-e3a302be520f"
      },
      "source": [
        "# checking the returning primary key\n",
        "result.inserted_primary_key"
      ],
      "execution_count": 19,
      "outputs": [
        {
          "output_type": "execute_result",
          "data": {
            "text/plain": [
              "(1,)"
            ]
          },
          "metadata": {
            "tags": []
          },
          "execution_count": 19
        }
      ]
    },
    {
      "cell_type": "markdown",
      "metadata": {
        "id": "Z2WOhDraJ74P"
      },
      "source": [
        "**Executemany** behaviour\n",
        "\n",
        "In the previous example, we used the `Insert.values()` method to explicitly create the VALUES clause of the SQL INSERT statement. However the usual way that Insert is used is such that the VALUES clause is generated automatically from the parameters passed to the `Connection.execute()` method.\n",
        "\n",
        "By passing a dictionary or list of dictionaries to the `Connection.execute()` method in conjunction with the Insert construct, the Connection ensures that the column names which are passed will be expressed in the VALUES clause of the Insert construct automatically.\n"
      ]
    },
    {
      "cell_type": "code",
      "metadata": {
        "colab": {
          "base_uri": "https://localhost:8080/"
        },
        "id": "mNPj74_kR3Rj",
        "outputId": "e03ead40-f4bb-40e7-bc74-1ecb18ea644b"
      },
      "source": [
        " # inserting data using the \"executemany\" behaviour\n",
        " # the VALUES clause is automatically derived from a dictionary\n",
        " with engine.connect() as conn:\n",
        "   result = conn.execute(\n",
        "       insert(user_table),\n",
        "       [\n",
        "        # dictionary list of values to be inserted in the table\n",
        "        {\"name\": \"Sandy\", \"fullname\": \"Sandy Cheeks\"},\n",
        "        {\"name\": \"Patrick\", \"fullname\": \"Patrick Star\"}\n",
        "       ]\n",
        "    )\n",
        "   conn.commit()"
      ],
      "execution_count": 20,
      "outputs": [
        {
          "output_type": "stream",
          "text": [
            "2021-08-16 16:37:38,579 INFO sqlalchemy.engine.Engine BEGIN (implicit)\n",
            "2021-08-16 16:37:38,583 INFO sqlalchemy.engine.Engine INSERT INTO user_account (name, fullname) VALUES (?, ?)\n",
            "2021-08-16 16:37:38,588 INFO sqlalchemy.engine.Engine [generated in 0.00883s] (('Sandy', 'Sandy Cheeks'), ('Patrick', 'Patrick Star'))\n",
            "2021-08-16 16:37:38,591 INFO sqlalchemy.engine.Engine COMMIT\n"
          ],
          "name": "stdout"
        }
      ]
    },
    {
      "cell_type": "markdown",
      "metadata": {
        "id": "Gr-n5mieT3xz"
      },
      "source": [
        "`[from documentation]`\n",
        "\n",
        "Below is a more advanced example illustrating how the `Insert.values()` method may be used explicitly while at the same time including for additional VALUES generated from the parameters. A **scalar subquery** is constructed, making use of the `select()` construct, and the parameters used in the subquery are set up using an explicit bound parameter name, established using the `bindparam()` construct.\n",
        "\n",
        "This allows us to add related rows without fetching the primary key identifiers from the `user_table` operation into the application. "
      ]
    },
    {
      "cell_type": "code",
      "metadata": {
        "colab": {
          "base_uri": "https://localhost:8080/"
        },
        "id": "qoMDGNovT4KO",
        "outputId": "206ed0fb-1dbf-4c45-c5a7-f12142669c11"
      },
      "source": [
        "# importing necessary libraries\n",
        "from sqlalchemy import select, bindparam\n",
        "\n",
        "# query to retrieve data from 'user_table\" \n",
        "scalar_subquery = (\n",
        "    select(user_table.c.id).\n",
        "    # bind parameter used in the insert command below\n",
        "    where(user_table.c.name==bindparam('username')).  \n",
        "    scalar_subquery()\n",
        ")\n",
        "\n",
        "with engine.connect() as conn:\n",
        "  result = conn.execute(\n",
        "      insert(address_table).values(user_id=scalar_subquery),\n",
        "      [\n",
        "       # each username is passed to the select above to get the ID from each user\n",
        "       {\"username\": 'Spongebob', \"email_address\": \"spongebob@sqlalchemy.org\"},\n",
        "       {\"username\": 'Sandy', \"email_address\": \"sandy@sqlalchemy.org\"},\n",
        "       {\"username\": 'Sandy', \"email_address\": \"sandy@squirrelpower.org\"},\n",
        "      ]\n",
        "  )\n",
        "  conn.commit()"
      ],
      "execution_count": 21,
      "outputs": [
        {
          "output_type": "stream",
          "text": [
            "2021-08-16 16:37:38,616 INFO sqlalchemy.engine.Engine BEGIN (implicit)\n",
            "2021-08-16 16:37:38,618 INFO sqlalchemy.engine.Engine INSERT INTO address (user_id, email_address) VALUES ((SELECT user_account.id \n",
            "FROM user_account \n",
            "WHERE user_account.name = ?), ?)\n",
            "2021-08-16 16:37:38,621 INFO sqlalchemy.engine.Engine [generated in 0.00511s] (('Spongebob', 'spongebob@sqlalchemy.org'), ('Sandy', 'sandy@sqlalchemy.org'), ('Sandy', 'sandy@squirrelpower.org'))\n",
            "2021-08-16 16:37:38,626 INFO sqlalchemy.engine.Engine COMMIT\n"
          ],
          "name": "stdout"
        }
      ]
    },
    {
      "cell_type": "code",
      "metadata": {
        "colab": {
          "base_uri": "https://localhost:8080/"
        },
        "id": "Znhqpht0WcMC",
        "outputId": "0048a10a-4d5c-41b6-8a53-71acee1b21a6"
      },
      "source": [
        "# OPTIONAL - just to check the rows inserted into the \"address\" table\n",
        "from sqlalchemy import text\n",
        "\n",
        "with engine.connect() as conn:\n",
        "  result = conn.execute(text(\"SELECT * FROM address\"))\n",
        "  conn.commit()\n",
        "\n",
        "for row in result:\n",
        "  print(f\"ID:\", row.id, \"User ID:\", row.user_id, \"Email:\", row.email_address)"
      ],
      "execution_count": 22,
      "outputs": [
        {
          "output_type": "stream",
          "text": [
            "2021-08-16 16:37:38,661 INFO sqlalchemy.engine.Engine BEGIN (implicit)\n",
            "2021-08-16 16:37:38,666 INFO sqlalchemy.engine.Engine SELECT * FROM address\n",
            "2021-08-16 16:37:38,668 INFO sqlalchemy.engine.Engine [generated in 0.00643s] ()\n",
            "2021-08-16 16:37:38,670 INFO sqlalchemy.engine.Engine COMMIT\n",
            "ID: 1 User ID: 1 Email: spongebob@sqlalchemy.org\n",
            "ID: 2 User ID: 2 Email: sandy@sqlalchemy.org\n",
            "ID: 3 User ID: 2 Email: sandy@squirrelpower.org\n"
          ],
          "name": "stdout"
        }
      ]
    },
    {
      "cell_type": "markdown",
      "metadata": {
        "id": "ZwVEXEbhY48w"
      },
      "source": [
        "**INSERT...FROM.SELECT()**\n",
        "\n",
        "The `Insert` construct can compose an INSERT that gets rows directly from a SELECT using the `Insert.from_select()` method."
      ]
    },
    {
      "cell_type": "code",
      "metadata": {
        "colab": {
          "base_uri": "https://localhost:8080/"
        },
        "id": "v3R3ZYiFZD7o",
        "outputId": "91f5bdeb-10b3-42c2-a651-6a32fe12030d"
      },
      "source": [
        "# SELECT command to fetch rows from an existing table...\n",
        "select_stmt = select(user_table.c.id, user_table.c.name + \"@aol.com\")\n",
        "#...that will be passed into an INSERT command\n",
        "insert_stmt = insert(address_table).from_select(\n",
        "    [\"user_id\", \"email_address\"], select_stmt\n",
        "  )\n",
        "# checking the corresponding SQL commands from the above constructs\n",
        "print(insert_stmt)"
      ],
      "execution_count": 23,
      "outputs": [
        {
          "output_type": "stream",
          "text": [
            "INSERT INTO address (user_id, email_address) SELECT user_account.id, user_account.name || :name_1 AS anon_1 \n",
            "FROM user_account\n"
          ],
          "name": "stdout"
        }
      ]
    },
    {
      "cell_type": "markdown",
      "metadata": {
        "id": "Tn-QAhqpZ342"
      },
      "source": [
        "**INSERT...RETURNING**\n",
        "\n",
        "The `RETURNING` clause for supported backends is used automatically in order to retrieve the last inserted primary key value as well as the values for server defaults. However the `RETURNING` clause may also be specified explicitly using the `Insert.returning()` method; in this case, the Result object that’s returned when the statement is executed has rows which can be fetched:"
      ]
    },
    {
      "cell_type": "code",
      "metadata": {
        "colab": {
          "base_uri": "https://localhost:8080/"
        },
        "id": "sbd8Xh53Z8SE",
        "outputId": "a81d3721-cb88-49b5-830f-a2b9e8944749"
      },
      "source": [
        "insert_stmt = insert(address_table).returning(address_table.c.id, address_table.c.email_address)\n",
        "print(insert_stmt)"
      ],
      "execution_count": 24,
      "outputs": [
        {
          "output_type": "stream",
          "text": [
            "INSERT INTO address (id, user_id, email_address) VALUES (:id, :user_id, :email_address) RETURNING address.id, address.email_address\n"
          ],
          "name": "stdout"
        }
      ]
    },
    {
      "cell_type": "markdown",
      "metadata": {
        "id": "Slyk-G8daBPs"
      },
      "source": [
        "It can also be combined with `Insert.from_select()`, as in the example below that builds upon the example stated in **INSERT...FROM SELECT**."
      ]
    },
    {
      "cell_type": "code",
      "metadata": {
        "colab": {
          "base_uri": "https://localhost:8080/"
        },
        "id": "LtOzz8NjaBdk",
        "outputId": "6954f3f5-1abd-47bc-94fb-04c308d8faa6"
      },
      "source": [
        "select_stmt = select(user_table.c.id, user_table.c.name + \"@aol.com\")\n",
        "\n",
        "insert_stmt = insert(address_table).from_select(\n",
        "    [\"user_id\", \"email_address\"], select_stmt\n",
        "  )\n",
        "print(insert_stmt.returning(address_table.c.id, address_table.c.email_address))"
      ],
      "execution_count": 25,
      "outputs": [
        {
          "output_type": "stream",
          "text": [
            "INSERT INTO address (user_id, email_address) SELECT user_account.id, user_account.name || :name_1 AS anon_1 \n",
            "FROM user_account RETURNING address.id, address.email_address\n"
          ],
          "name": "stdout"
        }
      ]
    },
    {
      "cell_type": "markdown",
      "metadata": {
        "id": "-CWWEqdWkcuI"
      },
      "source": [
        "### Core: Selecting rows\n",
        "---\n",
        "For both Core and ORM, the `select()` function generates a `Select` construct which is used for all SELECT queries. Passed to the method `Connection.execute()` in Core, a SELECT statement is emitted in the current transaction and the result rows available via the returned `Result` object.\n",
        "\n",
        "The `select()` construct builds up a statement in the same way as that of `insert()`, using a *generative approach* where each method builds more state onto the object. Like the other SQL constructs, it can be stringified in place:"
      ]
    },
    {
      "cell_type": "code",
      "metadata": {
        "colab": {
          "base_uri": "https://localhost:8080/"
        },
        "id": "NDUGXA1lkyLu",
        "outputId": "f9930449-b572-4d29-c1d2-0815c60f9f1a"
      },
      "source": [
        "# importing necessary libraries\n",
        "from sqlalchemy import select\n",
        "\n",
        "# writing the SELECT statement...\n",
        "stmt = select(user_table).where(user_table.c.name == 'Spongebob')\n",
        "#... and checking its translation into SQLite\n",
        "# Observe the use of placeholders (:name_1)\n",
        "print(stmt)"
      ],
      "execution_count": 26,
      "outputs": [
        {
          "output_type": "stream",
          "text": [
            "SELECT user_account.id, user_account.name, user_account.fullname \n",
            "FROM user_account \n",
            "WHERE user_account.name = :name_1\n"
          ],
          "name": "stdout"
        }
      ]
    },
    {
      "cell_type": "markdown",
      "metadata": {
        "id": "76pRIqSqlb4s"
      },
      "source": [
        "As all other statement-level SQL constructs, to *run* the statement we pass it to an execution method. Since a SELECT statement returns rows we can always iterate the result object to get `Row` objects back:"
      ]
    },
    {
      "cell_type": "code",
      "metadata": {
        "colab": {
          "base_uri": "https://localhost:8080/"
        },
        "id": "JBJoDVEBlcny",
        "outputId": "324319f4-ebb7-4f21-db90-d1b67e2c0add"
      },
      "source": [
        "# executing the SELECT statement through the connection\n",
        "with engine.connect() as conn:\n",
        "  # execute the statement and iterate over the returning rows (cursor)\n",
        "  for row in conn.execute(stmt):\n",
        "    print(row)"
      ],
      "execution_count": 27,
      "outputs": [
        {
          "output_type": "stream",
          "text": [
            "2021-08-16 16:37:38,761 INFO sqlalchemy.engine.Engine BEGIN (implicit)\n",
            "2021-08-16 16:37:38,764 INFO sqlalchemy.engine.Engine SELECT user_account.id, user_account.name, user_account.fullname \n",
            "FROM user_account \n",
            "WHERE user_account.name = ?\n",
            "2021-08-16 16:37:38,767 INFO sqlalchemy.engine.Engine [generated in 0.00593s] ('Spongebob',)\n",
            "(1, 'Spongebob', 'Spongebob Squarepants')\n",
            "2021-08-16 16:37:38,771 INFO sqlalchemy.engine.Engine ROLLBACK\n"
          ],
          "name": "stdout"
        }
      ]
    },
    {
      "cell_type": "markdown",
      "metadata": {
        "id": "bfJHNejOnwWC"
      },
      "source": [
        "**Setting the COLUMNS and FROM clause**\n",
        "\n",
        "The `select()` function accepts positional elements representing any number of Column and/or Table expressions, as well as a wide range of compatible objects, which are resolved into a list of SQL expressions to be SELECTed from that will be returned as columns in the result set. These elements also serve in simpler cases to create the FROM clause, which is inferred from the columns and table-like expressions passed:"
      ]
    },
    {
      "cell_type": "code",
      "metadata": {
        "colab": {
          "base_uri": "https://localhost:8080/"
        },
        "id": "7ezHJ3mFnfpm",
        "outputId": "35411d6a-e436-42ba-8542-f8880203aa36"
      },
      "source": [
        "# the basic SELECT statement for any Table object\n",
        "print(select(user_table))"
      ],
      "execution_count": 28,
      "outputs": [
        {
          "output_type": "stream",
          "text": [
            "SELECT user_account.id, user_account.name, user_account.fullname \n",
            "FROM user_account\n"
          ],
          "name": "stdout"
        }
      ]
    },
    {
      "cell_type": "markdown",
      "metadata": {
        "id": "sZ3msoPyoAkv"
      },
      "source": [
        "Individual columns can be accessed from the `Table.c` **accessor** and can be sent directly; the FROM clause will be inferred as the set of all Table and other FromClause objects that are represented by those columns:"
      ]
    },
    {
      "cell_type": "code",
      "metadata": {
        "colab": {
          "base_uri": "https://localhost:8080/"
        },
        "id": "nxGF2Lcyno_7",
        "outputId": "cd22d6a0-7fcd-43a6-b84c-9c722a476e46"
      },
      "source": [
        "# accessing specific colums in the SELECT statement\n",
        "print(select(user_table.c.name, user_table.c.fullname))"
      ],
      "execution_count": 29,
      "outputs": [
        {
          "output_type": "stream",
          "text": [
            "SELECT user_account.name, user_account.fullname \n",
            "FROM user_account\n"
          ],
          "name": "stdout"
        }
      ]
    },
    {
      "cell_type": "markdown",
      "metadata": {
        "id": "-NtgNmc4ojnh"
      },
      "source": [
        "**Selecting from labeled SQL Expressions**\n",
        "\n",
        "The `ColumnElement.label()` method provides a SQL label of a column or expression, allowing it to have a specific name in a result set. This can be helpful when referring to arbitrary SQL expressions in a result row by name:"
      ]
    },
    {
      "cell_type": "code",
      "metadata": {
        "colab": {
          "base_uri": "https://localhost:8080/"
        },
        "id": "qYAmLcIEou5D",
        "outputId": "52bcc67a-0bae-4f72-93f7-7e8a290d9d0e"
      },
      "source": [
        "# importing necessary libraries\n",
        "from sqlalchemy import func, cast\n",
        "\n",
        "# SELECT statement with labeled column\n",
        "stmt = (\n",
        "    select(\n",
        "        (\"Username: \" + user_table.c.name).label(\"username\"), # column label\n",
        "    ).order_by(user_table.c.name)\n",
        ")\n",
        "\n",
        "# executing the SELECT statement through the connection\n",
        "with engine.connect() as conn:\n",
        "  # execute the statement and iterate over the returning rows (cursor)\n",
        "  for row in conn.execute(stmt):\n",
        "    # using the label \"username\" to print the results\n",
        "    print(f\"{row.username}\")"
      ],
      "execution_count": 30,
      "outputs": [
        {
          "output_type": "stream",
          "text": [
            "2021-08-16 16:37:38,819 INFO sqlalchemy.engine.Engine BEGIN (implicit)\n",
            "2021-08-16 16:37:38,824 INFO sqlalchemy.engine.Engine SELECT ? || user_account.name AS username \n",
            "FROM user_account ORDER BY user_account.name\n",
            "2021-08-16 16:37:38,826 INFO sqlalchemy.engine.Engine [generated in 0.00733s] ('Username: ',)\n",
            "Username: Patrick\n",
            "Username: Sandy\n",
            "Username: Spongebob\n",
            "2021-08-16 16:37:38,830 INFO sqlalchemy.engine.Engine ROLLBACK\n"
          ],
          "name": "stdout"
        }
      ]
    },
    {
      "cell_type": "markdown",
      "metadata": {
        "id": "K__wc9CEqcho"
      },
      "source": [
        "**Selecting with Textual Column Expressions**\n",
        "\n",
        "Sometimes there is a need to manufacture arbitrary SQL blocks inside of statements, such as constant string expressions, or just some arbitrary SQL that’s quicker to write literally.\n",
        "\n",
        "The `text()` and `literal_column()` constructs can in fact be embedded into a Select construct directly, such as below where we manufacture a hardcoded string literal 'some label' and embed it within the SELECT statement:"
      ]
    },
    {
      "cell_type": "code",
      "metadata": {
        "colab": {
          "base_uri": "https://localhost:8080/"
        },
        "id": "aK7f8Y2Eq7nu",
        "outputId": "b864f6b5-8dfe-450b-8580-262d6506b45d"
      },
      "source": [
        "from sqlalchemy import text\n",
        "\n",
        "stmt = (\n",
        "    select(\n",
        "        text(\"'some phrase'\"), user_table.c.name\n",
        "    ).order_by(user_table.c.name)\n",
        ")\n",
        "\n",
        "with engine.connect() as conn:\n",
        "  print(conn.execute(stmt).all())"
      ],
      "execution_count": 31,
      "outputs": [
        {
          "output_type": "stream",
          "text": [
            "2021-08-16 16:37:38,847 INFO sqlalchemy.engine.Engine BEGIN (implicit)\n",
            "2021-08-16 16:37:38,850 INFO sqlalchemy.engine.Engine SELECT 'some phrase', user_account.name \n",
            "FROM user_account ORDER BY user_account.name\n",
            "2021-08-16 16:37:38,853 INFO sqlalchemy.engine.Engine [generated in 0.00623s] ()\n",
            "[('some phrase', 'Patrick'), ('some phrase', 'Sandy'), ('some phrase', 'Spongebob')]\n",
            "2021-08-16 16:37:38,856 INFO sqlalchemy.engine.Engine ROLLBACK\n"
          ],
          "name": "stdout"
        }
      ]
    },
    {
      "cell_type": "code",
      "metadata": {
        "colab": {
          "base_uri": "https://localhost:8080/"
        },
        "id": "ACWVGC0frIdS",
        "outputId": "35481fd2-c568-40c3-8b7b-65b2f33c3a26"
      },
      "source": [
        "from sqlalchemy import literal_column\n",
        "\n",
        "stmt = (\n",
        "    select(\n",
        "        literal_column(\"'another phrase'\").label(\"p\"), user_table.c.name\n",
        "    ).order_by(user_table.c.name)\n",
        ")\n",
        "\n",
        "with engine.connect() as conn:\n",
        "  for row in conn.execute(stmt):\n",
        "    print(f\"{row.p}, {row.name}\")"
      ],
      "execution_count": 32,
      "outputs": [
        {
          "output_type": "stream",
          "text": [
            "2021-08-16 16:37:38,876 INFO sqlalchemy.engine.Engine BEGIN (implicit)\n",
            "2021-08-16 16:37:38,879 INFO sqlalchemy.engine.Engine SELECT 'another phrase' AS p, user_account.name \n",
            "FROM user_account ORDER BY user_account.name\n",
            "2021-08-16 16:37:38,881 INFO sqlalchemy.engine.Engine [generated in 0.00492s] ()\n",
            "another phrase, Patrick\n",
            "another phrase, Sandy\n",
            "another phrase, Spongebob\n",
            "2021-08-16 16:37:38,884 INFO sqlalchemy.engine.Engine ROLLBACK\n"
          ],
          "name": "stdout"
        }
      ]
    },
    {
      "cell_type": "markdown",
      "metadata": {
        "id": "ag7TN_VVHk0x"
      },
      "source": [
        "**The WHERE clause**\n",
        "\n",
        "Conditional clauses can be composed using standard Python operators, as exemplified below. For boolean expressions, most Python operators such as `==`, `!=`, `<`, `>=` etc. generate new SQL Expression objects, rather than plain boolean `True/False` values:"
      ]
    },
    {
      "cell_type": "code",
      "metadata": {
        "colab": {
          "base_uri": "https://localhost:8080/"
        },
        "id": "JlTlId0-H75Y",
        "outputId": "e31add01-9665-49c1-c6c5-572ca73ecdb2"
      },
      "source": [
        "print(user_table.c.name == 'Squidward')"
      ],
      "execution_count": 33,
      "outputs": [
        {
          "output_type": "stream",
          "text": [
            "user_account.name = :name_1\n"
          ],
          "name": "stdout"
        }
      ]
    },
    {
      "cell_type": "code",
      "metadata": {
        "colab": {
          "base_uri": "https://localhost:8080/"
        },
        "id": "yDhm95cwIJEu",
        "outputId": "c4a1d14c-6fc3-4727-882d-7f74b5168fcf"
      },
      "source": [
        "print(address_table.c.user_id > 10)"
      ],
      "execution_count": 34,
      "outputs": [
        {
          "output_type": "stream",
          "text": [
            "address.user_id > :user_id_1\n"
          ],
          "name": "stdout"
        }
      ]
    },
    {
      "cell_type": "markdown",
      "metadata": {
        "id": "M4mGL-WsIR6g"
      },
      "source": [
        "We can use expressions like these to generate the WHERE clause by passing the resulting objects to the `Select.where()` method:"
      ]
    },
    {
      "cell_type": "code",
      "metadata": {
        "colab": {
          "base_uri": "https://localhost:8080/"
        },
        "id": "q2v2xRWMIQYS",
        "outputId": "832c3967-0673-4e28-f2a4-37b9d015dd00"
      },
      "source": [
        "print(select(user_table).where(user_table.c.name == 'Squidward'))"
      ],
      "execution_count": 35,
      "outputs": [
        {
          "output_type": "stream",
          "text": [
            "SELECT user_account.id, user_account.name, user_account.fullname \n",
            "FROM user_account \n",
            "WHERE user_account.name = :name_1\n"
          ],
          "name": "stdout"
        }
      ]
    },
    {
      "cell_type": "markdown",
      "metadata": {
        "id": "tj9yU7VaIiXN"
      },
      "source": [
        "To produce multiple expressions joined by AND, the `Select.where()` method may be invoked any number of times:"
      ]
    },
    {
      "cell_type": "code",
      "metadata": {
        "colab": {
          "base_uri": "https://localhost:8080/"
        },
        "id": "aym_0-p4Igs3",
        "outputId": "dbd8cb7d-64fc-4ce7-ef9d-20687ea6f97a"
      },
      "source": [
        "print(\n",
        "    select(address_table.c.email_address).\n",
        "    where(user_table.c.name == 'Squidward').\n",
        "    where(address_table.c.user_id == user_table.c.id)\n",
        ")"
      ],
      "execution_count": 36,
      "outputs": [
        {
          "output_type": "stream",
          "text": [
            "SELECT address.email_address \n",
            "FROM address, user_account \n",
            "WHERE user_account.name = :name_1 AND address.user_id = user_account.id\n"
          ],
          "name": "stdout"
        }
      ]
    },
    {
      "cell_type": "markdown",
      "metadata": {
        "id": "T1IibSyEKcVn"
      },
      "source": [
        "“AND” and “OR” conjunctions are both available directly using the `and_()` and `or_()` functions, illustrated below in terms of ORM entities:"
      ]
    },
    {
      "cell_type": "code",
      "metadata": {
        "colab": {
          "base_uri": "https://localhost:8080/"
        },
        "id": "U_stkGNPKdSR",
        "outputId": "b4bfd510-ccca-4119-e9db-97d018571418"
      },
      "source": [
        "from sqlalchemy import and_, or_\n",
        "\n",
        "print(\n",
        "    select(address_table.c.email_address).\n",
        "    where(\n",
        "        and_(\n",
        "            or_(user_table.c.name == 'Squidward', user_table.c.name == 'Sandy'),\n",
        "             address_table.c.user_id == user_table.c.id\n",
        "        )\n",
        "    )\n",
        ")"
      ],
      "execution_count": 37,
      "outputs": [
        {
          "output_type": "stream",
          "text": [
            "SELECT address.email_address \n",
            "FROM address, user_account \n",
            "WHERE (user_account.name = :name_1 OR user_account.name = :name_2) AND address.user_id = user_account.id\n"
          ],
          "name": "stdout"
        }
      ]
    },
    {
      "cell_type": "markdown",
      "metadata": {
        "id": "b4MC1OOmMrog"
      },
      "source": [
        "For simple *equality* comparisons against a single entity, there’s also a popular method known as `Select.filter_by()` which accepts keyword arguments that match to column keys. It will filter against the leftmost FROM clause or the last entity joined:"
      ]
    },
    {
      "cell_type": "code",
      "metadata": {
        "colab": {
          "base_uri": "https://localhost:8080/"
        },
        "id": "XpRO_UufMsd7",
        "outputId": "0d55bd0b-aa21-43b3-f41f-220ed66f2343"
      },
      "source": [
        "print(\n",
        "    select(user_table).filter_by(name='Spongebob', fullname='Spongebob Squarepants')\n",
        ")"
      ],
      "execution_count": 38,
      "outputs": [
        {
          "output_type": "stream",
          "text": [
            "SELECT user_account.id, user_account.name, user_account.fullname \n",
            "FROM user_account \n",
            "WHERE user_account.name = :name_1 AND user_account.fullname = :fullname_1\n"
          ],
          "name": "stdout"
        }
      ]
    },
    {
      "cell_type": "markdown",
      "metadata": {
        "id": "FZRgR1iLNI7b"
      },
      "source": [
        "**Explicit FROM clauses and JOINs**\n",
        "\n",
        "The FROM clause is usually inferred based on the expressions that we are setting in the columns clause as well as other elements of the SELECT. If we set a single column from a particular Table in the COLUMNS clause, it puts that Table in the FROM clause as well:"
      ]
    },
    {
      "cell_type": "code",
      "metadata": {
        "colab": {
          "base_uri": "https://localhost:8080/"
        },
        "id": "em7KqaN3N16W",
        "outputId": "0c88e6e4-2b09-43b9-a289-2843f5d4b963"
      },
      "source": [
        "print(select(user_table.c.name))"
      ],
      "execution_count": 39,
      "outputs": [
        {
          "output_type": "stream",
          "text": [
            "SELECT user_account.name \n",
            "FROM user_account\n"
          ],
          "name": "stdout"
        }
      ]
    },
    {
      "cell_type": "markdown",
      "metadata": {
        "id": "fKwdJW2MOZsm"
      },
      "source": [
        "\n",
        "If we use columns from two tables, then we get a comma-separated FROM clause:"
      ]
    },
    {
      "cell_type": "code",
      "metadata": {
        "colab": {
          "base_uri": "https://localhost:8080/"
        },
        "id": "9TrpmB9NODAE",
        "outputId": "0c97f8a8-bc2a-4194-f59e-1e4d25ef0c22"
      },
      "source": [
        "print(select(user_table.c.name, address_table.c.email_address))"
      ],
      "execution_count": 40,
      "outputs": [
        {
          "output_type": "stream",
          "text": [
            "SELECT user_account.name, address.email_address \n",
            "FROM user_account, address\n"
          ],
          "name": "stdout"
        }
      ]
    },
    {
      "cell_type": "markdown",
      "metadata": {
        "id": "5FpS2fBLOg8I"
      },
      "source": [
        "**Joining tables**\n",
        "\n",
        "In order to JOIN these two tables together, we typically use one of **two methods** on SELECT.\n",
        "\n",
        "The first is the `Select.join_from()` method, which allows us to indicate the left and right side of the JOIN explicitly:"
      ]
    },
    {
      "cell_type": "code",
      "metadata": {
        "colab": {
          "base_uri": "https://localhost:8080/"
        },
        "id": "TheWplmeOkGQ",
        "outputId": "625411ce-7047-49bc-c5bd-048965cf46f8"
      },
      "source": [
        "print(\n",
        "    select(user_table.c.name, address_table.c.email_address).\n",
        "    join_from(user_table, address_table)\n",
        ")"
      ],
      "execution_count": 41,
      "outputs": [
        {
          "output_type": "stream",
          "text": [
            "SELECT user_account.name, address.email_address \n",
            "FROM user_account JOIN address ON user_account.id = address.user_id\n"
          ],
          "name": "stdout"
        }
      ]
    },
    {
      "cell_type": "markdown",
      "metadata": {
        "id": "U8aQGnj9O6tN"
      },
      "source": [
        "The other is the the `Select.join()` method, which indicates only the right side of the JOIN, the left hand-side is inferred:"
      ]
    },
    {
      "cell_type": "code",
      "metadata": {
        "colab": {
          "base_uri": "https://localhost:8080/"
        },
        "id": "KknV1PIOO8Dh",
        "outputId": "1ea1a690-7007-40de-9535-4aa92e8a04cc"
      },
      "source": [
        "print(\n",
        "    select(user_table.c.name, address_table.c.email_address).\n",
        "    join(address_table)\n",
        ")"
      ],
      "execution_count": 42,
      "outputs": [
        {
          "output_type": "stream",
          "text": [
            "SELECT user_account.name, address.email_address \n",
            "FROM user_account JOIN address ON user_account.id = address.user_id\n"
          ],
          "name": "stdout"
        }
      ]
    },
    {
      "cell_type": "markdown",
      "metadata": {
        "id": "bSphDovCRDQl"
      },
      "source": [
        "We also have the option to add elements to the FROM clause explicitly, if it is not inferred the way we want from the columns clause. We use the `Select.select_from()` method to achieve this, as below where we establish `user_table` as the first element in the FROM clause and `Select.join()` to establish `address_table` as the second:"
      ]
    },
    {
      "cell_type": "code",
      "metadata": {
        "colab": {
          "base_uri": "https://localhost:8080/"
        },
        "id": "Bl7svftxRFcg",
        "outputId": "2ab6b10a-67a7-4a33-ee2a-1ed401fdd7b2"
      },
      "source": [
        "print(\n",
        "    select(address_table.c.email_address).\n",
        "    select_from(user_table).join(address_table)\n",
        ")"
      ],
      "execution_count": 43,
      "outputs": [
        {
          "output_type": "stream",
          "text": [
            "SELECT address.email_address \n",
            "FROM user_account JOIN address ON user_account.id = address.user_id\n"
          ],
          "name": "stdout"
        }
      ]
    },
    {
      "cell_type": "markdown",
      "metadata": {
        "id": "aAB2eXmcRexy"
      },
      "source": [
        "Another example where we might want to use `Select.select_from()` is if our columns clause doesn’t have enough information to provide for a FROM clause. For example, to SELECT from the common SQL expression `count(*)`, we use a SQLAlchemy element known as [sqlalchemy.sql.expression.func](https://docs.sqlalchemy.org/en/14/core/sqlelement.html#sqlalchemy.sql.expression.func) to produce the SQL `count()` function:"
      ]
    },
    {
      "cell_type": "code",
      "metadata": {
        "colab": {
          "base_uri": "https://localhost:8080/"
        },
        "id": "9vYFnRgxRfI9",
        "outputId": "36ddca5a-d235-424f-c00d-090e91bb91b3"
      },
      "source": [
        "# importing necessary libraries\n",
        "from sqlalchemy import func\n",
        "\n",
        "print (\n",
        "    select(func.count('*')).select_from(user_table)\n",
        ")"
      ],
      "execution_count": 44,
      "outputs": [
        {
          "output_type": "stream",
          "text": [
            "SELECT count(:count_2) AS count_1 \n",
            "FROM user_account\n"
          ],
          "name": "stdout"
        }
      ]
    },
    {
      "cell_type": "code",
      "metadata": {
        "colab": {
          "base_uri": "https://localhost:8080/"
        },
        "id": "YdwRh91jR3oI",
        "outputId": "972bfc19-6f34-43a7-f287-8a99e1197b4e"
      },
      "source": [
        "# Example use of sqlalchemy.sql.expression.func\n",
        "from sqlalchemy import text\n",
        "\n",
        "with engine.connect() as conn:\n",
        "  result = conn.execute(select(func.count('*')).select_from(user_table))\n",
        "  conn.commit()\n",
        "\n",
        "for row in result:\n",
        "  print(row)"
      ],
      "execution_count": 45,
      "outputs": [
        {
          "output_type": "stream",
          "text": [
            "2021-08-16 16:37:39,091 INFO sqlalchemy.engine.Engine BEGIN (implicit)\n",
            "2021-08-16 16:37:39,095 INFO sqlalchemy.engine.Engine SELECT count(?) AS count_1 \n",
            "FROM user_account\n",
            "2021-08-16 16:37:39,098 INFO sqlalchemy.engine.Engine [generated in 0.00654s] ('*',)\n",
            "2021-08-16 16:37:39,101 INFO sqlalchemy.engine.Engine COMMIT\n",
            "(3,)\n"
          ],
          "name": "stdout"
        }
      ]
    },
    {
      "cell_type": "markdown",
      "metadata": {
        "id": "Tg2eWNUvTS0Y"
      },
      "source": [
        "**Setting the ON Clause**\n",
        "\n",
        "The previous examples of JOIN illustrated that the Select construct can join between two tables and produce the ON clause automatically. This occurs in those examples because the `user_table` and `address_table` Table objects include a single `ForeignKeyConstraint` definition which is used to form this ON clause.\n",
        "\n",
        "If the left and right targets of the join do not have such a constraint, or there are multiple constraints in place, we need to specify the ON clause directly. Both `Select.join()` and `Select.join_from()` accept an additional argument for the ON clause, which is stated using the same SQL Expression mechanics as we saw about in The WHERE clause:"
      ]
    },
    {
      "cell_type": "code",
      "metadata": {
        "colab": {
          "base_uri": "https://localhost:8080/"
        },
        "id": "Y51EJDNwTsLl",
        "outputId": "924ee542-b7dd-4cb9-c2c3-00669522a519"
      },
      "source": [
        "print(\n",
        "    select(address_table.c.email_address).\n",
        "    select_from(user_table).\n",
        "    join(address_table, user_table.c.id == address_table.c.user_id)\n",
        ")"
      ],
      "execution_count": 46,
      "outputs": [
        {
          "output_type": "stream",
          "text": [
            "SELECT address.email_address \n",
            "FROM user_account JOIN address ON user_account.id = address.user_id\n"
          ],
          "name": "stdout"
        }
      ]
    },
    {
      "cell_type": "markdown",
      "metadata": {
        "id": "z772M_FjUj3c"
      },
      "source": [
        "**OUTER and FULL join**\n",
        "\n",
        "Both the `Select.join()` and `Select.join_from()` methods accept keyword arguments `Select.join.isouter` and `Select.join.full` which will render LEFT OUTER JOIN and FULL OUTER JOIN, respectively:\n",
        "\n",
        "Alternativley, there is also a method `Select.outerjoin()` that is equivalent to using `.join(..., isouter=True)`."
      ]
    },
    {
      "cell_type": "code",
      "metadata": {
        "colab": {
          "base_uri": "https://localhost:8080/"
        },
        "id": "3RbvVXYWUt9O",
        "outputId": "e7030333-817d-438f-e3a3-27fcd49afec3"
      },
      "source": [
        "print(\n",
        "    select(user_table).join(address_table, isouter=True)\n",
        ")"
      ],
      "execution_count": 47,
      "outputs": [
        {
          "output_type": "stream",
          "text": [
            "SELECT user_account.id, user_account.name, user_account.fullname \n",
            "FROM user_account LEFT OUTER JOIN address ON user_account.id = address.user_id\n"
          ],
          "name": "stdout"
        }
      ]
    },
    {
      "cell_type": "code",
      "metadata": {
        "colab": {
          "base_uri": "https://localhost:8080/"
        },
        "id": "lzonYRHbVCHZ",
        "outputId": "218ab5ba-168a-445b-9ea2-1c82abf23b27"
      },
      "source": [
        "print(\n",
        "    select(user_table).join(address_table, full=True)\n",
        ")"
      ],
      "execution_count": 48,
      "outputs": [
        {
          "output_type": "stream",
          "text": [
            "SELECT user_account.id, user_account.name, user_account.fullname \n",
            "FROM user_account FULL OUTER JOIN address ON user_account.id = address.user_id\n"
          ],
          "name": "stdout"
        }
      ]
    },
    {
      "cell_type": "markdown",
      "metadata": {
        "id": "5QLcjcAkW1YM"
      },
      "source": [
        "### Core: Aggregate functions\n",
        "---\n",
        "Take a look at the [documentation](https://docs.sqlalchemy.org/en/14/tutorial/data_select.html#tutorial-selecting-data) for aggregation functions such as **HAVING, GROUP BY, ORDER BY**."
      ]
    },
    {
      "cell_type": "markdown",
      "metadata": {
        "id": "0mwnnTJVXjy4"
      },
      "source": [
        "### Core: Subqueries and CTEs\n",
        "---\n",
        "This section will cover a so-called *non-scalar* subquery, which is typically placed in the FROM clause of an enclosing SELECT. We will also cover the *Common Table Expression* (CTE), which is used in a similar way as a subquery, but includes additional features.\n",
        "\n",
        "SQLAlchemy uses `Select.subquery()` and `Select.cte()` methods to represent a subquery and the CTE, respectively. Either objects can be used as a FROM element inside of a larger `select()` construct.\n",
        "\n",
        "Example: we can construct a subquery that will select an aggregate count of rows from the `address table`:"
      ]
    },
    {
      "cell_type": "code",
      "metadata": {
        "colab": {
          "base_uri": "https://localhost:8080/"
        },
        "id": "qknHf9qNXfhj",
        "outputId": "897d9c92-d8e5-462a-c4a2-3942b23c657c"
      },
      "source": [
        "subq = select(\n",
        "    func.count(address_table.c.id).label(\"count\"),\n",
        "    address_table.c.user_id\n",
        "  ).group_by(address_table.c.user_id).subquery()\n",
        "\n",
        "print(subq)"
      ],
      "execution_count": 49,
      "outputs": [
        {
          "output_type": "stream",
          "text": [
            "SELECT count(address.id) AS count, address.user_id \n",
            "FROM address GROUP BY address.user_id\n"
          ],
          "name": "stdout"
        }
      ]
    },
    {
      "cell_type": "code",
      "metadata": {
        "colab": {
          "base_uri": "https://localhost:8080/"
        },
        "id": "i4v8UQ6UYZaZ",
        "outputId": "4a8a087e-120a-4337-f542-6a2c383e682b"
      },
      "source": [
        "print(select(subq.c.user_id, subq.c.count))"
      ],
      "execution_count": 50,
      "outputs": [
        {
          "output_type": "stream",
          "text": [
            "SELECT anon_1.user_id, anon_1.count \n",
            "FROM (SELECT count(address.id) AS count, address.user_id AS user_id \n",
            "FROM address GROUP BY address.user_id) AS anon_1\n"
          ],
          "name": "stdout"
        }
      ]
    },
    {
      "cell_type": "markdown",
      "metadata": {
        "id": "6rdS1V7iYhbz"
      },
      "source": [
        "With a selection of rows contained within the `subq` object, we can apply the object to a larger SELECT that will join the data to the `user_account` table:"
      ]
    },
    {
      "cell_type": "code",
      "metadata": {
        "colab": {
          "base_uri": "https://localhost:8080/"
        },
        "id": "spBGl08_YgYH",
        "outputId": "ece45ff2-22e5-454c-cfbb-d2f60a02e24d"
      },
      "source": [
        "stmt = select(\n",
        "    user_table.c.name,\n",
        "    user_table.c.fullname,\n",
        "    subq.c.count\n",
        ").join_from(user_table, subq)\n",
        "\n",
        "print(stmt)"
      ],
      "execution_count": 51,
      "outputs": [
        {
          "output_type": "stream",
          "text": [
            "SELECT user_account.name, user_account.fullname, anon_1.count \n",
            "FROM user_account JOIN (SELECT count(address.id) AS count, address.user_id AS user_id \n",
            "FROM address GROUP BY address.user_id) AS anon_1 ON user_account.id = anon_1.user_id\n"
          ],
          "name": "stdout"
        }
      ]
    },
    {
      "cell_type": "markdown",
      "metadata": {
        "id": "y6Bo2n0EY2i7"
      },
      "source": [
        "In order to join from `user_account` to `address`, we made use of the `Select.join_from()` method. As has been illustrated previously, the ON clause of this join was again inferred based on foreign key constraints. Even though a SQL subquery does not itself have any constraints, SQLAlchemy can act upon constraints represented on the columns by determining that the `subq.c.user_id` column is derived from the `address_table.c.user_id` column, which does express a foreign key relationship back to the `user_table.c.id` column which is then used to generate the ON clause."
      ]
    },
    {
      "cell_type": "markdown",
      "metadata": {
        "id": "uBgMkHcaY-Ex"
      },
      "source": [
        "**Common Table Expressions (CTEs)**\n",
        "\n",
        "Usage of the CTE construct in SQLAlchemy is virtually the same as how the Subquery construct is used. By changing the invocation of the `Select.subquery()` method to use `Select.cte()` instead, we can use the resulting object as a FROM element in the same way, but the SQL rendered is the very different common table expression syntax:"
      ]
    },
    {
      "cell_type": "code",
      "metadata": {
        "colab": {
          "base_uri": "https://localhost:8080/"
        },
        "id": "FBLYJY65aMWU",
        "outputId": "c59390ef-7eee-412e-b1a9-3089474fbf72"
      },
      "source": [
        "subq = select(\n",
        "    func.count(address_table.c.id).label(\"count\"),\n",
        "    address_table.c.user_id\n",
        ").group_by(address_table.c.user_id).cte()\n",
        "\n",
        "stmt = select(\n",
        "    user_table.c.name,\n",
        "    user_table.c.fullname,\n",
        "    subq.c.count\n",
        ").join_from(user_table, subq)\n",
        "\n",
        "print(stmt)"
      ],
      "execution_count": 52,
      "outputs": [
        {
          "output_type": "stream",
          "text": [
            "WITH anon_1 AS \n",
            "(SELECT count(address.id) AS count, address.user_id AS user_id \n",
            "FROM address GROUP BY address.user_id)\n",
            " SELECT user_account.name, user_account.fullname, anon_1.count \n",
            "FROM user_account JOIN anon_1 ON user_account.id = anon_1.user_id\n"
          ],
          "name": "stdout"
        }
      ]
    },
    {
      "cell_type": "markdown",
      "metadata": {
        "id": "FZEyBMncasz4"
      },
      "source": [
        "The CTE construct also features the ability to be used in a *recursive* style, and may in more elaborate cases be composed from the RETURNING clause of an INSERT, UPDATE or DELETE statement. The [docstring for CTE](https://docs.sqlalchemy.org/en/14/core/selectable.html#sqlalchemy.sql.expression.CTE) includes details on these additional patterns.\n",
        "\n",
        "In both cases, the subquery and CTE were named at the SQL level using an **anonymous** name. In the Python code, we don’t need to provide these names at all. The object identity of the Subquery or CTE instances serves as the syntactical identity of the object when rendered. A name that will be rendered in the SQL can be provided by passing it as the first argument of the `Select.subquery()` or `Select.cte()` methods."
      ]
    },
    {
      "cell_type": "markdown",
      "metadata": {
        "id": "5XVVPuoUcXJQ"
      },
      "source": [
        "**Scalar and Correlated Subqueries**\n",
        "\n",
        "A **scalar subquery** is a *subquery that returns exactly zero or one row and exactly one column*. The subquery is then used in the COLUMNS or WHERE clause of an enclosing SELECT statement and is different than a regular subquery in that it is not used in the FROM clause. A **correlated subquery** is a *scalar subquery that refers to a table in the enclosing SELECT statement*.\n",
        "\n",
        "SQLAlchemy represents the scalar subquery using the `ScalarSelect` construct, which is part of the `ColumnElement` expression hierarchy, in contrast to the regular subquery which is represented by the `Subquery` construct, which is in the FromClause hierarchy.\n",
        "\n",
        "Scalar subqueries are often, but not necessarily, used with aggregate functions. A scalar subquery is indicated explicitly by making use of the `Select.scalar_subquery()` method as below. It’s default string form when stringified by itself renders as an ordinary SELECT statement that is selecting from two tables:"
      ]
    },
    {
      "cell_type": "code",
      "metadata": {
        "colab": {
          "base_uri": "https://localhost:8080/"
        },
        "id": "d8aMTkkTcMW2",
        "outputId": "88d9fae8-3ae4-481b-fe58-43ec212bfd9a"
      },
      "source": [
        "subq = select(func.count(address_table.c.id)).\\\n",
        "    where(user_table.c.id == address_table.c.user_id).\\\n",
        "    scalar_subquery()\n",
        "\n",
        "print(subq)"
      ],
      "execution_count": 53,
      "outputs": [
        {
          "output_type": "stream",
          "text": [
            "(SELECT count(address.id) AS count_1 \n",
            "FROM address, user_account \n",
            "WHERE user_account.id = address.user_id)\n"
          ],
          "name": "stdout"
        }
      ]
    },
    {
      "cell_type": "markdown",
      "metadata": {
        "id": "Ci2NqVe9dLyE"
      },
      "source": [
        "The above `subq` object now falls within the `ColumnElement` SQL expression hierarchy, in that it may be used like any other column expression"
      ]
    },
    {
      "cell_type": "code",
      "metadata": {
        "colab": {
          "base_uri": "https://localhost:8080/"
        },
        "id": "oDtct3kRdMC7",
        "outputId": "0dd908df-2477-4c8a-a59e-18b113227903"
      },
      "source": [
        "print(subq == 5)"
      ],
      "execution_count": 54,
      "outputs": [
        {
          "output_type": "stream",
          "text": [
            "(SELECT count(address.id) AS count_1 \n",
            "FROM address, user_account \n",
            "WHERE user_account.id = address.user_id) = :param_1\n"
          ],
          "name": "stdout"
        }
      ]
    },
    {
      "cell_type": "markdown",
      "metadata": {
        "id": "jCGq5TGhdb3r"
      },
      "source": [
        "Although the scalar subquery by itself renders both `user_account` and `address` in its FROM clause when stringified by itself, when embedding it into an enclosing `select()` construct that deals with the user_account table, the user_account table is automatically correlated, meaning it does not render in the FROM clause of the subquery:"
      ]
    },
    {
      "cell_type": "code",
      "metadata": {
        "colab": {
          "base_uri": "https://localhost:8080/"
        },
        "id": "STRvERYyddHf",
        "outputId": "21e6875b-8358-4a40-d327-1949f1578035"
      },
      "source": [
        "stmt = select(user_table.c.name, subq.label(\"address_count\"))\n",
        "print(stmt)"
      ],
      "execution_count": 55,
      "outputs": [
        {
          "output_type": "stream",
          "text": [
            "SELECT user_account.name, (SELECT count(address.id) AS count_1 \n",
            "FROM address \n",
            "WHERE user_account.id = address.user_id) AS address_count \n",
            "FROM user_account\n"
          ],
          "name": "stdout"
        }
      ]
    },
    {
      "cell_type": "markdown",
      "metadata": {
        "id": "amOjaY9Iehqf"
      },
      "source": [
        "Simple correlated subqueries will usually do the right thing that’s desired. However, in the case where the correlation is ambiguous, SQLAlchemy will let us know that more clarity is needed. \n",
        "\n",
        "For example, the following query\n",
        "\n",
        "```\n",
        "stmt = select(\n",
        "    user_table.c.name,\n",
        "    address_table.c.email_address,\n",
        "    subq.label(\"address_count\")\n",
        "    ).\\\n",
        "    join_from(user_table, address_table).\\\n",
        "    order_by(user_table.c.id, address_table.c.id)\n",
        "\n",
        "print(stmt)\n",
        "```\n",
        "\n",
        "will generate an error:\n",
        "\n",
        "```\n",
        "InvalidRequestError: Select statement '<sqlalchemy.sql.selectable.Select object at 0x7fa3b3efd290>' returned \n",
        "no FROM clauses due to auto-correlation; specify correlate(<tables>) to control correlation manually.\n",
        "```\n"
      ]
    },
    {
      "cell_type": "markdown",
      "metadata": {
        "id": "wOCUGhx6e7ze"
      },
      "source": [
        "To specify that the user_table is the one we seek to correlate we specify this using the `ScalarSelect.correlate()` or `ScalarSelect.correlate_except()` methods:"
      ]
    },
    {
      "cell_type": "code",
      "metadata": {
        "id": "iDBVvj3de76q"
      },
      "source": [
        "subq = select(func.count(address_table.c.id)).\\\n",
        "  where(user_table.c.id == address_table.c.user_id).\\\n",
        "  scalar_subquery().correlate(user_table)"
      ],
      "execution_count": 56,
      "outputs": []
    },
    {
      "cell_type": "markdown",
      "metadata": {
        "id": "SUTqcV3ufFRV"
      },
      "source": [
        "The statement then can return the data for this column like any other:"
      ]
    },
    {
      "cell_type": "code",
      "metadata": {
        "colab": {
          "base_uri": "https://localhost:8080/"
        },
        "id": "0msLOkgJfFZq",
        "outputId": "7c314607-5da6-4290-c23c-18727bcbb32f"
      },
      "source": [
        "with engine.connect() as conn:\n",
        "  result = conn.execute(\n",
        "      select(\n",
        "          user_table.c.name,\n",
        "          address_table.c.email_address,\n",
        "          subq.label(\"address_count\")\n",
        "      ).\n",
        "      join_from(user_table, address_table).\n",
        "      order_by(user_table.c.id, address_table.c.id)\n",
        "  )\n",
        "\n",
        "print(result.all())"
      ],
      "execution_count": 57,
      "outputs": [
        {
          "output_type": "stream",
          "text": [
            "2021-08-16 16:37:39,315 INFO sqlalchemy.engine.Engine BEGIN (implicit)\n",
            "2021-08-16 16:37:39,319 INFO sqlalchemy.engine.Engine SELECT user_account.name, address.email_address, (SELECT count(address.id) AS count_1 \n",
            "FROM address \n",
            "WHERE user_account.id = address.user_id) AS address_count \n",
            "FROM user_account JOIN address ON user_account.id = address.user_id ORDER BY user_account.id, address.id\n",
            "2021-08-16 16:37:39,322 INFO sqlalchemy.engine.Engine [generated in 0.00687s] ()\n",
            "2021-08-16 16:37:39,325 INFO sqlalchemy.engine.Engine ROLLBACK\n",
            "[('Spongebob', 'spongebob@sqlalchemy.org', 1), ('Sandy', 'sandy@sqlalchemy.org', 2), ('Sandy', 'sandy@squirrelpower.org', 2)]\n"
          ],
          "name": "stdout"
        }
      ]
    },
    {
      "cell_type": "markdown",
      "metadata": {
        "id": "OmTwVluorhPW"
      },
      "source": [
        "### Core: Updating and deleting rows\n",
        "---\n",
        "The `update()` function generates a new instance of Update which represents an UPDATE statement in SQL.\n",
        "\n",
        "Like the `insert()` construct, there is a *traditional* form of `update()`, which emits UPDATE against a single table at a time and does not return any rows. However some backends support an UPDATE statement that may modify multiple tables at once, and the UPDATE statement also supports RETURNING such that columns contained in matched rows may be returned in the result set.\n",
        "\n",
        "A basic UPDATE looks like:"
      ]
    },
    {
      "cell_type": "code",
      "metadata": {
        "colab": {
          "base_uri": "https://localhost:8080/"
        },
        "id": "XVmlriglt_4R",
        "outputId": "79e2741d-4fcf-49c9-bab0-d84cc5b30b7a"
      },
      "source": [
        "# importing necessary libraries\n",
        "from sqlalchemy import update\n",
        "\n",
        "# defining the UPDATE statement\n",
        "stmt = (\n",
        "    update(user_table).where(user_table.c.name == 'Patrick').\n",
        "    values(fullname='Patrick the Star')\n",
        "  )\n",
        "# checking the corresponding SQLite statement\n",
        "# observe the use of placeholders\n",
        "print(stmt)"
      ],
      "execution_count": 58,
      "outputs": [
        {
          "output_type": "stream",
          "text": [
            "UPDATE user_account SET fullname=:fullname WHERE user_account.name = :name_1\n"
          ],
          "name": "stdout"
        }
      ]
    },
    {
      "cell_type": "markdown",
      "metadata": {
        "id": "oH8EB1w6ugww"
      },
      "source": [
        "The `Update.values()` method controls the contents of the SET elements of the UPDATE statement. This is the same method shared by the `Insert` construct. Parameters can normally be passed using the column names as keyword arguments.\n",
        "\n",
        "UPDATE supports all the major SQL forms of UPDATE, including updates against expressions, where we can make use of `Column` expressions:"
      ]
    },
    {
      "cell_type": "code",
      "metadata": {
        "colab": {
          "base_uri": "https://localhost:8080/"
        },
        "id": "ID8xQkgfuiJY",
        "outputId": "8c04229e-792e-49b1-9d6a-a8621832cad3"
      },
      "source": [
        "# update command to set \"fullname\" as \"Username: <name>. Example: Username: Patrick the Star\"\n",
        "stmt = (\n",
        "    update(user_table).\n",
        "    values(fullname=\"Username: \" + user_table.c.name)\n",
        "  )\n",
        "\n",
        "print(stmt)"
      ],
      "execution_count": 59,
      "outputs": [
        {
          "output_type": "stream",
          "text": [
            "UPDATE user_account SET fullname=(:name_1 || user_account.name)\n"
          ],
          "name": "stdout"
        }
      ]
    },
    {
      "cell_type": "markdown",
      "metadata": {
        "id": "DvsYbxwTvZEV"
      },
      "source": [
        "To support UPDATE in an **executemany** context, where many parameter sets will be invoked against the same statement, the `bindparam()` construct may be used to set up bound parameters; these replace the places that literal values would normally go:"
      ]
    },
    {
      "cell_type": "code",
      "metadata": {
        "colab": {
          "base_uri": "https://localhost:8080/"
        },
        "id": "lP_Dvl9KvZ4N",
        "outputId": "cd85c36e-598e-4a2e-da03-6fddc4e9a422"
      },
      "source": [
        "from sqlalchemy import bindparam\n",
        "\n",
        "stmt = (\n",
        "    update(user_table).\n",
        "    where(user_table.c.name == bindparam('oldname')).\n",
        "    values(name=bindparam('newname'))\n",
        "  )\n",
        "\n",
        "with engine.begin() as conn:\n",
        "  conn.execute(\n",
        "      stmt,\n",
        "      [\n",
        "      {'oldname':'jack', 'newname':'ed'},\n",
        "      {'oldname':'wendy', 'newname':'mary'},\n",
        "      {'oldname':'jim', 'newname':'jake'},\n",
        "      ]\n",
        "  )"
      ],
      "execution_count": 60,
      "outputs": [
        {
          "output_type": "stream",
          "text": [
            "2021-08-16 16:37:39,379 INFO sqlalchemy.engine.Engine BEGIN (implicit)\n",
            "2021-08-16 16:37:39,384 INFO sqlalchemy.engine.Engine UPDATE user_account SET name=? WHERE user_account.name = ?\n",
            "2021-08-16 16:37:39,388 INFO sqlalchemy.engine.Engine [generated in 0.00393s] (('ed', 'jack'), ('mary', 'wendy'), ('jake', 'jim'))\n",
            "2021-08-16 16:37:39,391 INFO sqlalchemy.engine.Engine COMMIT\n"
          ],
          "name": "stdout"
        }
      ]
    },
    {
      "cell_type": "markdown",
      "metadata": {
        "id": "_o0aliyuwD3V"
      },
      "source": [
        "**Correlated updates** \n",
        "\n",
        "An UPDATE statement can make use of rows in other tables by using a *correlated subquery*. A subquery may be used anywhere a column expression might be placed:"
      ]
    },
    {
      "cell_type": "code",
      "metadata": {
        "colab": {
          "base_uri": "https://localhost:8080/"
        },
        "id": "zqlgqWZrwJe-",
        "outputId": "822847e6-a154-423b-8337-f3cfcf3bda66"
      },
      "source": [
        "scalar_subq = (\n",
        "    select(address_table.c.email_address).\n",
        "    where(address_table.c.user_id == user_table.c.id).\n",
        "    order_by(address_table.c.id).\n",
        "    limit(1).\n",
        "    scalar_subquery() # declares 'scalar_subq' as a correlated subquery \n",
        ")\n",
        "\n",
        "# UPDATE command using a correlated subquery (subq)\n",
        "update_stmt = update(user_table).values(fullname=scalar_subq)\n",
        "print(update_stmt)"
      ],
      "execution_count": 61,
      "outputs": [
        {
          "output_type": "stream",
          "text": [
            "UPDATE user_account SET fullname=(SELECT address.email_address \n",
            "FROM address \n",
            "WHERE address.user_id = user_account.id ORDER BY address.id\n",
            " LIMIT :param_1)\n"
          ],
          "name": "stdout"
        }
      ]
    },
    {
      "cell_type": "markdown",
      "metadata": {
        "id": "4YN-X_zIwpjB"
      },
      "source": [
        "The `delete()` function generates a new instance of Delete which represents a DELETE statement in SQL, that will delete rows from a table.\n",
        "\n",
        "The `delete()` statement from an API perspective is very similar to that of the `update()` construct, traditionally returning no rows but allowing for a RETURNING variant on some database backends."
      ]
    },
    {
      "cell_type": "code",
      "metadata": {
        "colab": {
          "base_uri": "https://localhost:8080/"
        },
        "id": "rnxQl219w0Yo",
        "outputId": "f526ddfa-2a36-4bbc-9a45-539df0940fd2"
      },
      "source": [
        "# importing necessary libraries\n",
        "from sqlalchemy import delete\n",
        "\n",
        "# defining the DELETE command\n",
        "stmt = delete(user_table).where(user_table.c.name == 'Patrick')\n",
        "print(stmt)"
      ],
      "execution_count": 62,
      "outputs": [
        {
          "output_type": "stream",
          "text": [
            "DELETE FROM user_account WHERE user_account.name = :name_1\n"
          ],
          "name": "stdout"
        }
      ]
    },
    {
      "cell_type": "markdown",
      "metadata": {
        "id": "XzOGI0-qxL8z"
      },
      "source": [
        "**Getting affected row count from UPDATE and DELETE**\n",
        "\n",
        "Both `Update` and `Delete` support the ability to return the number of rows matched after the statement proceeds, for statements that are invoked using Core Connection, i.e. `Connection.execute()`. Per the caveats mentioned below, this value is available from the `CursorResult.rowcount` attribute:\n"
      ]
    },
    {
      "cell_type": "code",
      "metadata": {
        "colab": {
          "base_uri": "https://localhost:8080/"
        },
        "id": "H0xlXZ6yxbcy",
        "outputId": "9b4bbc9a-f67a-4a02-9646-f80f238b17ee"
      },
      "source": [
        "with engine.begin() as conn:\n",
        "  result = conn.execute(\n",
        "      update(user_table).\n",
        "      values(fullname=\"Patrick McStar\").\n",
        "      where(user_table.c.name == 'Patrick')\n",
        "  )\n",
        "\n",
        "print(f\"Number of affected rows: \", result.rowcount)"
      ],
      "execution_count": 63,
      "outputs": [
        {
          "output_type": "stream",
          "text": [
            "2021-08-16 16:37:39,440 INFO sqlalchemy.engine.Engine BEGIN (implicit)\n",
            "2021-08-16 16:37:39,444 INFO sqlalchemy.engine.Engine UPDATE user_account SET fullname=? WHERE user_account.name = ?\n",
            "2021-08-16 16:37:39,449 INFO sqlalchemy.engine.Engine [generated in 0.00546s] ('Patrick McStar', 'Patrick')\n",
            "2021-08-16 16:37:39,451 INFO sqlalchemy.engine.Engine COMMIT\n",
            "Number of affected rows:  1\n"
          ],
          "name": "stdout"
        }
      ]
    },
    {
      "cell_type": "markdown",
      "metadata": {
        "id": "zchXqA3-x8VH"
      },
      "source": [
        "**Using RETURNING with UPDATE, DELETE**\n",
        "\n",
        "Like the `Insert` construct, `Update` and `Delete` also support the RETURNING clause which is added by using the `Update.returning()` and `Delete.returning()` methods. When these methods are used on a backend that supports RETURNING, selected columns from all rows that match the WHERE criteria of the statement will be returned in the `Result` object as rows that can be iterated:"
      ]
    },
    {
      "cell_type": "code",
      "metadata": {
        "colab": {
          "base_uri": "https://localhost:8080/"
        },
        "id": "aAixvcdtyHcF",
        "outputId": "bd4f75ea-35e8-442a-dcd3-5108d273fefb"
      },
      "source": [
        "update_stmt = (\n",
        "    update(user_table).where(user_table.c.name == 'Patrick').\n",
        "    values(fullname='Patrick the Star').\n",
        "    returning(user_table.c.id, user_table.c.name)\n",
        ")\n",
        "\n",
        "print(update_stmt)"
      ],
      "execution_count": 64,
      "outputs": [
        {
          "output_type": "stream",
          "text": [
            "UPDATE user_account SET fullname=:fullname WHERE user_account.name = :name_1 RETURNING user_account.id, user_account.name\n"
          ],
          "name": "stdout"
        }
      ]
    },
    {
      "cell_type": "code",
      "metadata": {
        "colab": {
          "base_uri": "https://localhost:8080/"
        },
        "id": "NF-Y_nR7yUId",
        "outputId": "e8dd2964-6282-4c15-a35b-8bdc4e8fecfe"
      },
      "source": [
        "delete_stmt = (\n",
        "    delete(user_table).where(user_table.c.name == 'Patrick').\n",
        "    returning(user_table.c.id, user_table.c.name)\n",
        "  )\n",
        "\n",
        "print(delete_stmt)"
      ],
      "execution_count": 65,
      "outputs": [
        {
          "output_type": "stream",
          "text": [
            "DELETE FROM user_account WHERE user_account.name = :name_1 RETURNING user_account.id, user_account.name\n"
          ],
          "name": "stdout"
        }
      ]
    },
    {
      "cell_type": "markdown",
      "metadata": {
        "id": "H6Le5nunzEnd"
      },
      "source": [
        "### Core: Engine disposal\n",
        "---\n",
        "See [documentation](https://docs.sqlalchemy.org/en/13/core/connections.html#translation-of-schema-names), section *Engine Disposal* for further details.\n",
        "\n",
        "`[from documentation]`\n",
        "\n",
        "The `Engine` refers to a connection pool, which means under normal circumstances, there are open database connections present while the `Engine` object is still resident in memory.\n",
        "\n",
        "It is not intended to be created and disposed on a per-connection basis; it is instead a registry that maintains both a pool of connections as well as configurational information about the database and DBAPI in use, as well as some degree of internal caching of per-database resources.\n",
        "\n",
        "However, there are many cases where it is desirable that all connection resources referred to by the Engine be completely closed out. It’s generally not a good idea to rely on Python garbage collection for this to occur for these cases; instead, the Engine can be explicitly disposed using the `Engine.dispose()` method. This disposes of the engine’s underlying connection pool and replaces it with a new one that’s empty. Provided that the Engine is discarded at this point and no longer used, all checked-in connections which it refers to will also be fully closed.\n"
      ]
    },
    {
      "cell_type": "code",
      "metadata": {
        "id": "9DyFhnAjzFK_"
      },
      "source": [
        "# closing the engine and freeing all allocated resources\n",
        "engine.dispose()"
      ],
      "execution_count": 66,
      "outputs": []
    }
  ]
}