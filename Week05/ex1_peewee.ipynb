{
 "cells": [
  {
   "cell_type": "markdown",
   "metadata": {},
   "source": [
    "### Peewee ORM library\n",
    "\n",
    "#### This tutorial is based on http://docs.peewee-orm.com/en/latest/peewee/quickstart.html\n",
    "---\n",
    "\n",
    "Model classes, fields and model instances all map to database concepts:\n",
    "\n",
    "| Object         | Corresponds to… |\n",
    "| :------------: | :-------------: |\n",
    "| Model class    | Database table  |\n",
    "| Field instance | Column on a table |\n",
    "| Model instance | Row in a database table |\n",
    "\n",
    " See example:\n",
    "\n",
    "```\n",
    "class Person(Model):\n",
    "    name = CharField()\n",
    "    birthday = DateField()\n",
    "\n",
    "    class Meta:\n",
    "        database = db # This model uses the \"people.db\" database.\n",
    "```"
   ]
  },
  {
   "cell_type": "code",
   "execution_count": 1,
   "metadata": {},
   "outputs": [],
   "source": [
    "# uncomment this library for installing the library\n",
    "#!pip install peewee"
   ]
  },
  {
   "cell_type": "code",
   "execution_count": 2,
   "metadata": {},
   "outputs": [],
   "source": [
    "# import library\n",
    "from peewee import *"
   ]
  },
  {
   "cell_type": "code",
   "execution_count": 3,
   "metadata": {},
   "outputs": [],
   "source": [
    "# let's begin by creating a database\n",
    "db = SqliteDatabase('people.db')"
   ]
  },
  {
   "cell_type": "code",
   "execution_count": 4,
   "metadata": {},
   "outputs": [],
   "source": [
    "# Peewee will automatically infer the database table name from the name of the class. \n",
    "# You can override the default name by specifying a `table_name` attribute in the inner `“Meta” class` \n",
    "# (alongside the `database` attribute.\n",
    "class Person(Model):\n",
    "    name = CharField()\n",
    "    birthday = DateField()\n",
    "\n",
    "    class Meta:\n",
    "        database = db # This model uses the \"people.db\" database."
   ]
  },
  {
   "cell_type": "markdown",
   "metadata": {},
   "source": [
    "There are lots of field types suitable for storing various types of data. Peewee handles converting between pythonic values and those used by the database, so you can use Python types in your code without having to worry.\n",
    "\n",
    "Things get interesting when we set up **relationships between models** using *foreign key* relationships. "
   ]
  },
  {
   "cell_type": "code",
   "execution_count": 5,
   "metadata": {},
   "outputs": [],
   "source": [
    "# create a second model and expressing a foreign key relationship\n",
    "# have a look at the [documentation](http://docs.peewee-orm.com/en/latest/peewee/models.html#foreignkeyfield-back-references)\n",
    "class Pet(Model):\n",
    "    owner = ForeignKeyField(Person, backref='pets')\n",
    "    name = CharField()\n",
    "    animal_type = CharField()\n",
    "\n",
    "    class Meta:\n",
    "        database = db # this model uses the \"people.db\" database"
   ]
  },
  {
   "cell_type": "code",
   "execution_count": 6,
   "metadata": {},
   "outputs": [],
   "source": [
    "# explicitly connect to the database\n",
    "# not necessary, but recommended for checking connection errors prior to executing any queries\n",
    "db.connect()"
   ]
  },
  {
   "cell_type": "code",
   "execution_count": 7,
   "metadata": {},
   "outputs": [],
   "source": [
    "# # create the tables with the appropriate columns, indexes, sequences, and foreign key constraints\n",
    "db.create_tables([Person, Pet])"
   ]
  },
  {
   "cell_type": "markdown",
   "metadata": {},
   "source": [
    "#### Storing data\n",
    "\n",
    "We can use two methods to insert data into a table (model):\n",
    "- `save()`: it can be used to insert a new row or updating an existing row\n",
    "- `create()`: it can be used to insert a new row and return an instance to that row"
   ]
  },
  {
   "cell_type": "code",
   "execution_count": 8,
   "metadata": {},
   "outputs": [],
   "source": [
    "from datetime import date\n",
    "\n",
    "# inserting data using save()\n",
    "uncle_bob = Person(name='Bob', birthday=date(1960, 1, 15))\n",
    "uncle_bob.save() # Bob is now stored in the database"
   ]
  },
  {
   "cell_type": "code",
   "execution_count": 9,
   "metadata": {},
   "outputs": [],
   "source": [
    "# inserting data using create()\n",
    "grandma = Person.create(name='Grandma', birthday=date(1935, 3, 1))\n",
    "herb = Person.create(name='Herb', birthday=date(1950, 5, 5))"
   ]
  },
  {
   "cell_type": "markdown",
   "metadata": {},
   "source": [
    "#### Updating data"
   ]
  },
  {
   "cell_type": "code",
   "execution_count": 10,
   "metadata": {},
   "outputs": [
    {
     "data": {
      "text/plain": [
       "1"
      ]
     },
     "execution_count": 10,
     "metadata": {},
     "output_type": "execute_result"
    }
   ],
   "source": [
    "# to update a row, modify the model instance and call save() to persist the changes. \n",
    "# Here we will change Grandma’s name and then save the changes in the database:\n",
    "grandma.name = 'Grandma L.'\n",
    "grandma.save()  "
   ]
  },
  {
   "cell_type": "code",
   "execution_count": 11,
   "metadata": {},
   "outputs": [],
   "source": [
    "# now we have stored 3 people in the database. Let’s give them some pets. \n",
    "bob_kitty = Pet.create(owner=uncle_bob, name='Kitty', animal_type='cat')\n",
    "herb_fido = Pet.create(owner=herb, name='Fido', animal_type='dog')\n",
    "herb_mittens = Pet.create(owner=herb, name='Mittens', animal_type='cat')\n",
    "herb_mittens_jr = Pet.create(owner=herb, name='Mittens Jr', animal_type='cat')"
   ]
  },
  {
   "cell_type": "code",
   "execution_count": 12,
   "metadata": {},
   "outputs": [
    {
     "data": {
      "text/plain": [
       "1"
      ]
     },
     "execution_count": 12,
     "metadata": {},
     "output_type": "execute_result"
    }
   ],
   "source": [
    "# if you want to remove some instance\n",
    "herb_mittens.delete_instance() # he had a great life"
   ]
  },
  {
   "cell_type": "code",
   "execution_count": 13,
   "metadata": {},
   "outputs": [
    {
     "data": {
      "text/plain": [
       "1"
      ]
     },
     "execution_count": 13,
     "metadata": {},
     "output_type": "execute_result"
    }
   ],
   "source": [
    "# if you want to reassing some instance (i.e. modify some content)\n",
    "herb_fido.owner = uncle_bob\n",
    "herb_fido.save()"
   ]
  },
  {
   "cell_type": "markdown",
   "metadata": {},
   "source": [
    "### Retrieving/Querying data\n",
    "\n",
    "Let’s retrieve Grandma’s record from the database. To get a single record from the database, use `Select.get()`:"
   ]
  },
  {
   "cell_type": "code",
   "execution_count": 14,
   "metadata": {},
   "outputs": [
    {
     "name": "stdout",
     "output_type": "stream",
     "text": [
      "Name: Grandma L. Birthday: 1935-03-01\n"
     ]
    }
   ],
   "source": [
    "# retrieving one single instance\n",
    "grandma = Person.select().where(Person.name == 'Grandma L.').get()\n",
    "print(\"Name:\", grandma.name, \"Birthday:\", grandma.birthday)"
   ]
  },
  {
   "cell_type": "code",
   "execution_count": 15,
   "metadata": {},
   "outputs": [
    {
     "name": "stdout",
     "output_type": "stream",
     "text": [
      "Name: Grandma L. Birthday: 1935-03-01\n"
     ]
    }
   ],
   "source": [
    "# alternatively, we can use the equivalent shorthand Model.get():\n",
    "grandma = Person.get(Person.name == 'Grandma L.')\n",
    "print(\"Name:\", grandma.name, \"Birthday:\", grandma.birthday)"
   ]
  },
  {
   "cell_type": "code",
   "execution_count": 16,
   "metadata": {},
   "outputs": [
    {
     "name": "stdout",
     "output_type": "stream",
     "text": [
      "Person name: Bob\n",
      "Person name: Grandma L.\n",
      "Person name: Herb\n"
     ]
    }
   ],
   "source": [
    "# we can iterate over all instances of a given model\n",
    "for person in Person.select():\n",
    "    print(\"Person name:\", person.name)"
   ]
  },
  {
   "cell_type": "code",
   "execution_count": 17,
   "metadata": {},
   "outputs": [
    {
     "name": "stdout",
     "output_type": "stream",
     "text": [
      "Kitty Bob\n",
      "Mittens Jr Herb\n"
     ]
    }
   ],
   "source": [
    "# let’s list all the cats and their owner’s name:\n",
    "query = Pet.select().where(Pet.animal_type == 'cat')\n",
    "for pet in query:\n",
    "    print(pet.name, pet.owner.name)"
   ]
  },
  {
   "cell_type": "markdown",
   "metadata": {},
   "source": [
    "According to Peewee documentation, the previous query suffers from the [**N+1 problem**](http://docs.peewee-orm.com/en/latest/peewee/relationships.html#nplusone), which represents an extra table (model) that needs to be queried for retrieving the `pet.owner.name` information. This can be avoided by selecting both Pet and Person, and adding a join."
   ]
  },
  {
   "cell_type": "code",
   "execution_count": 18,
   "metadata": {},
   "outputs": [
    {
     "name": "stdout",
     "output_type": "stream",
     "text": [
      "Pet name: Kitty Owner: Bob\n",
      "Pet name: Mittens Jr Owner: Herb\n"
     ]
    }
   ],
   "source": [
    "query = (Pet\n",
    "         .select(Pet, Person)\n",
    "         .join(Person)\n",
    "         .where(Pet.animal_type == 'cat'))\n",
    "\n",
    "for pet in query:\n",
    "    print(\"Pet name:\", pet.name, \"Owner:\", pet.owner.name)"
   ]
  },
  {
   "cell_type": "code",
   "execution_count": 19,
   "metadata": {},
   "outputs": [
    {
     "name": "stdout",
     "output_type": "stream",
     "text": [
      "Kitty\n",
      "Fido\n"
     ]
    }
   ],
   "source": [
    "# let's retrieve all pets owned by Bob\n",
    "for pet in Pet.select().join(Person).where(Person.name == 'Bob'):\n",
    "    print(pet.name)"
   ]
  },
  {
   "cell_type": "code",
   "execution_count": 20,
   "metadata": {},
   "outputs": [
    {
     "name": "stdout",
     "output_type": "stream",
     "text": [
      "Kitty\n",
      "Fido\n"
     ]
    }
   ],
   "source": [
    "# alternatively, as we already have an object to represent Bob, we can do this instead:\n",
    "for pet in Pet.select().where(Pet.owner == uncle_bob):\n",
    "    print(pet.name)"
   ]
  },
  {
   "cell_type": "markdown",
   "metadata": {},
   "source": [
    "### Sorting\n",
    "\n",
    "Let’s make sure these are sorted alphabetically by adding an `order_by()` clause:"
   ]
  },
  {
   "cell_type": "code",
   "execution_count": 21,
   "metadata": {},
   "outputs": [
    {
     "name": "stdout",
     "output_type": "stream",
     "text": [
      "Fido\n",
      "Kitty\n"
     ]
    }
   ],
   "source": [
    "for pet in Pet.select().where(Pet.owner == uncle_bob).order_by(Pet.name):\n",
    "    print(pet.name)"
   ]
  },
  {
   "cell_type": "code",
   "execution_count": 22,
   "metadata": {},
   "outputs": [
    {
     "name": "stdout",
     "output_type": "stream",
     "text": [
      "Bob 1960-01-15\n",
      "Herb 1950-05-05\n",
      "Grandma L. 1935-03-01\n"
     ]
    }
   ],
   "source": [
    "# let’s list all the people now, youngest to oldest:\n",
    "for person in Person.select().order_by(Person.birthday.desc()):\n",
    "    print(person.name, person.birthday)"
   ]
  },
  {
   "cell_type": "markdown",
   "metadata": {},
   "source": [
    "### Combining filter extensions\n",
    "\n",
    "Peewee supports arbitrarily-nested expressions. Let’s get all the people whose birthday was either:\n",
    "\n",
    "- before 1940 (`grandma`)\n",
    "- after 1959 (`bob`)"
   ]
  },
  {
   "cell_type": "code",
   "execution_count": 23,
   "metadata": {},
   "outputs": [
    {
     "name": "stdout",
     "output_type": "stream",
     "text": [
      "Name: Bob Birthday: 1960-01-15\n",
      "Name: Grandma L. Birthday: 1935-03-01\n"
     ]
    }
   ],
   "source": [
    "d1940 = date(1940, 1, 1)\n",
    "d1960 = date(1960, 1, 1)\n",
    "query = (Person\n",
    "         .select()\n",
    "         .where((Person.birthday < d1940) | (Person.birthday > d1960)))\n",
    "\n",
    "for person in query:\n",
    "    print(\"Name:\", person.name, \"Birthday:\", person.birthday)"
   ]
  },
  {
   "cell_type": "markdown",
   "metadata": {},
   "source": [
    "Now let’s do the opposite. People whose birthday is between 1940 and 1960:"
   ]
  },
  {
   "cell_type": "code",
   "execution_count": 24,
   "metadata": {},
   "outputs": [
    {
     "name": "stdout",
     "output_type": "stream",
     "text": [
      "Herb 1950-05-05\n"
     ]
    }
   ],
   "source": [
    "query = (Person\n",
    "         .select()\n",
    "         .where(Person.birthday.between(d1940, d1960)))\n",
    "\n",
    "for person in query:\n",
    "    print(person.name, person.birthday)"
   ]
  },
  {
   "cell_type": "markdown",
   "metadata": {},
   "source": [
    "### Aggregates and prefetch"
   ]
  },
  {
   "cell_type": "code",
   "execution_count": 25,
   "metadata": {},
   "outputs": [
    {
     "name": "stdout",
     "output_type": "stream",
     "text": [
      "Name: Bob Number of pets: 2 pets\n",
      "Name: Grandma L. Number of pets: 0 pets\n",
      "Name: Herb Number of pets: 1 pets\n"
     ]
    }
   ],
   "source": [
    "# now let’s list all the people and how many pets they have:\n",
    "for person in Person.select():\n",
    "    print(\"Name:\", person.name, \"Number of pets:\", person.pets.count(), 'pets')"
   ]
  },
  {
   "cell_type": "markdown",
   "metadata": {},
   "source": [
    "Once again we’ve run into a classic example of **N+1 query behavior**. In this case, we’re executing an additional query for every `Person` returned by the original SELECT! We can avoid this by performing a JOIN and using a SQL function to aggregate the results.\n",
    "\n",
    "Peewee provides a magical helper `fn()`, which can be used to call any SQL function. In the example below, `fn.COUNT(Pet.id).alias('pet_count')` would be translated into `COUNT(pet.id) AS pet_count`."
   ]
  },
  {
   "cell_type": "code",
   "execution_count": 26,
   "metadata": {},
   "outputs": [
    {
     "name": "stdout",
     "output_type": "stream",
     "text": [
      "Name: Bob Number of pets: 2 pets\n",
      "Name: Grandma L. Number of pets: 0 pets\n",
      "Name: Herb Number of pets: 1 pets\n"
     ]
    }
   ],
   "source": [
    "query = (Person\n",
    "         .select(Person, fn.COUNT(Pet.id).alias('pet_count'))\n",
    "         .join(Pet, JOIN.LEFT_OUTER)  # include people without pets.\n",
    "         .group_by(Person)\n",
    "         .order_by(Person.name))\n",
    "\n",
    "for person in query:\n",
    "    # \"pet_count\" becomes an attribute on the returned model instances.\n",
    "    print(\"Name:\", person.name, \"Number of pets:\", person.pet_count, 'pets')"
   ]
  },
  {
   "cell_type": "markdown",
   "metadata": {},
   "source": [
    "`[from the Peewee documentation]`\n",
    "\n",
    "Now let’s list all the people and the names of all their pets. As you may have guessed, this could easily turn into another **N+1** situation if we’re not careful.\n",
    "\n",
    "Before diving into the code, consider how this example is different from the earlier example where we listed all the pets and their owner’s name. A pet can only have one owner, so when we performed the join from `Pet` to `Person`, there was always going to be a single match. The situation is different when we are joining from `Person` to `Pet` because a person may have zero pets or they may have several pets. Because we’re using a relational databases, if we were to do a join from `Person` to `Pet` then every person with multiple pets would be repeated, once for each pet."
   ]
  },
  {
   "cell_type": "code",
   "execution_count": 27,
   "metadata": {},
   "outputs": [
    {
     "name": "stdout",
     "output_type": "stream",
     "text": [
      "Bob Fido\n",
      "Bob Kitty\n",
      "Grandma L. no pets\n",
      "Herb Mittens Jr\n"
     ]
    }
   ],
   "source": [
    "query = (Person\n",
    "         .select(Person, Pet)\n",
    "         .join(Pet, JOIN.LEFT_OUTER)\n",
    "         .order_by(Person.name, Pet.name))\n",
    "\n",
    "for person in query:\n",
    "    # We need to check if they have a pet instance attached, since not all people have pets.\n",
    "    if hasattr(person, 'pet'):\n",
    "        print(person.name, person.pet.name)\n",
    "    else:\n",
    "        print(person.name, 'no pets')"
   ]
  },
  {
   "cell_type": "markdown",
   "metadata": {},
   "source": [
    "The following example uses a special method called `prefetch()` to accommodate the more common (and intuitive) workflow of listing a person and attaching a list of that person’s pets (and thus avoiding duplicates)."
   ]
  },
  {
   "cell_type": "code",
   "execution_count": 28,
   "metadata": {},
   "outputs": [
    {
     "name": "stdout",
     "output_type": "stream",
     "text": [
      "Bob\n",
      "  * Kitty\n",
      "  * Fido\n",
      "Grandma L.\n",
      "Herb\n",
      "  * Mittens Jr\n"
     ]
    }
   ],
   "source": [
    "query = Person.select().order_by(Person.name).prefetch(Pet)\n",
    "\n",
    "for person in query:\n",
    "    print(person.name)\n",
    "    for pet in person.pets:\n",
    "        print('  *', pet.name)"
   ]
  },
  {
   "cell_type": "markdown",
   "metadata": {},
   "source": [
    "### SQL functions\n",
    "\n",
    "Just an example of how SQL queries can be used. Have a look at the [documentation](http://docs.peewee-orm.com/en/latest/peewee/querying.html#querying) for more complex queries.\n",
    "\n",
    "This will find all people whose names start with either an upper or lower-case G:"
   ]
  },
  {
   "cell_type": "code",
   "execution_count": 29,
   "metadata": {},
   "outputs": [
    {
     "name": "stdout",
     "output_type": "stream",
     "text": [
      "Grandma L.\n"
     ]
    }
   ],
   "source": [
    "expression = fn.Lower(fn.Substr(Person.name, 1, 1)) == 'g'\n",
    "for person in Person.select().where(expression):\n",
    "    print(person.name)"
   ]
  },
  {
   "cell_type": "code",
   "execution_count": 30,
   "metadata": {},
   "outputs": [
    {
     "data": {
      "text/plain": [
       "True"
      ]
     },
     "execution_count": 30,
     "metadata": {},
     "output_type": "execute_result"
    }
   ],
   "source": [
    "# closing the connection\n",
    "db.close()"
   ]
  }
 ],
 "metadata": {
  "kernelspec": {
   "display_name": "Python 3",
   "language": "python",
   "name": "python3"
  },
  "language_info": {
   "codemirror_mode": {
    "name": "ipython",
    "version": 3
   },
   "file_extension": ".py",
   "mimetype": "text/x-python",
   "name": "python",
   "nbconvert_exporter": "python",
   "pygments_lexer": "ipython3",
   "version": "3.8.5"
  }
 },
 "nbformat": 4,
 "nbformat_minor": 4
}
