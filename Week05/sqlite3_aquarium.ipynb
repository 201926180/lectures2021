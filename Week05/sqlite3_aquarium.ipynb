{
 "cells": [
  {
   "cell_type": "markdown",
   "metadata": {},
   "source": [
    "### This code is based on <a href=\"https://www.digitalocean.com/community/tutorials/how-to-use-the-sqlite3-module-in-python-3\">How To Use the sqlite3 Module in Python 3</a>\n",
    "\n",
    "This tutorial simulates an inventory of fish that need to be modified as fish are added to or removed from a fictional aquarium.\n",
    "\n",
    "The main goal of this tutorial is to show how to create a connection to a SQLite database, add a table to that database, insert data into that table, and read and modify data in that table."
   ]
  },
  {
   "cell_type": "code",
   "execution_count": 1,
   "metadata": {},
   "outputs": [],
   "source": [
    "# importing necessary libraries and modules\n",
    "import sqlite3"
   ]
  },
  {
   "cell_type": "code",
   "execution_count": 2,
   "metadata": {},
   "outputs": [
    {
     "data": {
      "text/plain": [
       "'3.33.0'"
      ]
     },
     "execution_count": 2,
     "metadata": {},
     "output_type": "execute_result"
    }
   ],
   "source": [
    "# checking SQLite version - just for demonstration purposes\n",
    "sqlite3.sqlite_version"
   ]
  },
  {
   "cell_type": "markdown",
   "metadata": {},
   "source": [
    "### Step 1 - establishing a connection to a database"
   ]
  },
  {
   "cell_type": "markdown",
   "metadata": {},
   "source": [
    "The *sqlite3.connect()* function returns a <a href=\"https://docs.python.org/3/library/sqlite3.html#sqlite3.Connection\">Connection</a> object that we will use to interact with the SQLite database held in the file ``aquarium.db``. The ``aquarium.db`` file is created automatically by sqlite3.connect() if it does not already exist."
   ]
  },
  {
   "cell_type": "code",
   "execution_count": 3,
   "metadata": {},
   "outputs": [],
   "source": [
    "# creating a connection to the database file named ``aquarium.db``. \n",
    "# Alternatively, you can create a database entirely hosted in memory by using sqlite3.connect(\":memory:\").\n",
    "# This database will be deleted when the program exits.\n",
    "connection = sqlite3.connect(\"aquarium.db\")"
   ]
  },
  {
   "cell_type": "markdown",
   "metadata": {},
   "source": [
    "*connection.total_changes* is the total number of database rows that have been changed by the connection. Since we have not executed any SQL commands yet, ``0 total_changes`` is correct."
   ]
  },
  {
   "cell_type": "code",
   "execution_count": 4,
   "metadata": {},
   "outputs": [
    {
     "name": "stdout",
     "output_type": "stream",
     "text": [
      "0\n"
     ]
    }
   ],
   "source": [
    "print(connection.total_changes)"
   ]
  },
  {
   "cell_type": "markdown",
   "metadata": {},
   "source": [
    "### Step 2 - creating tables and inserting data\n",
    "\n",
    "In a SQL database, data is stored in tables. Tables define a set of columns, and contain 0 or more rows with data for each of the defined columns.\n",
    "\n",
    "We will create a table named ``fish`` that tracks a value for *name, species,* and *tank_number* for each fish at the aquarium. Two example fish rows are listed: one row for a shark named Sammy, and one row for a cuttlefish named Jamie.\n",
    "\n",
    "| name | species | tank_number |\n",
    "|:-----:|:-----:|:-----:|\n",
    "| Sammy\t| shark\t| 1 |\n",
    "| Jamie\t| cuttlefish | 7 |\n",
    "\n",
    "\n",
    "*connection.cursor()* returns a Cursor object. Cursor objects allow us to send SQL statements to a SQLite database using *cursor.execute()*. The \"CREATE TABLE fish ...\" string is a SQL statement that creates a table named ``fish`` with the three columns described earlier: *name* of type TEXT, *species* of type TEXT, and *tank_number* of type INTEGER."
   ]
  },
  {
   "cell_type": "code",
   "execution_count": 5,
   "metadata": {},
   "outputs": [
    {
     "data": {
      "text/plain": [
       "<sqlite3.Cursor at 0x7fdb51217730>"
      ]
     },
     "execution_count": 5,
     "metadata": {},
     "output_type": "execute_result"
    }
   ],
   "source": [
    "# opening a cursor to the database...\n",
    "cursor = connection.cursor()\n",
    "# ...and creating a table using cursor.execute() - this command executes only one SQL statement at time.\n",
    "cursor.execute(\"CREATE TABLE fish (name TEXT, species TEXT, tank_number INTEGER)\")"
   ]
  },
  {
   "cell_type": "code",
   "execution_count": 6,
   "metadata": {},
   "outputs": [
    {
     "data": {
      "text/plain": [
       "<sqlite3.Cursor at 0x7fdb51217730>"
      ]
     },
     "execution_count": 6,
     "metadata": {},
     "output_type": "execute_result"
    }
   ],
   "source": [
    "# inserting data into table\n",
    "cursor.execute(\"INSERT INTO fish VALUES ('Frankie', 'Shark', 1)\")\n",
    "cursor.execute(\"INSERT INTO fish VALUES ('Jamie', 'Cuttlefish', 7)\")\n",
    "\n",
    "# alternatively, we can use executescript() to run multiple SQL statements at once\n",
    "cursor.executescript(\"\"\"\n",
    "    INSERT INTO fish VALUES ('Nemo', 'Clownfish', 2);\n",
    "    INSERT INTO fish VALUES ('Dory', 'Regal Blue Tang', 2);\n",
    "    INSERT INTO fish VALUES ('Oscar', 'Bluestreak Cleaner Wrasse', 1);\n",
    "    \"\"\")"
   ]
  },
  {
   "cell_type": "markdown",
   "metadata": {},
   "source": [
    "### Step 3 - reading data from the database\n",
    "\n",
    "The *cursor.execute()* function runs a SELECT statement to retrieve values from the ``fish table``. \n",
    "\n",
    "*fetchall()* retrieves all the results of the SELECT statement. When we ``print(rows)``, we see the list of tuples retrieved from the database. "
   ]
  },
  {
   "cell_type": "code",
   "execution_count": 7,
   "metadata": {},
   "outputs": [
    {
     "name": "stdout",
     "output_type": "stream",
     "text": [
      "[('Frankie', 'Shark', 1), ('Jamie', 'Cuttlefish', 7), ('Nemo', 'Clownfish', 2), ('Dory', 'Regal Blue Tang', 2), ('Oscar', 'Bluestreak Cleaner Wrasse', 1)]\n"
     ]
    }
   ],
   "source": [
    "# querying and retrieving data from the database\n",
    "rows = cursor.execute(\"SELECT name, species, tank_number FROM fish\").fetchall()\n",
    "print(rows)"
   ]
  },
  {
   "cell_type": "markdown",
   "metadata": {},
   "source": [
    "If we wanted to retrieve rows in the ``fish`` table that match a specific set of criteria, we can use a ``WHERE`` clause:"
   ]
  },
  {
   "cell_type": "code",
   "execution_count": 8,
   "metadata": {},
   "outputs": [
    {
     "name": "stdout",
     "output_type": "stream",
     "text": [
      "[('Jamie', 'Cuttlefish', 7)]\n"
     ]
    }
   ],
   "source": [
    "# using WHERE clause to match a specific criteria\n",
    "# the placeholder (?) is used to substitute the target_fish_name variable into the SELECT statement.\n",
    "target_fish_name = \"Jamie\"\n",
    "rows = cursor.execute(\n",
    "    \"SELECT name, species, tank_number FROM fish WHERE name = ?\",\n",
    "    (target_fish_name,),\n",
    ").fetchall()\n",
    "print(rows)"
   ]
  },
  {
   "cell_type": "markdown",
   "metadata": {},
   "source": [
    "### Step 4 - modifying and removing data in the database\n",
    "\n",
    "Rows in a SQLite database can be modified using *UPDATE* and *DELETE* SQL statements."
   ]
  },
  {
   "cell_type": "code",
   "execution_count": 9,
   "metadata": {},
   "outputs": [
    {
     "data": {
      "text/plain": [
       "<sqlite3.Cursor at 0x7fdb51217730>"
      ]
     },
     "execution_count": 9,
     "metadata": {},
     "output_type": "execute_result"
    }
   ],
   "source": [
    "# using an UPDATE SQL statement to change the tank_number of Frankie to its new value of 2. \n",
    "# The WHERE clause in the UPDATE statement ensures we only change the value of tank_number if a row has name = \"Frankie\".\n",
    "new_tank_number = 2\n",
    "moved_fish_name = \"Frankie\"\n",
    "cursor.execute(\n",
    "    \"UPDATE fish SET tank_number = ? WHERE name = ?\",\n",
    "    (new_tank_number, moved_fish_name)\n",
    ")"
   ]
  },
  {
   "cell_type": "code",
   "execution_count": 10,
   "metadata": {},
   "outputs": [
    {
     "name": "stdout",
     "output_type": "stream",
     "text": [
      "[('Frankie', 'Shark', 2), ('Jamie', 'Cuttlefish', 7), ('Nemo', 'Clownfish', 2), ('Dory', 'Regal Blue Tang', 2), ('Oscar', 'Bluestreak Cleaner Wrasse', 1)]\n"
     ]
    }
   ],
   "source": [
    "# checking if the UPDATE was made correctly\n",
    "rows = cursor.execute(\"SELECT name, species, tank_number FROM fish\").fetchall()\n",
    "print(rows)"
   ]
  },
  {
   "cell_type": "code",
   "execution_count": 11,
   "metadata": {},
   "outputs": [
    {
     "data": {
      "text/plain": [
       "<sqlite3.Cursor at 0x7fdb51217730>"
      ]
     },
     "execution_count": 11,
     "metadata": {},
     "output_type": "execute_result"
    }
   ],
   "source": [
    "# issuing a DELETE SQL statement to remove a row.\n",
    "# e.g. we have released Dory into wild \n",
    "released_fish_name = \"Dory\"\n",
    "cursor.execute(\n",
    "    \"DELETE FROM fish WHERE name = ?\",\n",
    "    (released_fish_name,)\n",
    ")"
   ]
  },
  {
   "cell_type": "code",
   "execution_count": 12,
   "metadata": {},
   "outputs": [
    {
     "name": "stdout",
     "output_type": "stream",
     "text": [
      "[('Frankie', 'Shark', 2), ('Jamie', 'Cuttlefish', 7), ('Nemo', 'Clownfish', 2), ('Oscar', 'Bluestreak Cleaner Wrasse', 1)]\n"
     ]
    }
   ],
   "source": [
    "# checking if the DELETE was made correctly\n",
    "rows = cursor.execute(\"SELECT name, species, tank_number FROM fish\").fetchall()\n",
    "print(rows)"
   ]
  },
  {
   "cell_type": "markdown",
   "metadata": {},
   "source": [
    "### Step 5 — using ``with`` statements for automatic cleanup\n",
    "\n",
    "In this tutorial, we’ve used two primary objects to interact with the ``aquarium.db`` SQLite database: a Connection object named *connection*, and a Cursor object named *cursor*. These objects should be closed when they are no longer needed. We can use a ``with`` statement to help us automatically close them.\n",
    "\n"
   ]
  },
  {
   "cell_type": "code",
   "execution_count": 13,
   "metadata": {},
   "outputs": [
    {
     "name": "stdout",
     "output_type": "stream",
     "text": [
      "[(1,)]\n"
     ]
    }
   ],
   "source": [
    "from contextlib import closing\n",
    "\n",
    "# closing the Connection and Cursor objects\n",
    "with closing(sqlite3.connect(\"aquarium.db\")) as connection:\n",
    "    with closing(connection.cursor()) as cursor:\n",
    "        rows = cursor.execute(\"SELECT 1\").fetchall()\n",
    "        print(rows)"
   ]
  },
  {
   "cell_type": "markdown",
   "metadata": {},
   "source": [
    "``closing`` is a convenience function provided by the <a href=\"https://docs.python.org/3/library/contextlib.html\">contextlib module</a>. When a ``with`` statement exits, ``closing`` ensures that *close()* is called on whatever object is passed to it. The closing function is used twice in this example. Once to ensure that the Connection object returned by *sqlite3.connect()* is automatically closed, and a second time to ensure that the Cursor object returned by *connection.cursor()* is automatically closed.\n",
    "\n",
    "Since ``SELECT 1`` is a SQL statement that always returns a single row with a single column with a value of 1, it makes sense to see a single tuple with 1 as its only value returned by our code."
   ]
  },
  {
   "cell_type": "code",
   "execution_count": null,
   "metadata": {},
   "outputs": [],
   "source": []
  }
 ],
 "metadata": {
  "kernelspec": {
   "display_name": "Python 3",
   "language": "python",
   "name": "python3"
  },
  "language_info": {
   "codemirror_mode": {
    "name": "ipython",
    "version": 3
   },
   "file_extension": ".py",
   "mimetype": "text/x-python",
   "name": "python",
   "nbconvert_exporter": "python",
   "pygments_lexer": "ipython3",
   "version": "3.8.5"
  }
 },
 "nbformat": 4,
 "nbformat_minor": 4
}
