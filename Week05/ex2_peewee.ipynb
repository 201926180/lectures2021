{
  "nbformat": 4,
  "nbformat_minor": 0,
  "metadata": {
    "kernelspec": {
      "display_name": "Python 3",
      "language": "python",
      "name": "python3"
    },
    "language_info": {
      "codemirror_mode": {
        "name": "ipython",
        "version": 3
      },
      "file_extension": ".py",
      "mimetype": "text/x-python",
      "name": "python",
      "nbconvert_exporter": "python",
      "pygments_lexer": "ipython3",
      "version": "3.8.5"
    },
    "colab": {
      "name": "ex2_peewee.ipynb",
      "provenance": [],
      "collapsed_sections": []
    }
  },
  "cells": [
    {
      "cell_type": "markdown",
      "metadata": {
        "id": "3XkanoFJdW7A"
      },
      "source": [
        "### Using SQLite Full-Text Search with Python and Peewee\n",
        "\n",
        "#### This tutorial is based on https://charlesleifer.com/blog/using-sqlite-full-text-search-with-python\n",
        "\n",
        "---\n",
        "\n",
        "This example uses some Peewee's extensions which are collected under the [playhouse namespace](http://docs.peewee-orm.com/en/latest/peewee/playhouse.html).\n",
        "\n",
        "The database name and the base models are defined in the [search_example.py](./search_example.py) module. "
      ]
    },
    {
      "cell_type": "code",
      "metadata": {
        "colab": {
          "base_uri": "https://localhost:8080/"
        },
        "id": "4ee7sSCudW7C",
        "outputId": "c56e668d-8396-4b2a-a0e1-f93d1f64c846"
      },
      "source": [
        "# uncomment this library for installing the library\n",
        "!pip install peewee\n",
        "!pip install psycopg2-binary"
      ],
      "execution_count": 1,
      "outputs": [
        {
          "output_type": "stream",
          "text": [
            "Requirement already satisfied: peewee in /usr/local/lib/python3.7/dist-packages (3.14.4)\n",
            "Requirement already satisfied: psycopg2-binary in /usr/local/lib/python3.7/dist-packages (2.9.1)\n"
          ],
          "name": "stdout"
        }
      ]
    },
    {
      "cell_type": "code",
      "metadata": {
        "id": "YWWjsMqAdW7C"
      },
      "source": [
        "# importing the auxiliary file with modules definition\n",
        "# peewee and playhouse are imported from that module as well\n",
        "from search_example import Entry, FTSEntry"
      ],
      "execution_count": 2,
      "outputs": []
    },
    {
      "cell_type": "code",
      "metadata": {
        "id": "FNBk8ijmdW7D"
      },
      "source": [
        "# Create the tables\n",
        "Entry.create_table()\n",
        "FTSEntry.create_table()"
      ],
      "execution_count": 3,
      "outputs": []
    },
    {
      "cell_type": "markdown",
      "metadata": {
        "id": "5-i-qJrFdW7D"
      },
      "source": [
        "You can open a SQLite shell or DB Browser and check the database schema.\n",
        "\n",
        "```\n",
        "sqlite> .schema\n",
        "CREATE TABLE \"entry\" (\n",
        "    \"id\" INTEGER NOT NULL PRIMARY KEY,\n",
        "    \"title\" TEXT NOT NULL,\n",
        "    \"content\" TEXT NOT NULL);\n",
        "CREATE VIRTUAL TABLE \"ftsentry\" USING FTS5 (\n",
        "    \"content\" TEXT NOT NULL);\n",
        "CREATE TABLE 'ftsentry_content'(...)\n",
        "CREATE TABLE 'ftsentry_segments'(...)\n",
        "CREATE TABLE 'ftsentry_segdir'(...)\n",
        "CREATE TABLE 'ftsentry_docsize'(...)\n",
        "CREATE TABLE 'ftsentry_stat'(...)\n",
        "```"
      ]
    },
    {
      "cell_type": "code",
      "metadata": {
        "colab": {
          "base_uri": "https://localhost:8080/"
        },
        "id": "rYxJGnvKdW7E",
        "outputId": "d622a588-d23b-4003-a7a4-45304e1f4512"
      },
      "source": [
        "# we can insert some entries\n",
        "entry = Entry.create(\n",
        "      title='This is how I rewrote everything with Python',\n",
        "      content='Blah blah blah, type system, channels, blurgh')\n",
        "\n",
        "FTSEntry.create(\n",
        "      docid=entry.id, # Manually set the primary key (\"docid\") to entry's id.\n",
        "      content='\\n'.join((entry.title, entry.content)))\n",
        "\n",
        "entry = Entry.create(\n",
        "      title='Why ORM is a terrible idea',\n",
        "      content='Blah blah blah, leaky abstraction, impedance mismatch')\n",
        "\n",
        "FTSEntry.create(\n",
        "      docid=entry.id,  \n",
        "      content='\\n'.join((entry.title, entry.content)))\n",
        "\n",
        "entry = Entry.create(\n",
        "      title='What is the relation between Javascript and Canvas',\n",
        "      content='HTML5 features the <canvas> element that allows you to draw 2D graphics using JavaScript')\n",
        "\n",
        "FTSEntry.create(\n",
        "      docid=entry.id,  \n",
        "      content='\\n'.join((entry.title, entry.content)))\n",
        "\n",
        "entry = Entry.create(\n",
        "      title='Nokia Snake with JavaScript + Canvas',\n",
        "      content='I thought I\\'d re-create the Nokia Snake game (a distant relative of Nibbles) using JavaScript and the canvas element')\n",
        "\n",
        "FTSEntry.create(\n",
        "      docid=entry.id,  \n",
        "      content='\\n'.join((entry.title, entry.content)))\n",
        "\n",
        "entry = Entry.create(\n",
        "      title='Using python and k-means to find the dominant colors in images',\n",
        "      content='Most images are an RGB array where we can easily apply K-Means Clustering. The Centers of each cluster would be the most dominant colors of the image')\n",
        "\n",
        "FTSEntry.create(\n",
        "      docid=entry.id,  \n",
        "      content='\\n'.join((entry.title, entry.content)))\n",
        "\n",
        "entry = Entry.create(\n",
        "      title='Saturday morning hack: personalized news digest with boolean query parser in Python',\n",
        "      content='Occasionally I stumble on fascinating content and that\\'s what keeps me coming back')\n",
        "\n",
        "FTSEntry.create(\n",
        "      docid=entry.id,  \n",
        "      content='\\n'.join((entry.title, entry.content)))\n",
        "\n",
        "entry = Entry.create(\n",
        "      title='Migrating from SQLite',\n",
        "      content='This command instructs pgloader to load data from a SQLite file')\n",
        "\n",
        "FTSEntry.create(\n",
        "      docid=entry.id,  \n",
        "      content='\\n'.join((entry.title, entry.content)))\n"
      ],
      "execution_count": 4,
      "outputs": [
        {
          "output_type": "execute_result",
          "data": {
            "text/plain": [
              "<FTSEntry: 7>"
            ]
          },
          "metadata": {
            "tags": []
          },
          "execution_count": 4
        }
      ]
    },
    {
      "cell_type": "markdown",
      "metadata": {
        "id": "BSq1UJljdW7F"
      },
      "source": [
        "You can add many more entries as necessary. Just pick some random blog and extract some `title` and `content` information.\n",
        "\n",
        "### Retrieving/querying data\n",
        "\n",
        "From *peewee*, we can perform simple search queries by using the `FTSModel.match` helper:"
      ]
    },
    {
      "cell_type": "code",
      "metadata": {
        "colab": {
          "base_uri": "https://localhost:8080/"
        },
        "id": "mKzz1JQNdW7G",
        "outputId": "9f09ea86-5110-41fb-d4e8-510eb7c6884f"
      },
      "source": [
        "query = (Entry\n",
        "         .select(Entry.title)\n",
        "         .join(FTSEntry, on=(Entry.id == FTSEntry.docid))\n",
        "         .where(FTSEntry.match('javascript AND canvas'))\n",
        "         .dicts())\n",
        "\n",
        "for row_dict in query:\n",
        "    print(row_dict)"
      ],
      "execution_count": 5,
      "outputs": [
        {
          "output_type": "stream",
          "text": [
            "{'title': 'What is the relation between Javascript and Canvas'}\n",
            "{'title': 'Nokia Snake with JavaScript + Canvas'}\n"
          ],
          "name": "stdout"
        }
      ]
    },
    {
      "cell_type": "code",
      "metadata": {
        "id": "EF2OZYYNdW7G"
      },
      "source": [
        "query = (Entry\n",
        "         .select()\n",
        "         .join(FTSEntry, on=(Entry.id == FTSEntry.docid))\n",
        "         .where(FTSEntry.match('golang')))\n",
        "\n",
        "for entry in query:\n",
        "    print(entry.title)"
      ],
      "execution_count": 6,
      "outputs": []
    },
    {
      "cell_type": "markdown",
      "metadata": {
        "id": "sdKObSCmdW7H"
      },
      "source": [
        "### Sorting by relevance\n",
        "\n",
        "By default, the results returned from a MATCH query are in an unspecified order. For full-text search to be useful, though, the results should be ordered by relevance. SQLite's FTS extension does not come with a relevance function per-se, but it is possible to extract metadata from the full-text index and get pretty good results. \n",
        "\n",
        "We will use some user-defined functions implemented in the [search_example.py](./search_example.py) module."
      ]
    },
    {
      "cell_type": "markdown",
      "metadata": {
        "id": "xCQ-M9VCsTqI"
      },
      "source": [
        "Here is an example of the SQL we will now generate to order search results by relevance:\n",
        "\n"
      ]
    },
    {
      "cell_type": "code",
      "metadata": {
        "colab": {
          "base_uri": "https://localhost:8080/"
        },
        "id": "KYj4lbhadW7H",
        "outputId": "e358acd8-78d3-411d-8ceb-510afcf440f5"
      },
      "source": [
        "# Sorting by relevance using the rank() algorithm.\n",
        "# The first result returned contains the best match.\n",
        "query = (Entry\n",
        "         .select(Entry, FTSEntry.rank().alias('score'))\n",
        "         .join(FTSEntry, on=(Entry.id == FTSEntry.docid))\n",
        "         .where(FTSEntry.match('python'))\n",
        "         .order_by(FTSEntry.rank()))\n",
        "\n",
        "for entry in query:\n",
        "    print(\"Title:\", entry.title, \"| Score:\", round(entry.score, 2))"
      ],
      "execution_count": 8,
      "outputs": [
        {
          "output_type": "stream",
          "text": [
            "Title: This is how I rewrote everything with Python | Score: -0.33\n",
            "Title: Using python and k-means to find the dominant colors in images | Score: -0.33\n",
            "Title: Saturday morning hack: personalized news digest with boolean query parser in Python | Score: -0.33\n"
          ],
          "name": "stdout"
        }
      ]
    },
    {
      "cell_type": "code",
      "metadata": {
        "colab": {
          "base_uri": "https://localhost:8080/"
        },
        "id": "k_4l6pRUdW7I",
        "outputId": "cab5012e-c76c-4ea2-aeec-ecab380a8c07"
      },
      "source": [
        "# Sorting by relevance using the bm25() algorithm.\n",
        "# The first result returned contains the best match.\n",
        "query = (Entry\n",
        "         .select(Entry, FTSEntry.bm25().alias('score'))\n",
        "         .join(FTSEntry, on=(Entry.id == FTSEntry.docid))\n",
        "         .where(FTSEntry.match('python'))\n",
        "         .order_by(FTSEntry.bm25()))\n",
        "\n",
        "for entry in query:\n",
        "    print(\"Title:\", entry.title, \"| Score:\", round(entry.score, 2))"
      ],
      "execution_count": 14,
      "outputs": [
        {
          "output_type": "stream",
          "text": [
            "Title: This is how I rewrote everything with Python | Score: -0.29\n",
            "Title: Saturday morning hack: personalized news digest with boolean query parser in Python | Score: -0.23\n",
            "Title: Using python and k-means to find the dominant colors in images | Score: -0.19\n"
          ],
          "name": "stdout"
        }
      ]
    }
  ]
}