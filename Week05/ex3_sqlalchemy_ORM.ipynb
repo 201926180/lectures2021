{
  "nbformat": 4,
  "nbformat_minor": 0,
  "metadata": {
    "colab": {
      "name": "ex3_sqlalchemy_ORM.ipynb",
      "provenance": [],
      "collapsed_sections": []
    },
    "kernelspec": {
      "name": "python3",
      "display_name": "Python 3"
    },
    "language_info": {
      "name": "python"
    }
  },
  "cells": [
    {
      "cell_type": "markdown",
      "metadata": {
        "id": "9ziYjbF86UEF"
      },
      "source": [
        "### SQLAlchemy - ORM API\n",
        "\n",
        "Based on the SQLAlchemy <a href=\"https://docs.sqlalchemy.org/en/14/tutorial/\">documentation</a>.\n",
        "\n",
        "Please, check the [ex1_sqlalchemy.ipynb](ex1_sqlalchemy.ipynb) for an general introduction to the use of SQLAlchemy.\n",
        "\n",
        "---\n",
        "\n",
        "**NOTE:** this code is intended to show hot to use the **ORM** API for creating and manipulating databases in SQLAlchemy. In [ex2_sqlalchemy_Core.ipynb](ex2_sqlalchemy_Core.ipynb), we discuss how to use the **Core** API for performing the same tasks. Most of the time, you can choose only one approach to work with databases in SQLAlchemy."
      ]
    },
    {
      "cell_type": "code",
      "metadata": {
        "id": "-jN-dxXl6etW"
      },
      "source": [
        "# Uncomment for installing the SQL Alchemy library.\n",
        "#!pip install sqlalchemy"
      ],
      "execution_count": 1,
      "outputs": []
    },
    {
      "cell_type": "code",
      "metadata": {
        "colab": {
          "base_uri": "https://localhost:8080/",
          "height": 35
        },
        "id": "MFF7rHkW6O_L",
        "outputId": "3ccc9c89-cbee-45d7-da0c-8a56970184e1"
      },
      "source": [
        "# importing the library\n",
        "import sqlalchemy\n",
        "# checking the version - just for demonstration\n",
        "sqlalchemy.__version__ "
      ],
      "execution_count": 2,
      "outputs": [
        {
          "output_type": "execute_result",
          "data": {
            "application/vnd.google.colaboratory.intrinsic+json": {
              "type": "string"
            },
            "text/plain": [
              "'1.4.22'"
            ]
          },
          "metadata": {
            "tags": []
          },
          "execution_count": 2
        }
      ]
    },
    {
      "cell_type": "code",
      "metadata": {
        "id": "ufp6sPtp4whI"
      },
      "source": [
        "# importing necessary libraries\n",
        "from sqlalchemy import create_engine\n",
        "\n",
        "# Engine object refering an in-memory SQLite database\n",
        "engine = create_engine(\"sqlite+pysqlite:///:memory:\", echo=True, future=True)"
      ],
      "execution_count": 3,
      "outputs": []
    },
    {
      "cell_type": "markdown",
      "metadata": {
        "id": "AH5oWgeT7D2S"
      },
      "source": [
        "### Database metadata\n",
        "\n",
        "The central element of both SQLAlchemy Core and ORM is the `SQL Expression Language` which allows for fluent, composable construction of SQL queries. The foundation for these queries are Python objects that represent database concepts like `tables` and `columns`. These objects are known collectively as **database metadata**.\n",
        "\n",
        "The most common foundational objects for database metadata in SQLAlchemy are known as `MetaData`, `Table`, and `Column`. \n",
        "\n",
        "This notebook illustrate how these objects are used in an ORM-oriented style, following the reference documentation."
      ]
    },
    {
      "cell_type": "markdown",
      "metadata": {
        "id": "a4DwzdbFrxjg"
      },
      "source": [
        " ### ORM - Defining Table Metadata\n",
        " ---\n",
        "We will reproduce the same example from the [Core notebook](ex2_sqlalchemy_Core.ipynb), but using an ORM-centric configuration paradigm.\n",
        "\n",
        "When using the ORM, the process by which we declare `Table` metadata is usually combined with the process of declaring **mapped classes**. The `mapped class` is any Python class we would like to create, which will then have attributes on it that will be linked to the columns in a database table. While there are a few varieties of how this is achieved, the most common style is known as <a href=\"https://docs.sqlalchemy.org/en/14/orm/declarative_config.html\">declarative</a>, and allows us to declare our `user-defined classes` and `Table` metadata at once."
      ]
    },
    {
      "cell_type": "markdown",
      "metadata": {
        "id": "MMXp515Ltdxb"
      },
      "source": [
        "### ORM - Setting up the Registry\n",
        "\n",
        "The ORM API encapsulates the `MetaData` collection into an object known as the `registry`. We use `registry()` to create the object. Then, we can check its associated `metadata` object"
      ]
    },
    {
      "cell_type": "code",
      "metadata": {
        "colab": {
          "base_uri": "https://localhost:8080/"
        },
        "id": "FCVnGZp6KIvC",
        "outputId": "d10018d9-7c5b-4fc4-e1c2-f1bf4a345702"
      },
      "source": [
        "# importing necessary libraries\n",
        "from sqlalchemy.orm import registry\n",
        "# creating the ORM registry\n",
        "mapper_registry = registry()\n",
        "# checking the metadata associated with the registry\n",
        "mapper_registry.metadata"
      ],
      "execution_count": 4,
      "outputs": [
        {
          "output_type": "execute_result",
          "data": {
            "text/plain": [
              "MetaData()"
            ]
          },
          "metadata": {
            "tags": []
          },
          "execution_count": 4
        }
      ]
    },
    {
      "cell_type": "markdown",
      "metadata": {
        "id": "GCLFQ3yxumvu"
      },
      "source": [
        "### Declaring Table objects and mapped classes\n",
        "\n",
        "Instead of declaring `Table` objects directly, we can declare them indirectly through directives applied to mapped classes. Each mapped class descends from a common base class known as the **declarative base**. We get a new declarative base from the registry using the `registry.generate_base()` method:"
      ]
    },
    {
      "cell_type": "code",
      "metadata": {
        "id": "gybFW88_KIxe"
      },
      "source": [
        "# obtaining the declarative Base class for all other mapped classes\n",
        "Base = mapper_registry.generate_base()"
      ],
      "execution_count": 5,
      "outputs": []
    },
    {
      "cell_type": "markdown",
      "metadata": {
        "id": "I0xiekHIxUAz"
      },
      "source": [
        "**IMPORTANT:** The steps of creating the registry and “declarative base” classes can be combined into one step using the historically familiar `declarative_base()` function:\n",
        "```\n",
        "from sqlalchemy.orm import declarative_base\n",
        "Base = declarative_base()\n",
        "```\n",
        "\n",
        "### ORM - Declaring Mapped Classes\n",
        "---\n",
        "The `Base` object is a Python class which will serve as the base class for the ORM mapped classes we declare. We can now define ORM mapped classes for the user and address table in terms of new classes `User` and `Address`:\n",
        "\n"
      ]
    },
    {
      "cell_type": "code",
      "metadata": {
        "id": "WQHpfPOAPFpM"
      },
      "source": [
        "# importing necessary libraries\n",
        "from sqlalchemy import Table, Column, Integer, String, ForeignKey\n",
        "from sqlalchemy.orm import relationship\n",
        "\n",
        "# class User (inherits from Base)\n",
        "class User(Base):\n",
        "  # the table name to associate this class to\n",
        "  __tablename__ = 'user_account'\n",
        "  # metadata\n",
        "  id = Column(Integer, primary_key=True)\n",
        "  name = Column(String(30))\n",
        "  fullname = Column(String)\n",
        "\n",
        "  # relationship mapping ONE user to MANY addressess\n",
        "  # this is optional at this point => but addressed later in this code\n",
        "  addresses = relationship(\"Address\", back_populates=\"user\")\n",
        "\n",
        "  # this method returns a descriptive string of the current class' instance\n",
        "  def __repr__(self):\n",
        "    return f\"User(id={self.id!r}, name={self.name!r}, fullname={self.fullname!r})\"\n",
        "\n",
        "# class Address (inherits from Base)\n",
        "class Address(Base):\n",
        "  # the table name to associate this class to\n",
        "  __tablename__ = 'address'\n",
        "  # metadata\n",
        "  id = Column(Integer, primary_key=True)\n",
        "  email_address = Column(String, nullable=False)\n",
        "  user_id = Column(Integer, ForeignKey('user_account.id'))\n",
        "\n",
        "  # relationship mapping MANY addressess to ONE user\n",
        "  # this is optional at this point => but addressed later in this code\n",
        "  user = relationship(\"User\", back_populates=\"addresses\")\n",
        "\n",
        "  # this method returns a descriptive string of the current class' instance\n",
        "  def __repr__(self):\n",
        "    return f\"Address(id={self.id!r}, email_address={self.email_address!r})\""
      ],
      "execution_count": 6,
      "outputs": []
    },
    {
      "cell_type": "markdown",
      "metadata": {
        "id": "tDIhAhpu17iM"
      },
      "source": [
        "The above two classes are now our mapped classes, and are available for use in ORM persistence and query operations. Mapped classes also include `Table` objects that were generated as part of the declarative mapping process, and are equivalent to the ones that we declared directly in the previous Core section. We can see these `Table` objects from a declarative mapped class using the `.__table__` attribute:"
      ]
    },
    {
      "cell_type": "code",
      "metadata": {
        "colab": {
          "base_uri": "https://localhost:8080/"
        },
        "id": "wpIJeK-PyztG",
        "outputId": "5221d753-7d52-4e72-dd03-77c894ae8e2e"
      },
      "source": [
        "# checking the Table object associated with a mapped class\n",
        "User.__table__"
      ],
      "execution_count": 7,
      "outputs": [
        {
          "output_type": "execute_result",
          "data": {
            "text/plain": [
              "Table('user_account', MetaData(), Column('id', Integer(), table=<user_account>, primary_key=True, nullable=False), Column('name', String(length=30), table=<user_account>), Column('fullname', String(), table=<user_account>), schema=None)"
            ]
          },
          "metadata": {
            "tags": []
          },
          "execution_count": 7
        }
      ]
    },
    {
      "cell_type": "code",
      "metadata": {
        "colab": {
          "base_uri": "https://localhost:8080/"
        },
        "id": "f3rqHWNKdBZE",
        "outputId": "f836be33-063a-4f25-b9e5-7500492a6298"
      },
      "source": [
        "# checking the Table object associated with a mapped class\n",
        "Address.__table__"
      ],
      "execution_count": 8,
      "outputs": [
        {
          "output_type": "execute_result",
          "data": {
            "text/plain": [
              "Table('address', MetaData(), Column('id', Integer(), table=<address>, primary_key=True, nullable=False), Column('email_address', String(), table=<address>, nullable=False), Column('user_id', Integer(), ForeignKey('user_account.id'), table=<address>), schema=None)"
            ]
          },
          "metadata": {
            "tags": []
          },
          "execution_count": 8
        }
      ]
    },
    {
      "cell_type": "markdown",
      "metadata": {
        "id": "_AfK0kkbzabp"
      },
      "source": [
        "### ORM - Emitting DDL to the database\n",
        "---\n",
        "Emitting DDL with our ORM mapped classes is not different from using the Core approach. If we wanted to emit DDL for the `Table` objects we’ve created as part of our declaratively mapped classes, we still can use `MetaData.create_all()` as before.\n",
        "\n",
        "In our case, we have already generated the `user` and `address` tables in our SQLite database. If we had not done so already, we would be free to make use of the MetaData associated with our registry and ORM declarative base class in order to do so, using `MetaData.create_all()`:\n"
      ]
    },
    {
      "cell_type": "code",
      "metadata": {
        "id": "H8RATGtM0F6E",
        "colab": {
          "base_uri": "https://localhost:8080/"
        },
        "outputId": "b8d58abe-e4e1-4ad7-9d0b-3185e8c59147"
      },
      "source": [
        "# emit CREATE statements given ORM registry\n",
        "mapper_registry.metadata.create_all(engine)\n",
        "# OR\n",
        "# using the MetaData object present on the declarative base\n",
        "# Base.metadata.create_all(engine)"
      ],
      "execution_count": 9,
      "outputs": [
        {
          "output_type": "stream",
          "text": [
            "2021-08-17 16:06:35,486 INFO sqlalchemy.engine.Engine BEGIN (implicit)\n",
            "2021-08-17 16:06:35,492 INFO sqlalchemy.engine.Engine PRAGMA main.table_info(\"user_account\")\n",
            "2021-08-17 16:06:35,494 INFO sqlalchemy.engine.Engine [raw sql] ()\n",
            "2021-08-17 16:06:35,496 INFO sqlalchemy.engine.Engine PRAGMA temp.table_info(\"user_account\")\n",
            "2021-08-17 16:06:35,499 INFO sqlalchemy.engine.Engine [raw sql] ()\n",
            "2021-08-17 16:06:35,501 INFO sqlalchemy.engine.Engine PRAGMA main.table_info(\"address\")\n",
            "2021-08-17 16:06:35,502 INFO sqlalchemy.engine.Engine [raw sql] ()\n",
            "2021-08-17 16:06:35,503 INFO sqlalchemy.engine.Engine PRAGMA temp.table_info(\"address\")\n",
            "2021-08-17 16:06:35,505 INFO sqlalchemy.engine.Engine [raw sql] ()\n",
            "2021-08-17 16:06:35,510 INFO sqlalchemy.engine.Engine \n",
            "CREATE TABLE user_account (\n",
            "\tid INTEGER NOT NULL, \n",
            "\tname VARCHAR(30), \n",
            "\tfullname VARCHAR, \n",
            "\tPRIMARY KEY (id)\n",
            ")\n",
            "\n",
            "\n",
            "2021-08-17 16:06:35,523 INFO sqlalchemy.engine.Engine [no key 0.01362s] ()\n",
            "2021-08-17 16:06:35,528 INFO sqlalchemy.engine.Engine \n",
            "CREATE TABLE address (\n",
            "\tid INTEGER NOT NULL, \n",
            "\temail_address VARCHAR NOT NULL, \n",
            "\tuser_id INTEGER, \n",
            "\tPRIMARY KEY (id), \n",
            "\tFOREIGN KEY(user_id) REFERENCES user_account (id)\n",
            ")\n",
            "\n",
            "\n",
            "2021-08-17 16:06:35,531 INFO sqlalchemy.engine.Engine [no key 0.00238s] ()\n",
            "2021-08-17 16:06:35,533 INFO sqlalchemy.engine.Engine COMMIT\n"
          ],
          "name": "stdout"
        }
      ]
    },
    {
      "cell_type": "markdown",
      "metadata": {
        "id": "ocfOWsdm7l_O"
      },
      "source": [
        "### ORM - Inserting rows\n",
        "---\n",
        "When using the ORM, the `Session` object is responsible for constructing Insert constructs and emitting them in a transaction. The way we instruct the `Session` to do so is by **adding object entries** to it; the `Session` then makes sure these new entries will be emitted to the database when they are needed, using a process known as a **flush**.\n",
        "\n",
        "**Instances of Classes represent Rows**\n",
        "\n",
        "With the ORM, we make direct use of the custom Python classes we defined previously. At the class level, the `User` and `Address` classes served as a place to define what the corresponding database tables should look like. These classes also serve as extensible data objects that we use to create and manipulate rows within a transaction as well. Below we will create three `User` objects each representing a potential database row to be inserted:"
      ]
    },
    {
      "cell_type": "markdown",
      "metadata": {
        "id": "3rVvf8mZ6Bvu"
      },
      "source": [
        "Classes have an automatically generated `__init__()` method that allows for parameterized construction of the objects (see <a href=\"https://docs.sqlalchemy.org/en/14/orm/mapping_styles.html#mapped-class-default-constructor\">default constructor</a>). We are free to provide our own `__init__()` method as well."
      ]
    },
    {
      "cell_type": "code",
      "metadata": {
        "id": "yvWh93KAyr-8"
      },
      "source": [
        "# creating instances of User class through the implicit init() method\n",
        "sandy = User(name=\"Sandy\", fullname=\"Sandy Cheeks\")\n",
        "squidward = User(name=\"Squidward\", fullname=\"Squidward Tentacles\")\n",
        "eugene = User(name=\"Eugene\", fullname=\"Eugene H. Krabs\")"
      ],
      "execution_count": 10,
      "outputs": []
    },
    {
      "cell_type": "markdown",
      "metadata": {
        "id": "E7Lc06WiDxpJ"
      },
      "source": [
        "In a similar manner as in our Core examples of Insert, we did not include a primary key (i.e. an entry for the id column), since we would like to make use of the auto-incrementing primary key feature of the database, SQLite in this case, which the ORM also integrates with. The value of the `id` attribute on the above objects, if we were to view it, displays itself as `None`:"
      ]
    },
    {
      "cell_type": "code",
      "metadata": {
        "colab": {
          "base_uri": "https://localhost:8080/"
        },
        "id": "w4Ok9NRH5gxc",
        "outputId": "2729e173-7720-4849-d127-3b88f65d2948"
      },
      "source": [
        "# checking a given object through the repr() method\n",
        "sandy"
      ],
      "execution_count": 11,
      "outputs": [
        {
          "output_type": "execute_result",
          "data": {
            "text/plain": [
              "User(id=None, name='Sandy', fullname='Sandy Cheeks')"
            ]
          },
          "metadata": {
            "tags": []
          },
          "execution_count": 11
        }
      ]
    },
    {
      "cell_type": "code",
      "metadata": {
        "colab": {
          "base_uri": "https://localhost:8080/"
        },
        "id": "ptxxSBJpD27f",
        "outputId": "e57da0cc-f9ab-44f8-fda5-656077b28636"
      },
      "source": [
        "# checking a given object through the repr() method\n",
        "squidward"
      ],
      "execution_count": 12,
      "outputs": [
        {
          "output_type": "execute_result",
          "data": {
            "text/plain": [
              "User(id=None, name='Squidward', fullname='Squidward Tentacles')"
            ]
          },
          "metadata": {
            "tags": []
          },
          "execution_count": 12
        }
      ]
    },
    {
      "cell_type": "markdown",
      "metadata": {
        "id": "VoLiJpek7onw"
      },
      "source": [
        "The `id=None` value is provided by SQLAlchemy to indicate that the attribute has no value as of yet. SQLAlchemy-mapped attributes always return a value in Python and don’t raise `AttributeError` if they’re missing, when dealing with a new object that has not had a value assigned.\n",
        "\n",
        "At the moment, our three objects above are said to be in a state called **transient** - they are not associated with any database state and are yet to be associated with a `Session` object that can generate INSERT statements for them.\n",
        "\n",
        "### ORM: Opening the Session and adding objects\n",
        "---\n",
        "We will create a `Session` without using a context manager (and hence we must make sure we close it later!):"
      ]
    },
    {
      "cell_type": "code",
      "metadata": {
        "id": "d4jo1NU_FCw0"
      },
      "source": [
        "# importing necessary libraries\n",
        "from sqlalchemy.orm import Session\n",
        "\n",
        "# creating (opening) the session\n",
        "session = Session(engine)"
      ],
      "execution_count": 13,
      "outputs": []
    },
    {
      "cell_type": "markdown",
      "metadata": {
        "id": "7qoU-UvdGJSj"
      },
      "source": [
        "The objects are then added to the `Session` using the `Session.add()` method. When this is called, the objects are in a state known as **pending** and have not been inserted yet:"
      ]
    },
    {
      "cell_type": "code",
      "metadata": {
        "id": "uoWh2eDGFEBe"
      },
      "source": [
        "# adding the objects to the session for further insertion\n",
        "session.add(sandy)\n",
        "session.add(squidward)\n",
        "session.add(eugene)"
      ],
      "execution_count": 14,
      "outputs": []
    },
    {
      "cell_type": "markdown",
      "metadata": {
        "id": "OwuJ0vbeGSta"
      },
      "source": [
        "When we have pending objects, we can see this state by looking at a collection on the `Session` called `Session.new`.\n",
        "\n",
        "A collection called `IdentitySet` is essentially a Python set that hashes on object identity in all cases (i.e., using Python built-in `id()` function, rather than the Python `hash()` function).\n",
        "\n"
      ]
    },
    {
      "cell_type": "code",
      "metadata": {
        "colab": {
          "base_uri": "https://localhost:8080/"
        },
        "id": "31sZQYWfFX0D",
        "outputId": "5fa41ff4-34bd-4622-9e2e-ed41d71ec8b5"
      },
      "source": [
        "# checking the collection of pending objects\n",
        "session.new"
      ],
      "execution_count": 15,
      "outputs": [
        {
          "output_type": "execute_result",
          "data": {
            "text/plain": [
              "IdentitySet([User(id=None, name='Sandy', fullname='Sandy Cheeks'), User(id=None, name='Squidward', fullname='Squidward Tentacles'), User(id=None, name='Eugene', fullname='Eugene H. Krabs')])"
            ]
          },
          "metadata": {
            "tags": []
          },
          "execution_count": 15
        }
      ]
    },
    {
      "cell_type": "markdown",
      "metadata": {
        "id": "0w9sDcGtGXfF"
      },
      "source": [
        "The `Session` makes use of a pattern known as [unit of work](https://docs.sqlalchemy.org/en/14/glossary.html#term-unit-of-work). This generally means it accumulates changes one at a time, but does not actually communicate them to the database until needed. This allows it to make better decisions about how SQL DML should be emitted in the transaction based on a given set of pending changes. When it does emit SQL to the database to push out the current set of changes, the process is known as a **flush**.\n",
        "\n",
        "We can illustrate the flush process manually by calling the `Session.flush()` method:"
      ]
    },
    {
      "cell_type": "code",
      "metadata": {
        "colab": {
          "base_uri": "https://localhost:8080/"
        },
        "id": "N4UXygqYFb9T",
        "outputId": "8270cc7f-3431-452b-a90e-fac377b4470a"
      },
      "source": [
        "# flushing all new objects into the database\n",
        "session.flush()"
      ],
      "execution_count": 16,
      "outputs": [
        {
          "output_type": "stream",
          "text": [
            "2021-08-17 16:06:35,633 INFO sqlalchemy.engine.Engine BEGIN (implicit)\n",
            "2021-08-17 16:06:35,639 INFO sqlalchemy.engine.Engine INSERT INTO user_account (name, fullname) VALUES (?, ?)\n",
            "2021-08-17 16:06:35,642 INFO sqlalchemy.engine.Engine [generated in 0.00288s] ('Sandy', 'Sandy Cheeks')\n",
            "2021-08-17 16:06:35,645 INFO sqlalchemy.engine.Engine INSERT INTO user_account (name, fullname) VALUES (?, ?)\n",
            "2021-08-17 16:06:35,647 INFO sqlalchemy.engine.Engine [cached since 0.008432s ago] ('Squidward', 'Squidward Tentacles')\n",
            "2021-08-17 16:06:35,649 INFO sqlalchemy.engine.Engine INSERT INTO user_account (name, fullname) VALUES (?, ?)\n",
            "2021-08-17 16:06:35,652 INFO sqlalchemy.engine.Engine [cached since 0.01295s ago] ('Eugene', 'Eugene H. Krabs')\n"
          ],
          "name": "stdout"
        }
      ]
    },
    {
      "cell_type": "markdown",
      "metadata": {
        "id": "OHtbzTqKLUcg"
      },
      "source": [
        "We observe the `Session` was first called upon to emit SQL, so it created a new transaction and emitted the appropriate INSERT statements for the two objects. The transaction now remains open until we call any of the `Session.commit()`, `Session.rollback()`, or `Session.close()` methods.\n",
        "\n",
        "While `Session.flush()` may be used to manually push out pending changes to the current transaction, it is usually unnecessary as the `Session` features a behavior known as **autoflush**, which we will illustrate later. It also flushes out changes whenever `Session.commit()` is called.\n",
        "\n",
        "**Autogenerated primary key attributes**\n",
        "\n",
        "Once the rows are inserted, the objects are in a state known as **persistent**, where they are associated with the `Session object` in which they were added or loaded.\n",
        "\n",
        "Another effect of the INSERT that occurred was that the ORM has retrieved the new primary key identifiers for each new object; internally it normally uses the `CursorResult.inserted_primary_key` accessor. We can check the `id` attribute of the new objects:"
      ]
    },
    {
      "cell_type": "code",
      "metadata": {
        "colab": {
          "base_uri": "https://localhost:8080/"
        },
        "id": "cd8IvSrsMQLT",
        "outputId": "ca3304b4-22fc-45b6-c64d-90010c8ea99b"
      },
      "source": [
        "squidward.id"
      ],
      "execution_count": 17,
      "outputs": [
        {
          "output_type": "execute_result",
          "data": {
            "text/plain": [
              "2"
            ]
          },
          "metadata": {
            "tags": []
          },
          "execution_count": 17
        }
      ]
    },
    {
      "cell_type": "markdown",
      "metadata": {
        "id": "m60TnCXKMYYp"
      },
      "source": [
        "**Identity Map** \n",
        "\n",
        "The **identity map** is an in-memory store that links all objects currently loaded in memory to their primary key identity. We can observe this by retrieving one of the above objects using the `Session.get()` method, which will return an entry from the identity map if locally present, otherwise emitting a SELECT:"
      ]
    },
    {
      "cell_type": "code",
      "metadata": {
        "colab": {
          "base_uri": "https://localhost:8080/"
        },
        "id": "IWn2umtUMnMD",
        "outputId": "154368c5-e05a-4a85-b2cc-66dc649ec7cd"
      },
      "source": [
        "# retrieving data from an object through its identity map\n",
        "some_squidward = session.get(User, 2)\n",
        "some_squidward"
      ],
      "execution_count": 18,
      "outputs": [
        {
          "output_type": "execute_result",
          "data": {
            "text/plain": [
              "User(id=2, name='Squidward', fullname='Squidward Tentacles')"
            ]
          },
          "metadata": {
            "tags": []
          },
          "execution_count": 18
        }
      ]
    },
    {
      "cell_type": "markdown",
      "metadata": {
        "id": "qKzx3n2tM59E"
      },
      "source": [
        "**IMPORTANT:** The identity map maintains a unique instance of a particular Python object per a particular database identity, within the scope of a particular `Session` object. We may observe that the `some_squidward` refers to the same object as that of `squidward` previously:"
      ]
    },
    {
      "cell_type": "code",
      "metadata": {
        "colab": {
          "base_uri": "https://localhost:8080/"
        },
        "id": "ov4vqimkNDBF",
        "outputId": "16c50fab-3af5-4362-852c-0b0d76ea8cdc"
      },
      "source": [
        "some_squidward is squidward"
      ],
      "execution_count": 19,
      "outputs": [
        {
          "output_type": "execute_result",
          "data": {
            "text/plain": [
              "True"
            ]
          },
          "metadata": {
            "tags": []
          },
          "execution_count": 19
        }
      ]
    },
    {
      "cell_type": "markdown",
      "metadata": {
        "id": "fE8E-75yGgXM"
      },
      "source": [
        "**Committing**\n",
        "\n",
        "There’s much more to say about how the Session works which will be discussed further. For now we will commit the transaction so that we can build up knowledge on how to SELECT rows before examining more ORM behaviors and features:"
      ]
    },
    {
      "cell_type": "code",
      "metadata": {
        "colab": {
          "base_uri": "https://localhost:8080/"
        },
        "id": "q66iELbfFlOi",
        "outputId": "7226dac1-7258-4163-f56d-23744c2839af"
      },
      "source": [
        "\n",
        "session.commit()"
      ],
      "execution_count": 20,
      "outputs": [
        {
          "output_type": "stream",
          "text": [
            "2021-08-17 16:06:35,703 INFO sqlalchemy.engine.Engine COMMIT\n"
          ],
          "name": "stdout"
        }
      ]
    },
    {
      "cell_type": "markdown",
      "metadata": {
        "id": "Dxfv5eRE7oqv"
      },
      "source": [
        "### ORM: Selecting rows\n",
        "\n",
        "When using the ORM, particularly with a `select()` construct that’s composed against ORM entities, we will want to execute it using the `Session.execute(\n",
        ")` method on the Session; using this approach, we continue to get `Row` objects from the result, however these rows are now capable of including complete entities, such as instances of the `User` class, as individual elements within each row:"
      ]
    },
    {
      "cell_type": "code",
      "metadata": {
        "colab": {
          "base_uri": "https://localhost:8080/"
        },
        "id": "OHYtCh3Af1bW",
        "outputId": "c5aa6e00-a367-4acf-ece0-98f261453242"
      },
      "source": [
        "# importing necessary libraries\n",
        "from sqlalchemy import select\n",
        "\n",
        "# SELECT statement\n",
        "stmt = select(User).where(User.name == 'Squidward')\n",
        "# executing the SELECT statement and retrieving the rows\n",
        "with Session(engine) as session:\n",
        "  # iterating over the rows (like a cursor)\n",
        "  for row in session.execute(stmt):\n",
        "    print(row)"
      ],
      "execution_count": 21,
      "outputs": [
        {
          "output_type": "stream",
          "text": [
            "2021-08-17 16:06:35,720 INFO sqlalchemy.engine.Engine BEGIN (implicit)\n",
            "2021-08-17 16:06:35,727 INFO sqlalchemy.engine.Engine SELECT user_account.id, user_account.name, user_account.fullname \n",
            "FROM user_account \n",
            "WHERE user_account.name = ?\n",
            "2021-08-17 16:06:35,730 INFO sqlalchemy.engine.Engine [generated in 0.00364s] ('Squidward',)\n",
            "(User(id=2, name='Squidward', fullname='Squidward Tentacles'),)\n",
            "2021-08-17 16:06:35,734 INFO sqlalchemy.engine.Engine ROLLBACK\n"
          ],
          "name": "stdout"
        }
      ]
    },
    {
      "cell_type": "markdown",
      "metadata": {
        "id": "7z2cNrAnBmYR"
      },
      "source": [
        "**Selecting ORM entities and columns**\n",
        "\n",
        "ORM entities, such our `User` class as well as the column-mapped attributes upon it such as `User.name`, also participate in the SQL Expression Language system representing tables and columns. Below illustrates an example of SELECTing from the `User` entity, which ultimately renders in the same way as if we had used user_table directly:"
      ]
    },
    {
      "cell_type": "code",
      "metadata": {
        "colab": {
          "base_uri": "https://localhost:8080/"
        },
        "id": "OdCYQHsi7ngx",
        "outputId": "57ebffc4-1d50-4a27-b5a1-50dfe440f15e"
      },
      "source": [
        "print(select(User))"
      ],
      "execution_count": 22,
      "outputs": [
        {
          "output_type": "stream",
          "text": [
            "SELECT user_account.id, user_account.name, user_account.fullname \n",
            "FROM user_account\n"
          ],
          "name": "stdout"
        }
      ]
    },
    {
      "cell_type": "markdown",
      "metadata": {
        "id": "9_uIG8glhn88"
      },
      "source": [
        "When executing a statement through the ORM `Session.execute()` method, we are selecting from a full entity (such as `User`). \n",
        "```\n",
        "# SELECT statement\n",
        "stmt = select(User).where(User.name == 'Squidward')\n",
        "# executing the SELECT statement and retrieving the rows\n",
        "with Session(engine) as session:\n",
        "  # iterating over the rows (like a cursor)\n",
        "  for row in session.execute(stmt):\n",
        "    print(row)\n",
        "```\n",
        "In this case, the entity itself is returned as a single element within each row. That is, when we fetch rows from the above statement, as there is only the `User` entity in the list of things to fetch, we get back `Row` objects that have only one element, which contain instances of the `User` class:"
      ]
    },
    {
      "cell_type": "code",
      "metadata": {
        "colab": {
          "base_uri": "https://localhost:8080/"
        },
        "id": "c3hhUUs57njv",
        "outputId": "0cb43c03-640a-4545-b666-9f80de36ee2b"
      },
      "source": [
        "row = session.execute(select(User)).first()\n",
        "row  # or row[0]"
      ],
      "execution_count": 23,
      "outputs": [
        {
          "output_type": "stream",
          "text": [
            "2021-08-17 16:06:35,759 INFO sqlalchemy.engine.Engine BEGIN (implicit)\n",
            "2021-08-17 16:06:35,763 INFO sqlalchemy.engine.Engine SELECT user_account.id, user_account.name, user_account.fullname \n",
            "FROM user_account\n",
            "2021-08-17 16:06:35,765 INFO sqlalchemy.engine.Engine [generated in 0.00256s] ()\n"
          ],
          "name": "stdout"
        },
        {
          "output_type": "execute_result",
          "data": {
            "text/plain": [
              "(User(id=1, name='Sandy', fullname='Sandy Cheeks'),)"
            ]
          },
          "metadata": {
            "tags": []
          },
          "execution_count": 23
        }
      ]
    },
    {
      "cell_type": "markdown",
      "metadata": {
        "id": "0howOslWi_5f"
      },
      "source": [
        "Alternatively, we can select individual columns of an ORM entity as distinct elements within result rows, by using the class-bound attributes; when these are passed to a construct such as `select()`, they are resolved into the Column or other SQL expression represented by each attribute:"
      ]
    },
    {
      "cell_type": "code",
      "metadata": {
        "colab": {
          "base_uri": "https://localhost:8080/"
        },
        "id": "pmIiBKTLjBI5",
        "outputId": "bcc65c93-6cf8-4c22-b212-f27a2cf73665"
      },
      "source": [
        "print(select(User.name, User.fullname))"
      ],
      "execution_count": 24,
      "outputs": [
        {
          "output_type": "stream",
          "text": [
            "SELECT user_account.name, user_account.fullname \n",
            "FROM user_account\n"
          ],
          "name": "stdout"
        }
      ]
    },
    {
      "cell_type": "code",
      "metadata": {
        "colab": {
          "base_uri": "https://localhost:8080/"
        },
        "id": "6GVp4WSOjEah",
        "outputId": "6e50c4e1-fbdb-4369-b80f-470f2c6d1d63"
      },
      "source": [
        "row = session.execute(select(User.name, User.fullname)).first()\n",
        "row"
      ],
      "execution_count": 25,
      "outputs": [
        {
          "output_type": "stream",
          "text": [
            "2021-08-17 16:06:35,794 INFO sqlalchemy.engine.Engine SELECT user_account.name, user_account.fullname \n",
            "FROM user_account\n",
            "2021-08-17 16:06:35,796 INFO sqlalchemy.engine.Engine [generated in 0.00214s] ()\n"
          ],
          "name": "stdout"
        },
        {
          "output_type": "execute_result",
          "data": {
            "text/plain": [
              "('Sandy', 'Sandy Cheeks')"
            ]
          },
          "metadata": {
            "tags": []
          },
          "execution_count": 25
        }
      ]
    },
    {
      "cell_type": "markdown",
      "metadata": {
        "id": "TthGvGvRjasK"
      },
      "source": [
        "The approaches can also be mixed, as below where we SELECT the name attribute of the `User` entity as the first element of the row, and combine it with full `Address` entities in the second element:"
      ]
    },
    {
      "cell_type": "code",
      "metadata": {
        "colab": {
          "base_uri": "https://localhost:8080/"
        },
        "id": "0TUMMT5rjbhz",
        "outputId": "92e9fec2-ddaf-4f68-ca95-9f8c8e62815c"
      },
      "source": [
        "# example of a SELECT combining User and Address attributes.\n",
        "# NOTE: this example will return an empty set for now, as we didn't insert values into the Address class yet.\n",
        "session.execute(\n",
        "    select(User.name, Address).\n",
        "    where(User.id==Address.user_id).\n",
        "    order_by(Address.id)\n",
        ").all()"
      ],
      "execution_count": 26,
      "outputs": [
        {
          "output_type": "stream",
          "text": [
            "2021-08-17 16:06:35,817 INFO sqlalchemy.engine.Engine SELECT user_account.name, address.id, address.email_address, address.user_id \n",
            "FROM user_account, address \n",
            "WHERE user_account.id = address.user_id ORDER BY address.id\n",
            "2021-08-17 16:06:35,821 INFO sqlalchemy.engine.Engine [generated in 0.00416s] ()\n"
          ],
          "name": "stdout"
        },
        {
          "output_type": "execute_result",
          "data": {
            "text/plain": [
              "[]"
            ]
          },
          "metadata": {
            "tags": []
          },
          "execution_count": 26
        }
      ]
    },
    {
      "cell_type": "markdown",
      "metadata": {
        "id": "SRGGUQiYlakl"
      },
      "source": [
        "### ORM: Updating objects\n",
        "---\n",
        "When using the ORM, there are two ways in which the `Update` construct is used. The primary way is that it is emitted automatically as part of the *unit of work* process used by the `Session`, where an UPDATE statement is emitted on a per-primary key basis corresponding to individual objects that have changes on them. \n",
        "\n",
        "Supposing we loaded the `User` object for the `username Sandy` into a transaction (also showing off the `Select.filter_by()` method as well as the `Result.scalar_one()` method):"
      ]
    },
    {
      "cell_type": "code",
      "metadata": {
        "colab": {
          "base_uri": "https://localhost:8080/"
        },
        "id": "C7xcI_DtmDSV",
        "outputId": "4c7824f1-7a65-47db-abee-d93c2c56eb27"
      },
      "source": [
        "# SELECT statement to retrieve the instance Sandy from the User class\n",
        "sandy = session.execute(select(User).filter_by(name=\"Sandy\")).scalar_one()"
      ],
      "execution_count": 27,
      "outputs": [
        {
          "output_type": "stream",
          "text": [
            "2021-08-17 16:06:35,839 INFO sqlalchemy.engine.Engine SELECT user_account.id, user_account.name, user_account.fullname \n",
            "FROM user_account \n",
            "WHERE user_account.name = ?\n",
            "2021-08-17 16:06:35,842 INFO sqlalchemy.engine.Engine [cached since 0.1154s ago] ('Sandy',)\n"
          ],
          "name": "stdout"
        }
      ]
    },
    {
      "cell_type": "code",
      "metadata": {
        "colab": {
          "base_uri": "https://localhost:8080/"
        },
        "id": "SsryJxAlmUzw",
        "outputId": "f79e5b34-34e8-45cc-8b0b-bb726dd335ed"
      },
      "source": [
        "sandy"
      ],
      "execution_count": 28,
      "outputs": [
        {
          "output_type": "execute_result",
          "data": {
            "text/plain": [
              "User(id=1, name='Sandy', fullname='Sandy Cheeks')"
            ]
          },
          "metadata": {
            "tags": []
          },
          "execution_count": 28
        }
      ]
    },
    {
      "cell_type": "markdown",
      "metadata": {
        "id": "gP21VeW1myd8"
      },
      "source": [
        "The `sandy` object is a **proxy** to the row in the table, which means any modification to this object will be later reflected in the table. But while this not occurs, the object appears in the `session.dirty` collection.\n"
      ]
    },
    {
      "cell_type": "code",
      "metadata": {
        "id": "dkksn-aWmyof"
      },
      "source": [
        "# Updating an object\n",
        "sandy.fullname = \"Sandy Squirrel\""
      ],
      "execution_count": 29,
      "outputs": []
    },
    {
      "cell_type": "code",
      "metadata": {
        "colab": {
          "base_uri": "https://localhost:8080/"
        },
        "id": "fXTQ8stbnHAu",
        "outputId": "17cc3ff9-8298-4ced-daac-9e0c6c785f84"
      },
      "source": [
        "# checking the state of the object - \"dirty\" means the modifications are not yet reflected in the table\n",
        "sandy in session.dirty"
      ],
      "execution_count": 30,
      "outputs": [
        {
          "output_type": "execute_result",
          "data": {
            "text/plain": [
              "True"
            ]
          },
          "metadata": {
            "tags": []
          },
          "execution_count": 30
        }
      ]
    },
    {
      "cell_type": "markdown",
      "metadata": {
        "id": "NluruknOn_nb"
      },
      "source": [
        "When the `Session` next emits a flush, an UPDATE will be emitted that updates this value in the database. As mentioned previously, a flush occurs automatically before we emit any SELECT, using a behavior known as **autoflush**. We can query directly for the `User.fullname` column from this row and we will get our updated value back:"
      ]
    },
    {
      "cell_type": "code",
      "metadata": {
        "colab": {
          "base_uri": "https://localhost:8080/"
        },
        "id": "r-UBNnfcn_x-",
        "outputId": "a3ff100a-443a-439c-f721-8d182c5a5c27"
      },
      "source": [
        "# SELECT statement using the User.id as key (1 for Sandy)\n",
        "sandy_fullname = session.execute(\n",
        "    select(User.fullname).where(User.id == 1)\n",
        ").scalar_one()"
      ],
      "execution_count": 31,
      "outputs": [
        {
          "output_type": "stream",
          "text": [
            "2021-08-17 16:06:35,903 INFO sqlalchemy.engine.Engine UPDATE user_account SET fullname=? WHERE user_account.id = ?\n",
            "2021-08-17 16:06:35,906 INFO sqlalchemy.engine.Engine [generated in 0.00355s] ('Sandy Squirrel', 1)\n",
            "2021-08-17 16:06:35,913 INFO sqlalchemy.engine.Engine SELECT user_account.fullname \n",
            "FROM user_account \n",
            "WHERE user_account.id = ?\n",
            "2021-08-17 16:06:35,916 INFO sqlalchemy.engine.Engine [generated in 0.00343s] (1,)\n"
          ],
          "name": "stdout"
        }
      ]
    },
    {
      "cell_type": "code",
      "metadata": {
        "colab": {
          "base_uri": "https://localhost:8080/"
        },
        "id": "m1O1N6lBoYwy",
        "outputId": "a2aa6295-01b2-4d13-c8d5-ce64dc2e7c2f"
      },
      "source": [
        "print(sandy_fullname)"
      ],
      "execution_count": 32,
      "outputs": [
        {
          "output_type": "stream",
          "text": [
            "Sandy Squirrel\n"
          ],
          "name": "stdout"
        }
      ]
    },
    {
      "cell_type": "code",
      "metadata": {
        "colab": {
          "base_uri": "https://localhost:8080/"
        },
        "id": "BpfSnrrbouZP",
        "outputId": "4d577bdf-d9bb-44c0-ff9b-84b1e321489d"
      },
      "source": [
        "# checking the state of the object - \"dirty == FALSE\" means all modifications were reflected in the database\n",
        "sandy in session.dirty"
      ],
      "execution_count": 33,
      "outputs": [
        {
          "output_type": "execute_result",
          "data": {
            "text/plain": [
              "False"
            ]
          },
          "metadata": {
            "tags": []
          },
          "execution_count": 33
        }
      ]
    },
    {
      "cell_type": "markdown",
      "metadata": {
        "id": "LBMoD449pDKb"
      },
      "source": [
        "### ORM-enabled UPDATE statements\n",
        "\n",
        "There’s a second way to emit UPDATE statements in terms of the ORM, which is known as an **ORM enabled UPDATE statement**. This allows the use of a generic SQL UPDATE statement that can affect many rows at once. For example to emit an UPDATE that will change the `User.fullname` column based on a value in the `User.name` column:"
      ]
    },
    {
      "cell_type": "code",
      "metadata": {
        "colab": {
          "base_uri": "https://localhost:8080/"
        },
        "id": "Hfq30JTGpVdn",
        "outputId": "8312bf02-f275-45b6-bb59-c7f98b436f42"
      },
      "source": [
        "# importing necessary libraries\n",
        "from sqlalchemy import update\n",
        "\n",
        "# UPDATE statement\n",
        "session.execute(\n",
        "    update(User).\n",
        "    where(User.name == \"Sandy\").\n",
        "    values(fullname=\"Sandy Squirrel Extraordinaire\")\n",
        ")"
      ],
      "execution_count": 34,
      "outputs": [
        {
          "output_type": "stream",
          "text": [
            "2021-08-17 16:06:35,974 INFO sqlalchemy.engine.Engine UPDATE user_account SET fullname=? WHERE user_account.name = ?\n",
            "2021-08-17 16:06:35,978 INFO sqlalchemy.engine.Engine [generated in 0.00369s] ('Sandy Squirrel Extraordinaire', 'Sandy')\n"
          ],
          "name": "stdout"
        },
        {
          "output_type": "execute_result",
          "data": {
            "text/plain": [
              "<sqlalchemy.engine.cursor.CursorResult at 0x7fd19af5f390>"
            ]
          },
          "metadata": {
            "tags": []
          },
          "execution_count": 34
        }
      ]
    },
    {
      "cell_type": "markdown",
      "metadata": {
        "id": "A5i5OSGksEuZ"
      },
      "source": [
        "### ORM: Deleting Objects\n",
        "\n",
        "To round out the basic persistence operations, an individual ORM object may be marked for deletion by using the `Session.delete()` method. Let’s load up `Eugene Krabs` from the database:"
      ]
    },
    {
      "cell_type": "code",
      "metadata": {
        "id": "Ld3tgwi9sa3z",
        "colab": {
          "base_uri": "https://localhost:8080/"
        },
        "outputId": "55be2e79-1296-4b6f-cd15-3e0f4e940d66"
      },
      "source": [
        "ehkrabs = session.get(User, 3) "
      ],
      "execution_count": 35,
      "outputs": [
        {
          "output_type": "stream",
          "text": [
            "2021-08-17 16:06:36,002 INFO sqlalchemy.engine.Engine SELECT user_account.id AS user_account_id, user_account.name AS user_account_name, user_account.fullname AS user_account_fullname \n",
            "FROM user_account \n",
            "WHERE user_account.id = ?\n",
            "2021-08-17 16:06:36,006 INFO sqlalchemy.engine.Engine [generated in 0.00460s] (3,)\n"
          ],
          "name": "stdout"
        }
      ]
    },
    {
      "cell_type": "markdown",
      "metadata": {
        "id": "I8z5-0XotEeb"
      },
      "source": [
        "We can mark the object for deletion. As is the case with other operations, nothing actually happens yet until a flush proceeds:\n",
        "\n"
      ]
    },
    {
      "cell_type": "code",
      "metadata": {
        "id": "TRE-3iEutEow"
      },
      "source": [
        "session.delete(ehkrabs)"
      ],
      "execution_count": 36,
      "outputs": []
    },
    {
      "cell_type": "markdown",
      "metadata": {
        "id": "dkhjNldMtH_g"
      },
      "source": [
        "Current ORM behavior is that the object stays in the `Session` until the flush proceeds, which as mentioned before occurs if we emit a query:"
      ]
    },
    {
      "cell_type": "code",
      "metadata": {
        "colab": {
          "base_uri": "https://localhost:8080/"
        },
        "id": "w_hcjQcMtIGT",
        "outputId": "2d87ee05-8a1e-4b25-ecb2-0f7ca5791441"
      },
      "source": [
        "session.execute(select(User).where(User.name == \"Eugene\")).first()"
      ],
      "execution_count": 37,
      "outputs": [
        {
          "output_type": "stream",
          "text": [
            "2021-08-17 16:06:36,046 INFO sqlalchemy.engine.Engine SELECT address.id AS address_id, address.email_address AS address_email_address, address.user_id AS address_user_id \n",
            "FROM address \n",
            "WHERE ? = address.user_id\n",
            "2021-08-17 16:06:36,050 INFO sqlalchemy.engine.Engine [generated in 0.00359s] (3,)\n",
            "2021-08-17 16:06:36,057 INFO sqlalchemy.engine.Engine DELETE FROM user_account WHERE user_account.id = ?\n",
            "2021-08-17 16:06:36,062 INFO sqlalchemy.engine.Engine [generated in 0.00475s] (3,)\n",
            "2021-08-17 16:06:36,067 INFO sqlalchemy.engine.Engine SELECT user_account.id, user_account.name, user_account.fullname \n",
            "FROM user_account \n",
            "WHERE user_account.name = ?\n",
            "2021-08-17 16:06:36,070 INFO sqlalchemy.engine.Engine [cached since 0.3438s ago] ('Eugene',)\n"
          ],
          "name": "stdout"
        }
      ]
    },
    {
      "cell_type": "markdown",
      "metadata": {
        "id": "iV4aIjvJtXbx"
      },
      "source": [
        "Above, the SELECT we asked to emit was preceded by a DELETE, which indicated the pending deletion for `ehkrabs` proceeded. \n",
        "\n",
        "We can confirm the object was deleted by checking the current `Session` objects.\n",
        "\n"
      ]
    },
    {
      "cell_type": "code",
      "metadata": {
        "colab": {
          "base_uri": "https://localhost:8080/"
        },
        "id": "iCXSG73OtXiU",
        "outputId": "f1f9e7f7-1e52-4def-8bbb-5818dc27d6f2"
      },
      "source": [
        "ehkrabs in session"
      ],
      "execution_count": 38,
      "outputs": [
        {
          "output_type": "execute_result",
          "data": {
            "text/plain": [
              "False"
            ]
          },
          "metadata": {
            "tags": []
          },
          "execution_count": 38
        }
      ]
    },
    {
      "cell_type": "markdown",
      "metadata": {
        "id": "rcdiw4gPux42"
      },
      "source": [
        "**IMPORTANT:** just like the UPDATEs we made to the `sandy` object, every change we’ve made here is local to an ongoing transaction, which won’t become permanent if we don’t commit it. \n",
        "\n",
        "**ORM-enabled DELETE Statements**\n",
        "\n",
        "Like UPDATE operations, there is also an ORM-enabled version of DELETE which we can illustrate by using the `delete()` construct with `Session.execute()`. It also has a feature by which non expired objects that match the given deletion criteria will be automatically marked as *deleted* in the `Session`:\n"
      ]
    },
    {
      "cell_type": "code",
      "metadata": {
        "colab": {
          "base_uri": "https://localhost:8080/"
        },
        "id": "EiZKKJrHvVkT",
        "outputId": "dd054f26-286b-4a59-d956-79c39e9c7e9e"
      },
      "source": [
        "# importing necessary libraries\n",
        "from sqlalchemy import delete\n",
        "\n",
        "# refresh the target object for demonstration purposes only, not needed for the DELETE\n",
        "squidward = session.get(User, 2)\n",
        "\n",
        "# DELETE statement\n",
        "session.execute(delete(User).where(User.name == \"Squidward\"))"
      ],
      "execution_count": 39,
      "outputs": [
        {
          "output_type": "stream",
          "text": [
            "2021-08-17 16:06:36,110 INFO sqlalchemy.engine.Engine SELECT user_account.id AS user_account_id, user_account.name AS user_account_name, user_account.fullname AS user_account_fullname \n",
            "FROM user_account \n",
            "WHERE user_account.id = ?\n",
            "2021-08-17 16:06:36,115 INFO sqlalchemy.engine.Engine [cached since 0.1131s ago] (2,)\n",
            "2021-08-17 16:06:36,122 INFO sqlalchemy.engine.Engine DELETE FROM user_account WHERE user_account.name = ?\n",
            "2021-08-17 16:06:36,125 INFO sqlalchemy.engine.Engine [generated in 0.00323s] ('Squidward',)\n"
          ],
          "name": "stdout"
        },
        {
          "output_type": "execute_result",
          "data": {
            "text/plain": [
              "<sqlalchemy.engine.cursor.CursorResult at 0x7fd19ab2f910>"
            ]
          },
          "metadata": {
            "tags": []
          },
          "execution_count": 39
        }
      ]
    },
    {
      "cell_type": "code",
      "metadata": {
        "colab": {
          "base_uri": "https://localhost:8080/"
        },
        "id": "altxXUlRvzvD",
        "outputId": "79a1c22b-7bb9-4864-8aa7-c6a42c43463a"
      },
      "source": [
        "squidward in session"
      ],
      "execution_count": 40,
      "outputs": [
        {
          "output_type": "execute_result",
          "data": {
            "text/plain": [
              "False"
            ]
          },
          "metadata": {
            "tags": []
          },
          "execution_count": 40
        }
      ]
    },
    {
      "cell_type": "markdown",
      "metadata": {
        "id": "UmNYWtXVNMFq"
      },
      "source": [
        "### [OPTIONAL - BUT IMPORTANT] Rolling back a session\n",
        "---\n",
        "The `Session` has a `Session.rollback()` method that as expected emits a ROLLBACK on the SQL connection in progress. However, it also has an effect on the objects that are currently associated with the `Session`.\n",
        "\n",
        "In the previous example, with the object `sandy`, we changed the `.fullname` to read \"Sandy Squirrel\". We want to roll back this change. Calling `Session.rollback()` will not only roll back the transaction but also **expire all objects** currently associated with this `Session`, which will have the effect that they will refresh themselves when next accessed using a process known as [lazy loading](https://docs.sqlalchemy.org/en/14/glossary.html#term-lazy-loading):\n"
      ]
    },
    {
      "cell_type": "code",
      "metadata": {
        "id": "zdJggkmsxA2P"
      },
      "source": [
        "# Rolling back the session\n",
        "# session.rollback()"
      ],
      "execution_count": 41,
      "outputs": []
    },
    {
      "cell_type": "markdown",
      "metadata": {
        "id": "PDbPAToWxK6X"
      },
      "source": [
        "To view the “expiration” process more closely, we may observe that object `sandy` has no state left within its Python `__dict__`, with the exception of a special SQLAlchemy internal state object:"
      ]
    },
    {
      "cell_type": "code",
      "metadata": {
        "id": "MQ8pAZIFxSaS"
      },
      "source": [
        "# sandy.__dict__"
      ],
      "execution_count": 42,
      "outputs": []
    },
    {
      "cell_type": "markdown",
      "metadata": {
        "id": "6SgDkUZSxXB0"
      },
      "source": [
        "This is the “expired” state; accessing the attribute again will autobegin a new transaction and refresh `sandy` with the current database row:"
      ]
    },
    {
      "cell_type": "code",
      "metadata": {
        "id": "XXYBSFZmxdwl"
      },
      "source": [
        "# sandy.fullname"
      ],
      "execution_count": 43,
      "outputs": []
    },
    {
      "cell_type": "markdown",
      "metadata": {
        "id": "4arYamoFxjUm"
      },
      "source": [
        "We may now observe that the full database row was also populated into the `__dict__` of the `sandy` object:"
      ]
    },
    {
      "cell_type": "code",
      "metadata": {
        "id": "W2UNFWwfxmqM"
      },
      "source": [
        "# sandy.__dict__"
      ],
      "execution_count": 44,
      "outputs": []
    },
    {
      "cell_type": "markdown",
      "metadata": {
        "id": "h2D-MWHExsCB"
      },
      "source": [
        "For **deleted objects**, when we earlier noted that `ehkrabs` was no longer in the session, that object’s identity is also restored:"
      ]
    },
    {
      "cell_type": "code",
      "metadata": {
        "id": "u-DN3C00xyRM"
      },
      "source": [
        "# ehkrabs in session"
      ],
      "execution_count": 45,
      "outputs": []
    },
    {
      "cell_type": "markdown",
      "metadata": {
        "id": "K_7UH7ymx6ss"
      },
      "source": [
        "and of course the database data is present again as well:\n"
      ]
    },
    {
      "cell_type": "code",
      "metadata": {
        "id": "XqqacodiyCYi"
      },
      "source": [
        "# session.execute(select(User).where(User.name == 'Eugene')).scalar_one() is ehkrabs"
      ],
      "execution_count": 46,
      "outputs": []
    },
    {
      "cell_type": "markdown",
      "metadata": {
        "id": "mFoSbfscyUmw"
      },
      "source": [
        "### ORM: Closing a Session\n",
        "\n",
        "Within the above sections we used a `Session` object outside of a Python context manager (that is, we didn’t use the `with` statement). That’s fine, however if we are doing things this way, it’s best that we explicitly close out the `Session` when we are done with it:"
      ]
    },
    {
      "cell_type": "code",
      "metadata": {
        "colab": {
          "base_uri": "https://localhost:8080/"
        },
        "id": "zKPuNcxMyfir",
        "outputId": "926b773d-7303-4d2c-e33b-0bae084b9f04"
      },
      "source": [
        "# explicitly closing the Session\n",
        "session.close()"
      ],
      "execution_count": 47,
      "outputs": [
        {
          "output_type": "stream",
          "text": [
            "2021-08-17 16:06:36,248 INFO sqlalchemy.engine.Engine ROLLBACK\n"
          ],
          "name": "stdout"
        }
      ]
    },
    {
      "cell_type": "markdown",
      "metadata": {
        "id": "LMi-jyAvzF3Y"
      },
      "source": [
        "___\n",
        "### ORM: Relationships among objects\n",
        "---\n",
        "In this section, we will discuss how ORM interacts with mapped classes that refer to other objects. At the beginning of this code (and also reproduced below), the mapped class examples made use of a construct called `relationship()`. This construct defines a linkage between two different mapped classes, or from a mapped class to itself, the latter of which is called a *self-referential relationship*.\n",
        "\n",
        "To describe the basic idea of `relationship()`, first we’ll review the mapping in short form, omitting the Column mappings and other directives:\n",
        "```\n",
        "# class User (inherits from Base)\n",
        "class User(Base):\n",
        "  # the table name to associate this class to\n",
        "  __tablename__ = 'user_account'\n",
        "  # metadata\n",
        "\n",
        "  # relationship mapping ONE user to MANY addressess\n",
        "  # this is optional at this point => but addressed later in this code\n",
        "  addresses = relationship(\"Address\", back_populates=\"user\")\n",
        "\n",
        "# class Address (inherits from Base)\n",
        "class Address(Base):\n",
        "  # the table name to associate this class to\n",
        "  __tablename__ = 'address'\n",
        "  # metadata\n",
        "\n",
        "  # relationship mapping MANY addressess to ONE user\n",
        "  # this is optional at this point => but addressed later in this code\n",
        "  user = relationship(\"User\", back_populates=\"addresses\")\n",
        "```\n",
        "\n",
        "Above, the `User` class has an attribute `User.addresses` and the `Address` class has an attribute `Address.user`. The `relationship()` construct will be used to inspect the table relationships between the Table objects that are mapped to the `User` and `Address` classes. As the Table object representing the address table has a `ForeignKeyConstraint` which refers to the `user_account` table, the `relationship()` can determine unambiguously that **there is a one to many relationship from `User.addresses` to `User`; one particular row in the `user_account` table may be referred towards by many rows in the `address` table**.\n",
        "\n",
        "**All one-to-many relationships naturally correspond to a many to one relationship in the other direction**, in this case the one noted by `Address.user`. The `relationship.back_populates parameter`, configured on both `relationship()` objects referring to the other name, establishes that **each of these two `relationship()` constructs should be considered to be complimentary to each other**.\n"
      ]
    },
    {
      "cell_type": "markdown",
      "metadata": {
        "id": "N4vNWxeSgNv8"
      },
      "source": [
        "**Persisting and loading Relationships**\n",
        "\n",
        "Let's see what `relationship()` does to instances of objects. If we make a new `User` object, we can note that there is a Python list when we access the `.addresses` element:\n"
      ]
    },
    {
      "cell_type": "code",
      "metadata": {
        "colab": {
          "base_uri": "https://localhost:8080/"
        },
        "id": "1_pYrqxAghCw",
        "outputId": "33208ade-aa54-405c-9f6c-5d589a5e13e7"
      },
      "source": [
        "# creating (inserting) a new User object\n",
        "u1 = User(name='Larry', fullname='Larry the Lobster')\n",
        "# checking the address list associated to this object\n",
        "u1.addresses"
      ],
      "execution_count": 48,
      "outputs": [
        {
          "output_type": "execute_result",
          "data": {
            "text/plain": [
              "[]"
            ]
          },
          "metadata": {
            "tags": []
          },
          "execution_count": 48
        }
      ]
    },
    {
      "cell_type": "markdown",
      "metadata": {
        "id": "acmilCIxghYW"
      },
      "source": [
        "This object is a SQLAlchemy-specific version of Python list which has the ability to track and respond to changes made to it. The collection also appeared automatically when we accessed the attribute, even though we never assigned it to the object. This is similar to the behavior noted at *ORM: Inserting rows* where it was observed that column-based attributes to which we don’t explicitly assign a value also display as `None` automatically, rather than raising an `AttributeError` as would be Python’s usual behavior.\n",
        "\n",
        "As the `u1` object is still transient and the list that we got from `u1.addresses` has not been mutated (i.e. appended or extended), it’s not actually associated with the object yet, but as we make changes to it, it will become part of the state of the `User` object.\n",
        "\n",
        "The collection is specific to the `Address` class which is the only type of Python object that may be persisted within it. Using the `list.append()` method we may add an `Address` object:"
      ]
    },
    {
      "cell_type": "code",
      "metadata": {
        "id": "B8C6FA2hhaCe"
      },
      "source": [
        "# inserting an Address object related to User u1\n",
        "a1 = Address(email_address=\"larry.lobster@sea.com\")\n",
        "u1.addresses.append(a1)"
      ],
      "execution_count": 49,
      "outputs": []
    },
    {
      "cell_type": "code",
      "metadata": {
        "colab": {
          "base_uri": "https://localhost:8080/"
        },
        "id": "1Y916rHYhrlG",
        "outputId": "2d73c6d8-94bc-45ab-9776-d6f71ae94847"
      },
      "source": [
        "# checking again the address list associated to this object\n",
        "u1.addresses"
      ],
      "execution_count": 50,
      "outputs": [
        {
          "output_type": "execute_result",
          "data": {
            "text/plain": [
              "[Address(id=None, email_address='larry.lobster@sea.com')]"
            ]
          },
          "metadata": {
            "tags": []
          },
          "execution_count": 50
        }
      ]
    },
    {
      "cell_type": "markdown",
      "metadata": {
        "id": "0D-uj2hLh8h8"
      },
      "source": [
        "**Bidirectional navigation**\n",
        "\n",
        "As we associated the `Address` object with the `User.addresses` collection of the u1 instance, another behavior also occurred, which is that the `User.addresses` relationship synchronized itself with the `Address.user` relationship, such that we can navigate not only from the `User` object to the `Address` object, we can also navigate from the `Address` object back to the *parent* `User` object:"
      ]
    },
    {
      "cell_type": "code",
      "metadata": {
        "colab": {
          "base_uri": "https://localhost:8080/"
        },
        "id": "x6n8JsBoiMK9",
        "outputId": "f098f80f-2505-4474-95d5-21bd1de28e6b"
      },
      "source": [
        "# checking the User (parent object) associated with an Address object\n",
        "a1.user"
      ],
      "execution_count": 51,
      "outputs": [
        {
          "output_type": "execute_result",
          "data": {
            "text/plain": [
              "User(id=None, name='Larry', fullname='Larry the Lobster')"
            ]
          },
          "metadata": {
            "tags": []
          },
          "execution_count": 51
        }
      ]
    },
    {
      "cell_type": "markdown",
      "metadata": {
        "id": "gXi4WT5Lin7e"
      },
      "source": [
        "This synchronization occurred as a result of the `relationship.back_populates` parameter between the two `relationship()` objects. This parameter names another `relationship()` for which complementary attribute assignment / list mutation should occur. It will work equally well in the other direction, which is that if we create another `Address` object and assign to its `Address.user` attribute, that `Address` becomes part of the `User.addresses` collection on that `User` object:\n"
      ]
    },
    {
      "cell_type": "code",
      "metadata": {
        "colab": {
          "base_uri": "https://localhost:8080/"
        },
        "id": "kKW2JCZeirGQ",
        "outputId": "1c748b93-b3c7-4a41-e67d-d65e0990e50c"
      },
      "source": [
        "# inserting another Address object associated with User u1\n",
        "a2 = Address(email_address=\"larrylob@aol.com\", user=u1)\n",
        "u1.addresses"
      ],
      "execution_count": 52,
      "outputs": [
        {
          "output_type": "execute_result",
          "data": {
            "text/plain": [
              "[Address(id=None, email_address='larry.lobster@sea.com'),\n",
              " Address(id=None, email_address='larrylob@aol.com')]"
            ]
          },
          "metadata": {
            "tags": []
          },
          "execution_count": 52
        }
      ]
    },
    {
      "cell_type": "markdown",
      "metadata": {
        "id": "n3Mg9fwSirrM"
      },
      "source": [
        "We actually made use of the `user`` parameter as a keyword argument in the `Address` constructor, which is accepted just like any other mapped attribute that was declared on the `Address` class. It is equivalent to assignment of the `Address.user` attribute after the fact:\n"
      ]
    },
    {
      "cell_type": "code",
      "metadata": {
        "colab": {
          "base_uri": "https://localhost:8080/"
        },
        "id": "kiJdW2oljiHG",
        "outputId": "92f49f36-1bc9-4fdc-b7ec-40f8cb146ae1"
      },
      "source": [
        "# equivalent effect as a2 = Address(user=u1)\n",
        "a2.user = u1\n",
        "a2.user"
      ],
      "execution_count": 53,
      "outputs": [
        {
          "output_type": "execute_result",
          "data": {
            "text/plain": [
              "User(id=None, name='Larry', fullname='Larry the Lobster')"
            ]
          },
          "metadata": {
            "tags": []
          },
          "execution_count": 53
        }
      ]
    },
    {
      "cell_type": "markdown",
      "metadata": {
        "id": "2MVaaV70kAMR"
      },
      "source": [
        "**Cascading objects into the Session**\n",
        "\n",
        "We now have a `User` and two `Address` objects that are associated in a bidirectional structure in memory, but these objects are said to be in the **transient** state until they are associated with a `Session` object.\n",
        "\n",
        "We make use of the `Session.add()` method to the lead `User` object, so we add it and its related `Address` objects to the same `Session`. This behaviour is known as **save-update cascade**: the `Session` received a `User` object, and followed along the `User.addresses` relationship to locate all related `Address` objects.\n",
        "\n"
      ]
    },
    {
      "cell_type": "code",
      "metadata": {
        "colab": {
          "base_uri": "https://localhost:8080/"
        },
        "id": "INAtRPiXkiuw",
        "outputId": "a5671fd6-7087-4ad7-9b8b-46c3fc8a0953"
      },
      "source": [
        "# inserting User u1 into the session\n",
        "session.add(u1)\n",
        "u1 in session"
      ],
      "execution_count": 54,
      "outputs": [
        {
          "output_type": "execute_result",
          "data": {
            "text/plain": [
              "True"
            ]
          },
          "metadata": {
            "tags": []
          },
          "execution_count": 54
        }
      ]
    },
    {
      "cell_type": "code",
      "metadata": {
        "colab": {
          "base_uri": "https://localhost:8080/"
        },
        "id": "I8nKhX_0kw-H",
        "outputId": "38c1c227-dda1-4dfb-c5a8-3f9bdfbb4224"
      },
      "source": [
        "# checking whether the Address objects associatd to User u1 are in the session \n",
        "a1 in session # do the same for a2"
      ],
      "execution_count": 55,
      "outputs": [
        {
          "output_type": "execute_result",
          "data": {
            "text/plain": [
              "True"
            ]
          },
          "metadata": {
            "tags": []
          },
          "execution_count": 55
        }
      ]
    },
    {
      "cell_type": "markdown",
      "metadata": {
        "id": "4KqdwDxWlwj3"
      },
      "source": [
        "**IMPORTANT:** The three objects are now in the **pending** state; this means they are ready to be the subject of an INSERT operation but this has not yet proceeded. All three objects have no primary key assigned yet, and in addition, the `a1` and `a2` objects have an attribute called `user_id` which refers to the Column that has a `ForeignKeyConstraint` referring to the `user_account.id` column; these are also `None` as the objects are not yet associated with a real database row:"
      ]
    },
    {
      "cell_type": "code",
      "metadata": {
        "colab": {
          "base_uri": "https://localhost:8080/"
        },
        "id": "fC4T5jj4mAk9",
        "outputId": "099f6ead-547b-425f-d894-11a5a21e6039"
      },
      "source": [
        "# printing the User ID (primary key) => None for now, as the object has not yet been inserted in the database\n",
        "print(u1.id)\n",
        "# the same applies to the User ID attached to the Address object \"a1\"\n",
        "print(a1.user_id)"
      ],
      "execution_count": 56,
      "outputs": [
        {
          "output_type": "stream",
          "text": [
            "None\n",
            "None\n"
          ],
          "name": "stdout"
        }
      ]
    },
    {
      "cell_type": "markdown",
      "metadata": {
        "id": "J0lVvsSsnDB3"
      },
      "source": [
        "**IMPORTANT:** the `Session.commit()` command takes care of inserting all objects into the database **in the right order for generating all necessary foreign keys**. In this example, the newly generated primary key of the `user_account` row is applied to the `address.user_id` column appropriately:"
      ]
    },
    {
      "cell_type": "code",
      "metadata": {
        "colab": {
          "base_uri": "https://localhost:8080/"
        },
        "id": "i7iTrV9nnEER",
        "outputId": "82600712-bccc-46b2-89f9-f3d435df4bd2"
      },
      "source": [
        "session.commit()"
      ],
      "execution_count": 57,
      "outputs": [
        {
          "output_type": "stream",
          "text": [
            "2021-08-17 16:06:36,405 INFO sqlalchemy.engine.Engine BEGIN (implicit)\n",
            "2021-08-17 16:06:36,409 INFO sqlalchemy.engine.Engine INSERT INTO user_account (name, fullname) VALUES (?, ?)\n",
            "2021-08-17 16:06:36,411 INFO sqlalchemy.engine.Engine [cached since 0.7724s ago] ('Larry', 'Larry the Lobster')\n",
            "2021-08-17 16:06:36,417 INFO sqlalchemy.engine.Engine INSERT INTO address (email_address, user_id) VALUES (?, ?)\n",
            "2021-08-17 16:06:36,420 INFO sqlalchemy.engine.Engine [generated in 0.00292s] ('larry.lobster@sea.com', 4)\n",
            "2021-08-17 16:06:36,423 INFO sqlalchemy.engine.Engine INSERT INTO address (email_address, user_id) VALUES (?, ?)\n",
            "2021-08-17 16:06:36,426 INFO sqlalchemy.engine.Engine [cached since 0.009043s ago] ('larrylob@aol.com', 4)\n",
            "2021-08-17 16:06:36,430 INFO sqlalchemy.engine.Engine COMMIT\n"
          ],
          "name": "stdout"
        }
      ]
    },
    {
      "cell_type": "markdown",
      "metadata": {
        "id": "DZ-g0J3Wn_oA"
      },
      "source": [
        "**Loading relationships**\n",
        "\n",
        "When we called `Session.commit()`, we emitted a COMMIT for the transaction, and then per `Session.commit.expire_on_commit` **expired all objects** so that they refresh for the next transaction.\n",
        "\n",
        "When we next access an attribute on these objects, we’ll see the SELECT emitted for the primary attributes of the row, such as when we view the newly generated primary key for the `u1` object:"
      ]
    },
    {
      "cell_type": "code",
      "metadata": {
        "colab": {
          "base_uri": "https://localhost:8080/"
        },
        "id": "PBIySAzRn_wt",
        "outputId": "f22e1a34-04ef-436f-8c23-a4f52553a6e6"
      },
      "source": [
        "u1.id"
      ],
      "execution_count": 58,
      "outputs": [
        {
          "output_type": "stream",
          "text": [
            "2021-08-17 16:06:36,444 INFO sqlalchemy.engine.Engine BEGIN (implicit)\n",
            "2021-08-17 16:06:36,453 INFO sqlalchemy.engine.Engine SELECT user_account.id AS user_account_id, user_account.name AS user_account_name, user_account.fullname AS user_account_fullname \n",
            "FROM user_account \n",
            "WHERE user_account.id = ?\n",
            "2021-08-17 16:06:36,457 INFO sqlalchemy.engine.Engine [generated in 0.00378s] (4,)\n"
          ],
          "name": "stdout"
        },
        {
          "output_type": "execute_result",
          "data": {
            "text/plain": [
              "4"
            ]
          },
          "metadata": {
            "tags": []
          },
          "execution_count": 58
        }
      ]
    },
    {
      "cell_type": "markdown",
      "metadata": {
        "id": "Y346gq4wqish"
      },
      "source": [
        "The `u1` User object now has a **persistent** collection `User.addresses` that we may also access. "
      ]
    },
    {
      "cell_type": "code",
      "metadata": {
        "colab": {
          "base_uri": "https://localhost:8080/"
        },
        "id": "VfbCsJ8ooakR",
        "outputId": "4cc2f0c1-7e9d-442e-a9b4-87ad37710929"
      },
      "source": [
        "u1.addresses"
      ],
      "execution_count": 59,
      "outputs": [
        {
          "output_type": "stream",
          "text": [
            "2021-08-17 16:06:36,473 INFO sqlalchemy.engine.Engine SELECT address.id AS address_id, address.email_address AS address_email_address, address.user_id AS address_user_id \n",
            "FROM address \n",
            "WHERE ? = address.user_id\n",
            "2021-08-17 16:06:36,477 INFO sqlalchemy.engine.Engine [cached since 0.431s ago] (4,)\n"
          ],
          "name": "stdout"
        },
        {
          "output_type": "execute_result",
          "data": {
            "text/plain": [
              "[Address(id=1, email_address='larry.lobster@sea.com'),\n",
              " Address(id=2, email_address='larrylob@aol.com')]"
            ]
          },
          "metadata": {
            "tags": []
          },
          "execution_count": 59
        }
      ]
    },
    {
      "cell_type": "markdown",
      "metadata": {
        "id": "3r7ByA_2rKRh"
      },
      "source": [
        "### ORM: Using relationships in queries\n",
        "---\n",
        "In this section, we introduce the behavior of `relationship()` as it applies to **class level behavior of a mapped class**, where it serves in several ways to help automate the construction of SQL queries.\n",
        "\n",
        "**Using relationships to join**\n",
        "\n",
        "The [ex2_sqlalchemy_Core.ipynb](ex2_sqlalchemy_Core.ipynb) code introduced the usage of the `Select.join()` and `Select.join_from()` methods to compose SQL JOIN clauses. In order to describe how to join between tables, these methods either infer the ON clause based on the presence of a single unambiguous `ForeignKeyConstraint` object within the table metadata structure that links the two tables, or otherwise we may provide an explicit SQL Expression construct that indicates a specific ON clause.\n",
        "\n",
        "When using ORM entities, an additional mechanism is available to help us set up the ON clause of a join, which is to make use of the `relationship()` objects that we set up in our `User` and `Address` mapping. The class-bound attribute corresponding to the `relationship()` may be passed as the single argument to `Select.join()`, where it serves to indicate both the right side of the join as well as the ON clause at once:"
      ]
    },
    {
      "cell_type": "code",
      "metadata": {
        "colab": {
          "base_uri": "https://localhost:8080/"
        },
        "id": "51yce7TDr8sm",
        "outputId": "73215a0f-54be-4f18-d46a-be25de23b127"
      },
      "source": [
        "# SELECT statement using an ON clause to join tables (User and Address objects)\n",
        "print(\n",
        "    select(Address.email_address).\n",
        "    select_from(User).\n",
        "    join(User.addresses) # using the relationship attribute from User to fetch corresponding addresses\n",
        ")"
      ],
      "execution_count": 60,
      "outputs": [
        {
          "output_type": "stream",
          "text": [
            "SELECT address.email_address \n",
            "FROM user_account JOIN address ON user_account.id = address.user_id\n"
          ],
          "name": "stdout"
        }
      ]
    },
    {
      "cell_type": "markdown",
      "metadata": {
        "id": "pEuTcOcrsfzp"
      },
      "source": [
        "**IMPORTANT:** the presence of an ORM `relationship()` on a mapping is not used by `Select.join()` or `Select.join_from()`. If we don’t specify it, it is not used for ON clause inference. This means, if we join from `User` to `Address` without an ON clause, it works because of the `ForeignKeyConstraint` between the two mapped Table objects, not because of the `relationship()` objects on the `User` and `Address` classes:"
      ]
    },
    {
      "cell_type": "code",
      "metadata": {
        "colab": {
          "base_uri": "https://localhost:8080/"
        },
        "id": "rzzvQKn-sf6V",
        "outputId": "d8be7a7f-64a7-400d-b279-cfba936fb538"
      },
      "source": [
        "# SELECT statement NOT using an ON clause to join tables (User and Address objects)\n",
        "print(\n",
        "    select(Address.email_address).\n",
        "    join_from(User, Address) # using the ForeignKeyConstraint to perform the join\n",
        ")"
      ],
      "execution_count": 61,
      "outputs": [
        {
          "output_type": "stream",
          "text": [
            "SELECT address.email_address \n",
            "FROM user_account JOIN address ON user_account.id = address.user_id\n"
          ],
          "name": "stdout"
        }
      ]
    },
    {
      "cell_type": "markdown",
      "metadata": {
        "id": "aN6xomB_kom_"
      },
      "source": [
        "### ORM: Entity Aliases\n",
        "\n",
        "If we want to associate an alias to an object, we can use the ORM `aliased()` function, which may be applied to an entity such as `User` and `Address`. This produces an **alias object internally** that’s against the original mapped Table object, while maintaining ORM functionality. The SELECT below selects from the `User` entity all objects that include two particular email addresses:"
      ]
    },
    {
      "cell_type": "code",
      "metadata": {
        "colab": {
          "base_uri": "https://localhost:8080/"
        },
        "id": "tfnuOEmyhq7F",
        "outputId": "0926eb8f-a68b-4763-a3ac-5ff6239451a6"
      },
      "source": [
        "# importing necessary libraries\n",
        "from sqlalchemy.orm import aliased\n",
        "\n",
        "# creating aliases to the Address objects \n",
        "address_alias_1 = aliased(Address)\n",
        "address_alias_2 = aliased(Address)\n",
        "\n",
        "# SELECT statement making use of aliased tables (objects)\n",
        "print(\n",
        "    select(User).\n",
        "    join_from(User, address_alias_1).\n",
        "    where(address_alias_1.email_address == 'larrylob@aol.com').\n",
        "    join_from(User, address_alias_2).\n",
        "    where(address_alias_2.email_address == 'larry.lobster@sea.com')\n",
        ")"
      ],
      "execution_count": 62,
      "outputs": [
        {
          "output_type": "stream",
          "text": [
            "SELECT user_account.id, user_account.name, user_account.fullname \n",
            "FROM user_account JOIN address AS address_1 ON user_account.id = address_1.user_id JOIN address AS address_2 ON user_account.id = address_2.user_id \n",
            "WHERE address_1.email_address = :email_address_1 AND address_2.email_address = :email_address_2\n"
          ],
          "name": "stdout"
        }
      ]
    },
    {
      "cell_type": "markdown",
      "metadata": {
        "id": "NLYTwGl5vrSC"
      },
      "source": [
        "To make use of a `relationship()` to construct a JOIN from an aliased entity, the attribute is available from the `aliased()` construct directly."
      ]
    },
    {
      "cell_type": "code",
      "metadata": {
        "colab": {
          "base_uri": "https://localhost:8080/"
        },
        "id": "EisxznKhvrkQ",
        "outputId": "baf9f5e7-6185-4c42-e5d7-c06c63f1d77c"
      },
      "source": [
        "# aliased User object\n",
        "user_alias_1 = aliased(User)\n",
        "\n",
        "# SELECT statement making use of the aliased object referring to User\n",
        "print(\n",
        "    select(user_alias_1.name).\n",
        "    join(user_alias_1.addresses)\n",
        ")"
      ],
      "execution_count": 63,
      "outputs": [
        {
          "output_type": "stream",
          "text": [
            "SELECT user_account_1.name \n",
            "FROM user_account AS user_account_1 JOIN address ON user_account_1.id = address.user_id\n"
          ],
          "name": "stdout"
        }
      ]
    },
    {
      "cell_type": "markdown",
      "metadata": {
        "id": "3Nz6kPc4wqav"
      },
      "source": [
        "**Augmenting the ON criteria**\n",
        "\n",
        "The ON clause generated by the `relationship()` construct may also be augmented with additional criteria. For example, we can use the `PropComparator.and_()` method that will be joined to the ON clause of the JOIN via AND.\n",
        "\n",
        "Check the [documentation](https://docs.sqlalchemy.org/en/14/tutorial/orm_related_objects.html) for additional functions you can use, especially for the `PropComparator` class and **common relationship operators**.\n",
        "\n",
        "For example, if we wanted to JOIN from `User` to `Address` but also limit the ON criteria to only certain email addresses:"
      ]
    },
    {
      "cell_type": "code",
      "metadata": {
        "colab": {
          "base_uri": "https://localhost:8080/"
        },
        "id": "lGDWdT-Qwqi3",
        "outputId": "208e5e9c-1aec-40f4-dabb-309ed297e089"
      },
      "source": [
        "# SELECT statement making use of AND to refine the JOIN clause\n",
        "stmt = (\n",
        "    select(User.fullname).\n",
        "    join(User.addresses.and_(Address.email_address == 'larrylob@aol.com'))\n",
        ")\n",
        "# executing the command and retrieving the resulting rows\n",
        "session.execute(stmt).all()"
      ],
      "execution_count": 64,
      "outputs": [
        {
          "output_type": "stream",
          "text": [
            "2021-08-17 16:06:36,573 INFO sqlalchemy.engine.Engine SELECT user_account.fullname \n",
            "FROM user_account JOIN address ON user_account.id = address.user_id AND address.email_address = ?\n",
            "2021-08-17 16:06:36,576 INFO sqlalchemy.engine.Engine [generated in 0.00278s] ('larrylob@aol.com',)\n"
          ],
          "name": "stdout"
        },
        {
          "output_type": "execute_result",
          "data": {
            "text/plain": [
              "[('Larry the Lobster',)]"
            ]
          },
          "metadata": {
            "tags": []
          },
          "execution_count": 64
        }
      ]
    },
    {
      "cell_type": "markdown",
      "metadata": {
        "id": "whTFsTflk34r"
      },
      "source": [
        "### ORM: Entity subqueries and CTEs\n",
        "---\n",
        "`[from documentation]`\n",
        "\n",
        "In the ORM, the `aliased()` construct may be used to associate an ORM entity, such as our `User` or `Address` class, with any `FromClause` concept that represents a source of rows. The preceding section illustrates using `aliased()` to associate the mapped class with an Alias of its mapped Table. Here we illustrate `aliased()` doing the same thing against both a Subquery as well as a CTE generated against a Select construct, that ultimately derives from that same mapped Table.\n",
        "\n",
        "Below is an example of applying `aliased()` to the Subquery construct, so that ORM entities can be extracted from its rows. The result shows a series of `User` and `Address` objects, where the data for each `Address` object ultimately came from a subquery against the `address` table rather than that table directly:"
      ]
    },
    {
      "cell_type": "code",
      "metadata": {
        "colab": {
          "base_uri": "https://localhost:8080/"
        },
        "id": "4tD55e-U0nct",
        "outputId": "20f1b05c-ee55-413f-9c76-b94387745b78"
      },
      "source": [
        "# creating a subquery to retrieve all email addresses that match the selection criterua\n",
        "subq = select(Address).where(~Address.email_address.like('%@aol.com')).subquery()\n",
        "# creating an aliased object to refer to the matching email addresses\n",
        "address_subq = aliased(Address, subq)\n",
        "# SELECT statement using the subquery over a joined User+Address object\n",
        "stmt = select(User, address_subq).join_from(User, address_subq).order_by(User.id, address_subq.id)\n",
        "\n",
        "# opening a session to execute the SELECT statement\n",
        "with Session(engine) as session:\n",
        "  # executing the command and iterating over the resulting rows\n",
        "  for user, address in session.execute(stmt):\n",
        "    print(f\"{user} => {address}\")"
      ],
      "execution_count": 65,
      "outputs": [
        {
          "output_type": "stream",
          "text": [
            "2021-08-17 16:06:36,601 INFO sqlalchemy.engine.Engine BEGIN (implicit)\n",
            "2021-08-17 16:06:36,610 INFO sqlalchemy.engine.Engine SELECT user_account.id, user_account.name, user_account.fullname, anon_1.id AS id_1, anon_1.email_address, anon_1.user_id \n",
            "FROM user_account JOIN (SELECT address.id AS id, address.email_address AS email_address, address.user_id AS user_id \n",
            "FROM address \n",
            "WHERE address.email_address NOT LIKE ?) AS anon_1 ON user_account.id = anon_1.user_id ORDER BY user_account.id, anon_1.id\n",
            "2021-08-17 16:06:36,614 INFO sqlalchemy.engine.Engine [generated in 0.00384s] ('%@aol.com',)\n",
            "User(id=4, name='Larry', fullname='Larry the Lobster') => Address(id=1, email_address='larry.lobster@sea.com')\n",
            "2021-08-17 16:06:36,618 INFO sqlalchemy.engine.Engine ROLLBACK\n"
          ],
          "name": "stdout"
        }
      ]
    },
    {
      "cell_type": "markdown",
      "metadata": {
        "id": "Yk4eQRpmk9wV"
      },
      "source": [
        "Another example follows, which is exactly the same except it makes use of the **CTE construct** instead:\n"
      ]
    },
    {
      "cell_type": "code",
      "metadata": {
        "id": "oBZWnrqe7nmv",
        "colab": {
          "base_uri": "https://localhost:8080/"
        },
        "outputId": "fb0f6e13-3fdf-4d0a-8a18-d5b2acdbdd0c"
      },
      "source": [
        "# creating a CTE (common table expression) to retrieve all email addresses that match the selection criteria\n",
        "cte = select(Address).where(~Address.email_address.like('%@aol.com')).cte()\n",
        "# creating an aliased object to refer to the matching email addresses\n",
        "address_cte = aliased(Address, cte)\n",
        "# SELECT statement using the subquery over a joined User+Address object\n",
        "stmt = select(User, address_cte).join_from(User, address_cte).order_by(User.id, address_cte.id)\n",
        "\n",
        "# opening a session to execute the SELECT statement\n",
        "with Session(engine) as session:\n",
        "  # executing the command and iterating over the resulting rows\n",
        "  for user, address in session.execute(stmt):\n",
        "    print(f\"{user} => {address}\")"
      ],
      "execution_count": 66,
      "outputs": [
        {
          "output_type": "stream",
          "text": [
            "2021-08-17 16:06:36,640 INFO sqlalchemy.engine.Engine BEGIN (implicit)\n",
            "2021-08-17 16:06:36,648 INFO sqlalchemy.engine.Engine WITH anon_1 AS \n",
            "(SELECT address.id AS id, address.email_address AS email_address, address.user_id AS user_id \n",
            "FROM address \n",
            "WHERE address.email_address NOT LIKE ?)\n",
            " SELECT user_account.id, user_account.name, user_account.fullname, anon_1.id AS id_1, anon_1.email_address, anon_1.user_id \n",
            "FROM user_account JOIN anon_1 ON user_account.id = anon_1.user_id ORDER BY user_account.id, anon_1.id\n",
            "2021-08-17 16:06:36,651 INFO sqlalchemy.engine.Engine [generated in 0.00281s] ('%@aol.com',)\n",
            "User(id=4, name='Larry', fullname='Larry the Lobster') => Address(id=1, email_address='larry.lobster@sea.com')\n",
            "2021-08-17 16:06:36,656 INFO sqlalchemy.engine.Engine ROLLBACK\n"
          ],
          "name": "stdout"
        }
      ]
    }
  ]
}
