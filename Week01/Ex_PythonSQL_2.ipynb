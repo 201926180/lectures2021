{
 "cells": [
  {
   "cell_type": "markdown",
   "metadata": {},
   "source": [
    "### Example code of Python and SQL\n",
    "\n",
    "Based on https://stackabuse.com/a-sqlite-tutorial-with-python"
   ]
  },
  {
   "cell_type": "code",
   "execution_count": 1,
   "metadata": {},
   "outputs": [],
   "source": [
    "# importing necessary libraries\n",
    "import sqlite3\n",
    "\n",
    "# see auxiliary file db_utils\n",
    "from db_utils import db_connect"
   ]
  },
  {
   "cell_type": "markdown",
   "metadata": {},
   "source": [
    "The code below creates a connection object then uses it to instantiate a cursor object.\n",
    "\n",
    "The **cursor** object is used to execute SQL statements on the SQLite database."
   ]
  },
  {
   "cell_type": "code",
   "execution_count": 2,
   "metadata": {},
   "outputs": [],
   "source": [
    "# connect to the database\n",
    "con = db_connect()\n",
    "# instantiate a cursor obj\n",
    "cur = con.cursor()"
   ]
  },
  {
   "cell_type": "markdown",
   "metadata": {},
   "source": [
    "### Creating Tables"
   ]
  },
  {
   "cell_type": "code",
   "execution_count": 3,
   "metadata": {},
   "outputs": [
    {
     "data": {
      "text/plain": [
       "<sqlite3.Cursor at 0x7f8efa3162d0>"
      ]
     },
     "execution_count": 3,
     "metadata": {},
     "output_type": "execute_result"
    }
   ],
   "source": [
    "customers_sql = \"\"\"\n",
    "    CREATE TABLE customers (\n",
    "        id integer PRIMARY KEY,\n",
    "        first_name text NOT NULL,\n",
    "        last_name text NOT NULL)\"\"\"\n",
    "\n",
    "cur.execute(customers_sql)\n",
    "\n",
    "products_sql = \"\"\"\n",
    "    CREATE TABLE products (\n",
    "        id integer PRIMARY KEY,\n",
    "        name text NOT NULL,\n",
    "        price real NOT NULL)\"\"\"\n",
    "\n",
    "cur.execute(products_sql)"
   ]
  },
  {
   "cell_type": "markdown",
   "metadata": {},
   "source": [
    "We can query the ``sqlite_master table``, a built-in SQLite metadata table, to verify that the above commands were successful.\n",
    "\n",
    "To see all the tables in the currently connected database query the name column of the ``sqlite_master table`` where the type is equal to *table*."
   ]
  },
  {
   "cell_type": "code",
   "execution_count": 5,
   "metadata": {},
   "outputs": [
    {
     "name": "stdout",
     "output_type": "stream",
     "text": [
      "[('customers',), ('products',)]\n"
     ]
    }
   ],
   "source": [
    "cur.execute(\"SELECT name FROM sqlite_master WHERE type='table'\")\n",
    "print(cur.fetchall())"
   ]
  },
  {
   "cell_type": "markdown",
   "metadata": {},
   "source": [
    "To get a look at the schema of the tables query the *sql* column of the same table where the type is still *table* and the name is equal to ``customers`` and/or ``products``."
   ]
  },
  {
   "cell_type": "code",
   "execution_count": 6,
   "metadata": {},
   "outputs": [
    {
     "name": "stdout",
     "output_type": "stream",
     "text": [
      "CREATE TABLE customers (\n",
      "        id integer PRIMARY KEY,\n",
      "        first_name text NOT NULL,\n",
      "        last_name text NOT NULL)\n"
     ]
    }
   ],
   "source": [
    "cur.execute(\"\"\"SELECT sql FROM sqlite_master WHERE type='table' AND name='customers'\"\"\")\n",
    "print(cur.fetchone()[0])"
   ]
  },
  {
   "cell_type": "markdown",
   "metadata": {},
   "source": [
    "The next table to define will be the ``orders`` table which associates customers to orders\n",
    "via a foreign key and the date of their purchase.\n",
    "\n",
    "Since SQLite does not support an actual date/time data type (or data class to be consistent with the SQLite vernacular) all dates will be represented as text values."
   ]
  },
  {
   "cell_type": "code",
   "execution_count": 7,
   "metadata": {},
   "outputs": [
    {
     "data": {
      "text/plain": [
       "<sqlite3.Cursor at 0x7f8efa3162d0>"
      ]
     },
     "execution_count": 7,
     "metadata": {},
     "output_type": "execute_result"
    }
   ],
   "source": [
    "orders_sql = \"\"\"\n",
    "    CREATE TABLE orders (\n",
    "        id integer PRIMARY KEY,\n",
    "        date text NOT NULL,\n",
    "        customer_id integer,\n",
    "        FOREIGN KEY (customer_id) REFERENCES customers (id))\"\"\"\n",
    "\n",
    "cur.execute(orders_sql)"
   ]
  },
  {
   "cell_type": "markdown",
   "metadata": {},
   "source": [
    "The final table to define will be the ``line items`` table which gives a detailed accounting of the products in each order."
   ]
  },
  {
   "cell_type": "code",
   "execution_count": 8,
   "metadata": {},
   "outputs": [
    {
     "data": {
      "text/plain": [
       "<sqlite3.Cursor at 0x7f8efa3162d0>"
      ]
     },
     "execution_count": 8,
     "metadata": {},
     "output_type": "execute_result"
    }
   ],
   "source": [
    "lineitems_sql = \"\"\"\n",
    "    CREATE TABLE lineitems (\n",
    "        id integer PRIMARY KEY,\n",
    "        quantity integer NOT NULL,\n",
    "        total real NOT NULL,\n",
    "        product_id integer,\n",
    "        order_id integer,\n",
    "        FOREIGN KEY (product_id) REFERENCES products (id),\n",
    "        FOREIGN KEY (order_id) REFERENCES orders (id))\"\"\"\n",
    "cur.execute(lineitems_sql)"
   ]
  },
  {
   "cell_type": "markdown",
   "metadata": {},
   "source": [
    "### Loading the Data"
   ]
  },
  {
   "cell_type": "markdown",
   "metadata": {},
   "source": [
    "Let's populate the ``products`` table first because without products we cannot have a sale and thus would not have the foreign keys to relate to the ``line items`` and ``orders``."
   ]
  },
  {
   "cell_type": "code",
   "execution_count": 9,
   "metadata": {},
   "outputs": [
    {
     "data": {
      "text/plain": [
       "<sqlite3.Cursor at 0x7f8efa3162d0>"
      ]
     },
     "execution_count": 9,
     "metadata": {},
     "output_type": "execute_result"
    }
   ],
   "source": [
    "product_sql = \"INSERT INTO products (name, price) VALUES (?, ?)\"\n",
    "cur.execute(product_sql, ('Introduction to Combinatorics', 7.99))\n",
    "cur.execute(product_sql, ('A Guide to Writing Short Stories', 17.99))\n",
    "cur.execute(product_sql, ('Data Structures and Algorithms', 11.99))\n",
    "cur.execute(product_sql, ('Advanced Set Theory', 16.99))"
   ]
  },
  {
   "cell_type": "markdown",
   "metadata": {},
   "source": [
    "The above code probably seems pretty obvious, but let me discuss it a bit as\n",
    "there are some important things going on here. The insert statement follows\n",
    "the standard SQL syntax except for the **?** bit. The **?'s** are actually **placeholders**\n",
    "in what is known as a **parameterized query**.\n",
    "\n",
    "Parameterized queries are an important feature of essentially all database\n",
    "interfaces to modern high level programming languages such as the ``sqlite3``\n",
    "module in Python. This type of query **serves to improve the efficiency of\n",
    "queries that are repeated several times**. Perhaps more important, **they also\n",
    "sanitize inputs** that take the place of the *?* placeholders which are passed\n",
    "in during the call to the execute method of the cursor object to prevent\n",
    "nefarious inputs leading to <a href=\"https://en.wikipedia.org/wiki/SQL_injection\">SQL injection</a>."
   ]
  },
  {
   "cell_type": "markdown",
   "metadata": {},
   "source": [
    "---\n",
    "To populate the remaining tables we are going to follow a slightly different\n",
    "pattern to change things up a bit. The workflow for each order, identified by\n",
    "a combination of customer first and last name and the purchase date, will be:\n",
    "\n",
    "* Insert the new customer into the customers table and retrieve its primary key id\n",
    "* Create an order entry based on the customer id and the purchase date\n",
    "* Retrieve its primary key id for each product in the order\n",
    "* Determine its primary key id, and\n",
    "* Create a line item entry associating the order and the product"
   ]
  },
  {
   "cell_type": "code",
   "execution_count": 10,
   "metadata": {},
   "outputs": [
    {
     "name": "stdout",
     "output_type": "stream",
     "text": [
      "Id   Product                            Price\n",
      "1    Introduction to Combinatorics       7.99\n",
      "2    A Guide to Writing Short Stories   17.99\n",
      "3    Data Structures and Algorithms     11.99\n",
      "4    Advanced Set Theory                16.99\n"
     ]
    }
   ],
   "source": [
    "cur.execute(\"SELECT id, name, price FROM products\")\n",
    "formatted_result = [f\"{id:<5}{name:<35}{price:>5}\" for id, name, price in cur.fetchall()]\n",
    "id, product, price = \"Id\", \"Product\", \"Price\"\n",
    "print('\\n'.join([f\"{id:<5}{product:<35}{price:>5}\"] + formatted_result))"
   ]
  },
  {
   "cell_type": "code",
   "execution_count": 11,
   "metadata": {},
   "outputs": [
    {
     "name": "stdout",
     "output_type": "stream",
     "text": [
      "1\n"
     ]
    }
   ],
   "source": [
    "# Start by making a new customer record for Mr. Turing then determine his primary key id\n",
    "# by accessing the lastrowid field of the cursor object.\n",
    "customer_sql = \"INSERT INTO customers (first_name, last_name) VALUES (?, ?)\"\n",
    "cur.execute(customer_sql, ('Alan', 'Turing'))\n",
    "customer_id = cur.lastrowid\n",
    "print(customer_id)"
   ]
  },
  {
   "cell_type": "code",
   "execution_count": 12,
   "metadata": {},
   "outputs": [
    {
     "name": "stdout",
     "output_type": "stream",
     "text": [
      "1\n"
     ]
    }
   ],
   "source": [
    "# We can now create an order entry, collect the new order id value and associate it\n",
    "# to a line item entry along with the product Mr. Turing ordered.\n",
    "order_sql = \"INSERT INTO orders (date, customer_id) VALUES (?, ?)\"\n",
    "date = \"1944-02-22\" # ISO formatted date\n",
    "cur.execute(order_sql, (date, customer_id))\n",
    "order_id = cur.lastrowid\n",
    "print(order_id)"
   ]
  },
  {
   "cell_type": "code",
   "execution_count": 13,
   "metadata": {},
   "outputs": [
    {
     "data": {
      "text/plain": [
       "<sqlite3.Cursor at 0x7f8efa3162d0>"
      ]
     },
     "execution_count": 13,
     "metadata": {},
     "output_type": "execute_result"
    }
   ],
   "source": [
    "li_sql = \"\"\"INSERT INTO lineitems (order_id, product_id, quantity, total) VALUES (?, ?, ?, ?)\"\"\"\n",
    "product_id = 1\n",
    "cur.execute(li_sql, (order_id, 1, 1, 7.99))"
   ]
  },
  {
   "cell_type": "markdown",
   "metadata": {},
   "source": [
    "The remaining records are loaded exactly the same except for the order made to Donald Knuth,\n",
    "which will receive two line item entries. However, the repetitive nature of such a task is\n",
    "crying out the need to wrap these functionalities into reusable functions.\n",
    "\n",
    "Have a look at [db_utils.py](./db_utils.py) for some helpful functions used in the following commands."
   ]
  },
  {
   "cell_type": "code",
   "execution_count": 14,
   "metadata": {},
   "outputs": [],
   "source": [
    "# importing auxiliary functions\n",
    "from db_utils import create_customer, create_order, create_lineitem"
   ]
  },
  {
   "cell_type": "code",
   "execution_count": 15,
   "metadata": {},
   "outputs": [],
   "source": [
    "# con = db_connect()\n",
    "knuth_id = create_customer(con, 'Donald', 'Knuth')\n",
    "knuth_order = create_order(con, knuth_id, '1967-07-03')\n",
    "knuth_li1 = create_lineitem(con, knuth_order, 2, 1, 17.99)\n",
    "knuth_li2 = create_lineitem(con, knuth_order, 3, 1, 11.99)\n",
    "codd_id = create_customer(con, 'Edgar', 'Codd')\n",
    "codd_order = create_order(con, codd_id, '1969-01-12')\n",
    "codd_li = create_lineitem(con, codd_order, 4, 1, 16.99)"
   ]
  },
  {
   "cell_type": "markdown",
   "metadata": {},
   "source": [
    "### Wrapping commands into transactions for easy commit or rollback\n",
    "\n",
    "When you find yourself doing multiple database manipulations (INSERTs in this case),\n",
    "in order to accomplish what is actually one cumulative task (ie, creating an order),\n",
    "it is best to wrap the subtasks (creating customer, order, then line items) into a\n",
    "single **database transaction** so you can either **commit on success** or **rollback if an\n",
    "error occurs** along the way."
   ]
  },
  {
   "cell_type": "code",
   "execution_count": 16,
   "metadata": {},
   "outputs": [],
   "source": [
    "try:\n",
    "    codd_id = create_customer(con, 'Edgar', 'Codd')\n",
    "    codd_order = create_order(con, codd_id, '1969-01-12')\n",
    "    codd_li = create_lineitem(con, codd_order, 4, 1, 16.99)\n",
    "    # commit the statements\n",
    "    con.commit()\n",
    "except:\n",
    "    # rollback all database actions since last commit\n",
    "    con.rollback()\n",
    "    raise RuntimeError(\"An error occurred ...\")"
   ]
  },
  {
   "cell_type": "markdown",
   "metadata": {},
   "source": [
    "### Updating data\n",
    "\n",
    "Quick demonstration of how to UPDATE an existing record in the database: let's update the Guide to Writing Short Stories' price to 10.99 (going on sale)."
   ]
  },
  {
   "cell_type": "code",
   "execution_count": 17,
   "metadata": {},
   "outputs": [
    {
     "data": {
      "text/plain": [
       "<sqlite3.Cursor at 0x7f8efa3162d0>"
      ]
     },
     "execution_count": 17,
     "metadata": {},
     "output_type": "execute_result"
    }
   ],
   "source": [
    "update_sql = \"UPDATE products SET price = ? WHERE id = ?\"\n",
    "cur.execute(update_sql, (10.99, 2))"
   ]
  },
  {
   "cell_type": "markdown",
   "metadata": {},
   "source": [
    "### Querying the Database\n",
    "\n",
    "To perform a basic multirow query of the ``customers`` table, you pass a SELECT statement to the *execute()* method of the cursor object. After this, you can iterate over the results of the query by calling the *fetchall()* method of the same cursor object."
   ]
  },
  {
   "cell_type": "code",
   "execution_count": 18,
   "metadata": {},
   "outputs": [
    {
     "name": "stdout",
     "output_type": "stream",
     "text": [
      "(1, 'Alan', 'Turing')\n",
      "(2, 'Donald', 'Knuth')\n",
      "(3, 'Edgar', 'Codd')\n",
      "(4, 'Edgar', 'Codd')\n"
     ]
    }
   ],
   "source": [
    "cur.execute(\"SELECT id, first_name, last_name FROM customers\")\n",
    "results = cur.fetchall()\n",
    "for row in results:\n",
    "    print(row)"
   ]
  },
  {
   "cell_type": "markdown",
   "metadata": {},
   "source": [
    "Lets say you would like to instead just retrieve one record from the database.\n",
    "\n",
    "You can do this by writing a more specific query, say for Donald Knuth's id of 2, and following that up by calling fetchone() method of the cursor object."
   ]
  },
  {
   "cell_type": "code",
   "execution_count": 19,
   "metadata": {},
   "outputs": [
    {
     "name": "stdout",
     "output_type": "stream",
     "text": [
      "(2, 'Donald', 'Knuth')\n"
     ]
    }
   ],
   "source": [
    "cur.execute(\"SELECT id, first_name, last_name FROM customers WHERE id = 2\")\n",
    "result = cur.fetchone()\n",
    "print(result)"
   ]
  },
  {
   "cell_type": "markdown",
   "metadata": {},
   "source": [
    "**See how the individual row of each result is in the form of a tuple?**\n",
    "\n",
    "Well while tuples are a very useful Pythonic data structure for some programming use cases\n",
    "many people find them a bit hindering when it comes to the task of data retrieval.\n",
    "It just so happens that there is a way to represent the data in a way that is perhaps\n",
    "more flexible to some. All you need to do is set the *row_factory* method of the\n",
    "connection object to something more suitable such as *sqlite3.Row*. This will give\n",
    "you **the ability to access the individual items of a row by position or keyword value**."
   ]
  },
  {
   "cell_type": "code",
   "execution_count": 20,
   "metadata": {},
   "outputs": [
    {
     "name": "stdout",
     "output_type": "stream",
     "text": [
      "Customer: Donald Knuth's id is 2\n"
     ]
    }
   ],
   "source": [
    "con.row_factory = sqlite3.Row\n",
    "cur = con.cursor()\n",
    "cur.execute(\"SELECT id, first_name, last_name FROM customers WHERE id = 2\")\n",
    "result = cur.fetchone()\n",
    "id, first_name, last_name = result['id'], result['first_name'], result['last_name']\n",
    "print(f\"Customer: {first_name} {last_name}'s id is {id}\")"
   ]
  },
  {
   "cell_type": "code",
   "execution_count": null,
   "metadata": {},
   "outputs": [],
   "source": []
  }
 ],
 "metadata": {
  "kernelspec": {
   "display_name": "Python 3",
   "language": "python",
   "name": "python3"
  },
  "language_info": {
   "codemirror_mode": {
    "name": "ipython",
    "version": 3
   },
   "file_extension": ".py",
   "mimetype": "text/x-python",
   "name": "python",
   "nbconvert_exporter": "python",
   "pygments_lexer": "ipython3",
   "version": "3.8.5"
  }
 },
 "nbformat": 4,
 "nbformat_minor": 4
}
