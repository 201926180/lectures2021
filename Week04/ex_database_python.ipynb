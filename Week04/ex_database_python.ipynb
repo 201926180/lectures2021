{
  "nbformat": 4,
  "nbformat_minor": 0,
  "metadata": {
    "kernelspec": {
      "display_name": "Python 3",
      "language": "python",
      "name": "python3"
    },
    "language_info": {
      "codemirror_mode": {
        "name": "ipython",
        "version": 3
      },
      "file_extension": ".py",
      "mimetype": "text/x-python",
      "name": "python",
      "nbconvert_exporter": "python",
      "pygments_lexer": "ipython3",
      "version": "3.8.3"
    },
    "colab": {
      "name": "ex_database_python.ipynb",
      "provenance": [],
      "collapsed_sections": []
    }
  },
  "cells": [
    {
      "cell_type": "markdown",
      "metadata": {
        "id": "D88bemGWCAEi"
      },
      "source": [
        "### Adapted from ST2195 - Programming for Data Science\n",
        "### Authors: Christine Yuen\n",
        "\n",
        "####  Creating and manipulating databases in Python\n"
      ]
    },
    {
      "cell_type": "markdown",
      "metadata": {
        "id": "NCnTf9UiCAEk"
      },
      "source": [
        "** Please run the codes in order **"
      ]
    },
    {
      "cell_type": "markdown",
      "metadata": {
        "id": "7hBbQ65FCAEk"
      },
      "source": [
        "# Using database with Python\n",
        "\n",
        "We have shown how to create, update and query a database using DB Browser for SQLite. Now we will illustrate how the same thing can be done in Python. Again we will continue using the University example (see the data folder)."
      ]
    },
    {
      "cell_type": "markdown",
      "metadata": {
        "id": "ECWXHHklCAEk"
      },
      "source": [
        "# Connect to database using Python\n",
        "\n",
        "We import the module `sqlite3` and use the function `connect` to create an object, `conn`, to connect to the SQLite driver to manipulate the database `university`."
      ]
    },
    {
      "cell_type": "code",
      "metadata": {
        "id": "myZHsNwjCAEl"
      },
      "source": [
        "# This makes sure you can run this notebook multiple times without errors\n",
        "# make sure of updating the path to your files \n",
        "# /content is the path inside Google Colab\n",
        "import os \n",
        "try:\n",
        "    os.remove('/content/University.db')\n",
        "except OSError:\n",
        "    pass"
      ],
      "execution_count": 1,
      "outputs": []
    },
    {
      "cell_type": "code",
      "metadata": {
        "id": "m3qtdvgjCAEl"
      },
      "source": [
        "import sqlite3\n",
        "\n",
        "# make sure of updating the path to your files \n",
        "# /content is the path inside Google Colab\n",
        "conn = sqlite3.connect('/content/University.db')"
      ],
      "execution_count": 2,
      "outputs": []
    },
    {
      "cell_type": "markdown",
      "metadata": {
        "id": "kPrHloR9CAEl"
      },
      "source": [
        "# Creating tables using Python\n",
        "\n",
        "Now we are going to create some tables to the database `University`. Like before, we will create the tables using the data saved in the CSV files. We first load the CSV files into `DataFrame` in Python:"
      ]
    },
    {
      "cell_type": "code",
      "metadata": {
        "id": "G2odK-A-CAEm"
      },
      "source": [
        "import pandas as pd\n",
        "\n",
        "# make sure of updating the path to your files\n",
        "student = pd.read_csv(\"/content/student.csv\")\n",
        "course = pd.read_csv(\"/content/course.csv\")\n",
        "grade = pd.read_csv(\"/content/grade.csv\")"
      ],
      "execution_count": 3,
      "outputs": []
    },
    {
      "cell_type": "markdown",
      "metadata": {
        "id": "YZn9Wy4pCAEm"
      },
      "source": [
        "We then write records stored in the DataFrames `student`, `grade` and `course` as tables to the database `University` using the `DataFrame` method `to_sql`."
      ]
    },
    {
      "cell_type": "code",
      "metadata": {
        "id": "dGTMAPseCAEm"
      },
      "source": [
        "# index = False to ensure the DataFrame row index is not written into the SQL tables\n",
        "student.to_sql('Student', con = conn, index = False) \n",
        "course.to_sql('Course', con = conn, index = False)\n",
        "grade.to_sql('Grade', con = conn, index = False)"
      ],
      "execution_count": 4,
      "outputs": []
    },
    {
      "cell_type": "markdown",
      "metadata": {
        "id": "xp0MkK_FCAEm"
      },
      "source": [
        "Again, we can check if the database is created properly by opening the databse in DB Browser for SQLite and browse the tables."
      ]
    },
    {
      "cell_type": "markdown",
      "metadata": {
        "id": "8aLLBDB-CAEm"
      },
      "source": [
        "# Manipulate databases using Python\n",
        "\n",
        "\n",
        "We can manipulate databases in Python by the `execute` and `fetchall` methods from the `sqlite3` module. This allows us to leverage the SQL commands we have learned to manipulate the databases in Python. We first need to create a cursor object `c`:"
      ]
    },
    {
      "cell_type": "code",
      "metadata": {
        "id": "_4YUT7VyCAEn"
      },
      "source": [
        "c = conn.cursor()"
      ],
      "execution_count": 5,
      "outputs": []
    },
    {
      "cell_type": "markdown",
      "metadata": {
        "id": "V3hrjxeyCAEn"
      },
      "source": [
        "After that, we can execute the SQL commands we learned before using the function `execute` and `fetchall`. For example, if we want to get all the tables in the database, we can run:"
      ]
    },
    {
      "cell_type": "code",
      "metadata": {
        "scrolled": true,
        "colab": {
          "base_uri": "https://localhost:8080/"
        },
        "id": "-jUfhNZrCAEn",
        "outputId": "573c8c5c-6750-4e22-b416-eb39610078a0"
      },
      "source": [
        "c.execute('''\n",
        "SELECT name \n",
        "  FROM sqlite_master \n",
        " WHERE type='table'\n",
        "''')"
      ],
      "execution_count": 6,
      "outputs": [
        {
          "output_type": "execute_result",
          "data": {
            "text/plain": [
              "<sqlite3.Cursor at 0x7fa62d5992d0>"
            ]
          },
          "metadata": {
            "tags": []
          },
          "execution_count": 6
        }
      ]
    },
    {
      "cell_type": "markdown",
      "metadata": {
        "id": "oXuFCSgLCAEo"
      },
      "source": [
        "The result is not returned until we run `fetchall`:"
      ]
    },
    {
      "cell_type": "code",
      "metadata": {
        "colab": {
          "base_uri": "https://localhost:8080/"
        },
        "id": "T9qMFvkACAEo",
        "outputId": "235a4d73-60b0-4829-a62a-f68c467b89d6"
      },
      "source": [
        "c.fetchall()"
      ],
      "execution_count": 7,
      "outputs": [
        {
          "output_type": "execute_result",
          "data": {
            "text/plain": [
              "[('Student',), ('Course',), ('Grade',)]"
            ]
          },
          "metadata": {
            "tags": []
          },
          "execution_count": 7
        }
      ]
    },
    {
      "cell_type": "markdown",
      "metadata": {
        "id": "5TEiKfRVCAEo"
      },
      "source": [
        "We can see there are 3 tables in the database. If we want to browse the table `Student` we can run:"
      ]
    },
    {
      "cell_type": "code",
      "metadata": {
        "scrolled": true,
        "colab": {
          "base_uri": "https://localhost:8080/"
        },
        "id": "T9_mvqbPCAEo",
        "outputId": "fae72b59-8db9-46a2-af2e-c45199b1fdaf"
      },
      "source": [
        "c.execute(\"SELECT * FROM Student\").fetchall()"
      ],
      "execution_count": 8,
      "outputs": [
        {
          "output_type": "execute_result",
          "data": {
            "text/plain": [
              "[(201921323, 'Ava Smith', 2),\n",
              " (201832220, 'Ben Johnson', 3),\n",
              " (202003219, 'Charlie Jones', 1),\n",
              " (202045234, 'Dan Norris', 1),\n",
              " (201985603, 'Emily Wood', 1),\n",
              " (201933222, 'Freddie Harris', 2),\n",
              " (201875940, 'Grace Clarke', 2)]"
            ]
          },
          "metadata": {
            "tags": []
          },
          "execution_count": 8
        }
      ]
    },
    {
      "cell_type": "markdown",
      "metadata": {
        "id": "N6nF0ssJCAEo"
      },
      "source": [
        "Note here we combine the use of `execute` and `fetchall` in one line."
      ]
    },
    {
      "cell_type": "markdown",
      "metadata": {
        "id": "0geqHKS8CAEp"
      },
      "source": [
        "## Add a new table\n",
        "\n",
        "We can add a new table by running the SQL command through `execute`:"
      ]
    },
    {
      "cell_type": "code",
      "metadata": {
        "scrolled": true,
        "id": "uH8yzNhZCAEp"
      },
      "source": [
        "c.execute('''\n",
        "CREATE TABLE Teacher (\n",
        "    staff_id TEXT PRIMARY KEY,\n",
        "        name TEXT)\n",
        "''')\n",
        "conn.commit() # save (commit) the changes"
      ],
      "execution_count": 9,
      "outputs": []
    },
    {
      "cell_type": "markdown",
      "metadata": {
        "id": "GKE7xW7cCAEp"
      },
      "source": [
        "When we list the tables, we can see four tables."
      ]
    },
    {
      "cell_type": "code",
      "metadata": {
        "scrolled": true,
        "colab": {
          "base_uri": "https://localhost:8080/"
        },
        "id": "e_vailFRCAEp",
        "outputId": "85f2dd96-4a72-424f-b7ef-597436583a41"
      },
      "source": [
        "c.execute('''\n",
        "SELECT name \n",
        "  FROM sqlite_master \n",
        " WHERE type='table'\n",
        "''')"
      ],
      "execution_count": 10,
      "outputs": [
        {
          "output_type": "execute_result",
          "data": {
            "text/plain": [
              "<sqlite3.Cursor at 0x7fa62d5992d0>"
            ]
          },
          "metadata": {
            "tags": []
          },
          "execution_count": 10
        }
      ]
    },
    {
      "cell_type": "markdown",
      "metadata": {
        "id": "HEzQUcgYCAEp"
      },
      "source": [
        "## Delete a table\n",
        "\n",
        "We can delete a table by running the SQL command through `execute`:"
      ]
    },
    {
      "cell_type": "code",
      "metadata": {
        "id": "ap7l_JrTCAEp"
      },
      "source": [
        "c.execute(\"DROP TABLE Teacher\")\n",
        "conn.commit() "
      ],
      "execution_count": 11,
      "outputs": []
    },
    {
      "cell_type": "markdown",
      "metadata": {
        "id": "fP5VyvKmCAEp"
      },
      "source": [
        "When we list the tables, we can see three tables."
      ]
    },
    {
      "cell_type": "code",
      "metadata": {
        "scrolled": true,
        "colab": {
          "base_uri": "https://localhost:8080/"
        },
        "id": "QKT1b92rCAEq",
        "outputId": "60aa9a61-6cb1-41c9-a6d7-cd8499294425"
      },
      "source": [
        "c.execute('''\n",
        "SELECT name \n",
        "  FROM sqlite_master \n",
        " WHERE type='table'\n",
        "''')"
      ],
      "execution_count": 12,
      "outputs": [
        {
          "output_type": "execute_result",
          "data": {
            "text/plain": [
              "<sqlite3.Cursor at 0x7fa62d5992d0>"
            ]
          },
          "metadata": {
            "tags": []
          },
          "execution_count": 12
        }
      ]
    },
    {
      "cell_type": "markdown",
      "metadata": {
        "id": "lPjq8fWACAEq"
      },
      "source": [
        "## Insert tuples / rows\n",
        "Insert the year 1 student Harper Taylor with student id 202029744 to Student:"
      ]
    },
    {
      "cell_type": "code",
      "metadata": {
        "id": "sOyWIw-2CAEq"
      },
      "source": [
        "c.execute(\"INSERT INTO Student VALUES(202029744, 'Harper Taylor', 1)\")\n",
        "conn.commit() "
      ],
      "execution_count": 13,
      "outputs": []
    },
    {
      "cell_type": "markdown",
      "metadata": {
        "id": "M1sjbN_5CAEq"
      },
      "source": [
        "When we browse the table, we can see the new row is added."
      ]
    },
    {
      "cell_type": "code",
      "metadata": {
        "scrolled": true,
        "colab": {
          "base_uri": "https://localhost:8080/"
        },
        "id": "UNpVezDoCAEq",
        "outputId": "9f1c1f96-661f-4845-c563-531cdcd2fe62"
      },
      "source": [
        "c.execute(\"SELECT * FROM Student\").fetchall()"
      ],
      "execution_count": 14,
      "outputs": [
        {
          "output_type": "execute_result",
          "data": {
            "text/plain": [
              "[(201921323, 'Ava Smith', 2),\n",
              " (201832220, 'Ben Johnson', 3),\n",
              " (202003219, 'Charlie Jones', 1),\n",
              " (202045234, 'Dan Norris', 1),\n",
              " (201985603, 'Emily Wood', 1),\n",
              " (201933222, 'Freddie Harris', 2),\n",
              " (201875940, 'Grace Clarke', 2),\n",
              " (202029744, 'Harper Taylor', 1)]"
            ]
          },
          "metadata": {
            "tags": []
          },
          "execution_count": 14
        }
      ]
    },
    {
      "cell_type": "markdown",
      "metadata": {
        "id": "gHjKmxhLCAEq"
      },
      "source": [
        "## Update tuples / rows\n",
        "\n",
        "Update the student id of student Harper Taylor to 201929744:"
      ]
    },
    {
      "cell_type": "code",
      "metadata": {
        "id": "WMwuAfKTCAEq"
      },
      "source": [
        "c.execute('''\n",
        "UPDATE Student\n",
        "   SET student_id = \"201929744\"\n",
        " WHERE name = \"Harper Taylor\"\n",
        "''')\n",
        "conn.commit()"
      ],
      "execution_count": 15,
      "outputs": []
    },
    {
      "cell_type": "markdown",
      "metadata": {
        "id": "F34bmX0LCAEr"
      },
      "source": [
        "When we browse the table, we can see the row has changed."
      ]
    },
    {
      "cell_type": "code",
      "metadata": {
        "scrolled": true,
        "colab": {
          "base_uri": "https://localhost:8080/"
        },
        "id": "d60MeiqaCAEr",
        "outputId": "4f9967f6-e893-413b-bf30-4852ba362458"
      },
      "source": [
        "c.execute(\"SELECT * FROM Student\").fetchall()"
      ],
      "execution_count": 16,
      "outputs": [
        {
          "output_type": "execute_result",
          "data": {
            "text/plain": [
              "[(201921323, 'Ava Smith', 2),\n",
              " (201832220, 'Ben Johnson', 3),\n",
              " (202003219, 'Charlie Jones', 1),\n",
              " (202045234, 'Dan Norris', 1),\n",
              " (201985603, 'Emily Wood', 1),\n",
              " (201933222, 'Freddie Harris', 2),\n",
              " (201875940, 'Grace Clarke', 2),\n",
              " (201929744, 'Harper Taylor', 1)]"
            ]
          },
          "metadata": {
            "tags": []
          },
          "execution_count": 16
        }
      ]
    },
    {
      "cell_type": "markdown",
      "metadata": {
        "id": "pdwRk3sLCAEr"
      },
      "source": [
        "## Delete tuples / rows\n",
        "\n",
        "Delete the record for the student Harper Taylor from table `Student`:"
      ]
    },
    {
      "cell_type": "code",
      "metadata": {
        "id": "RHioKJSMCAEr"
      },
      "source": [
        "c.execute('''\n",
        "DELETE FROM Student\n",
        " WHERE name = \"Harper Taylor\"\n",
        "''')\n",
        "conn.commit()"
      ],
      "execution_count": 17,
      "outputs": []
    },
    {
      "cell_type": "markdown",
      "metadata": {
        "id": "lx14cgi7CAEr"
      },
      "source": [
        "When we browse the table, we can see the row has been removed."
      ]
    },
    {
      "cell_type": "code",
      "metadata": {
        "colab": {
          "base_uri": "https://localhost:8080/"
        },
        "id": "v0pAhuNQCAEr",
        "outputId": "b86a8b4c-a588-49af-a02a-afb22b3c6fb8"
      },
      "source": [
        "c.execute(\"SELECT * FROM Student\").fetchall()"
      ],
      "execution_count": 18,
      "outputs": [
        {
          "output_type": "execute_result",
          "data": {
            "text/plain": [
              "[(201921323, 'Ava Smith', 2),\n",
              " (201832220, 'Ben Johnson', 3),\n",
              " (202003219, 'Charlie Jones', 1),\n",
              " (202045234, 'Dan Norris', 1),\n",
              " (201985603, 'Emily Wood', 1),\n",
              " (201933222, 'Freddie Harris', 2),\n",
              " (201875940, 'Grace Clarke', 2)]"
            ]
          },
          "metadata": {
            "tags": []
          },
          "execution_count": 18
        }
      ]
    },
    {
      "cell_type": "markdown",
      "metadata": {
        "id": "xUhlWci5FYEc"
      },
      "source": [
        "# Query the database using Python\n",
        "\n",
        "We can query databases in Python by the `execute` and `fetchall` methods from the `sqlite3` module which performs SQL commands. Here we display the results as `Pandas` `DataFrame`. The SQL commands used here have been discussed in the previous notebooks."
      ]
    },
    {
      "cell_type": "markdown",
      "metadata": {
        "id": "uKcN08PvFhsq"
      },
      "source": [
        "## Example 1: get all the grades for the course with `course_id` `ST101`"
      ]
    },
    {
      "cell_type": "code",
      "metadata": {
        "colab": {
          "base_uri": "https://localhost:8080/",
          "height": 142
        },
        "id": "ats7YiGLFQL8",
        "outputId": "e70b4106-9731-4dea-8604-4c57de42a3a1"
      },
      "source": [
        "q1 = c.execute('''\n",
        "SELECT final_mark \n",
        "  FROM Grade \n",
        " WHERE course_id = 'ST101'\n",
        "''').fetchall()\n",
        "\n",
        "import pandas as pd\n",
        "pd.DataFrame(q1)"
      ],
      "execution_count": 19,
      "outputs": [
        {
          "output_type": "execute_result",
          "data": {
            "text/html": [
              "<div>\n",
              "<style scoped>\n",
              "    .dataframe tbody tr th:only-of-type {\n",
              "        vertical-align: middle;\n",
              "    }\n",
              "\n",
              "    .dataframe tbody tr th {\n",
              "        vertical-align: top;\n",
              "    }\n",
              "\n",
              "    .dataframe thead th {\n",
              "        text-align: right;\n",
              "    }\n",
              "</style>\n",
              "<table border=\"1\" class=\"dataframe\">\n",
              "  <thead>\n",
              "    <tr style=\"text-align: right;\">\n",
              "      <th></th>\n",
              "      <th>0</th>\n",
              "    </tr>\n",
              "  </thead>\n",
              "  <tbody>\n",
              "    <tr>\n",
              "      <th>0</th>\n",
              "      <td>78</td>\n",
              "    </tr>\n",
              "    <tr>\n",
              "      <th>1</th>\n",
              "      <td>60</td>\n",
              "    </tr>\n",
              "    <tr>\n",
              "      <th>2</th>\n",
              "      <td>47</td>\n",
              "    </tr>\n",
              "  </tbody>\n",
              "</table>\n",
              "</div>"
            ],
            "text/plain": [
              "    0\n",
              "0  78\n",
              "1  60\n",
              "2  47"
            ]
          },
          "metadata": {
            "tags": []
          },
          "execution_count": 19
        }
      ]
    },
    {
      "cell_type": "markdown",
      "metadata": {
        "id": "2zlYz_9XFqiG"
      },
      "source": [
        "## Example 2: get the names of the students who took the course with course_id `ST101` in alphabetical order"
      ]
    },
    {
      "cell_type": "code",
      "metadata": {
        "colab": {
          "base_uri": "https://localhost:8080/",
          "height": 142
        },
        "id": "o83_VLPIFQQs",
        "outputId": "bb3ceeaa-2d08-4891-ef5c-3f14ecaaa0c7"
      },
      "source": [
        "q2 = c.execute('''\n",
        "SELECT Student.name\n",
        "  FROM Grade, Student\n",
        " WHERE Grade.course_id = 'ST101' AND Student.student_id = Grade.student_id\n",
        " ORDER BY Student.name\n",
        "''').fetchall()\n",
        "\n",
        "pd.DataFrame(q2)"
      ],
      "execution_count": 20,
      "outputs": [
        {
          "output_type": "execute_result",
          "data": {
            "text/html": [
              "<div>\n",
              "<style scoped>\n",
              "    .dataframe tbody tr th:only-of-type {\n",
              "        vertical-align: middle;\n",
              "    }\n",
              "\n",
              "    .dataframe tbody tr th {\n",
              "        vertical-align: top;\n",
              "    }\n",
              "\n",
              "    .dataframe thead th {\n",
              "        text-align: right;\n",
              "    }\n",
              "</style>\n",
              "<table border=\"1\" class=\"dataframe\">\n",
              "  <thead>\n",
              "    <tr style=\"text-align: right;\">\n",
              "      <th></th>\n",
              "      <th>0</th>\n",
              "    </tr>\n",
              "  </thead>\n",
              "  <tbody>\n",
              "    <tr>\n",
              "      <th>0</th>\n",
              "      <td>Ava Smith</td>\n",
              "    </tr>\n",
              "    <tr>\n",
              "      <th>1</th>\n",
              "      <td>Charlie Jones</td>\n",
              "    </tr>\n",
              "    <tr>\n",
              "      <th>2</th>\n",
              "      <td>Emily Wood</td>\n",
              "    </tr>\n",
              "  </tbody>\n",
              "</table>\n",
              "</div>"
            ],
            "text/plain": [
              "               0\n",
              "0      Ava Smith\n",
              "1  Charlie Jones\n",
              "2     Emily Wood"
            ]
          },
          "metadata": {
            "tags": []
          },
          "execution_count": 20
        }
      ]
    },
    {
      "cell_type": "markdown",
      "metadata": {
        "id": "eWjh7_ZSFu8N"
      },
      "source": [
        "## Example 3: get the name of the courses taken by the student Ava Smith or Freddie Harris"
      ]
    },
    {
      "cell_type": "code",
      "metadata": {
        "colab": {
          "base_uri": "https://localhost:8080/",
          "height": 142
        },
        "id": "eiBYqmW1FQVe",
        "outputId": "e8a45dd9-9daf-4a00-ec3c-11db1cf5aa59"
      },
      "source": [
        "q3 = c.execute('''\n",
        "SELECT DISTINCT Course.name\n",
        "  FROM Student, Grade, Course\n",
        " WHERE (Student.name ='Ava Smith' or Student.name = 'Freddie Harris') AND \n",
        "        Student.student_id = Grade.student_id AND Course.course_id = Grade.course_id\n",
        "''').fetchall()\n",
        "\n",
        "pd.DataFrame(q3)"
      ],
      "execution_count": 21,
      "outputs": [
        {
          "output_type": "execute_result",
          "data": {
            "text/html": [
              "<div>\n",
              "<style scoped>\n",
              "    .dataframe tbody tr th:only-of-type {\n",
              "        vertical-align: middle;\n",
              "    }\n",
              "\n",
              "    .dataframe tbody tr th {\n",
              "        vertical-align: top;\n",
              "    }\n",
              "\n",
              "    .dataframe thead th {\n",
              "        text-align: right;\n",
              "    }\n",
              "</style>\n",
              "<table border=\"1\" class=\"dataframe\">\n",
              "  <thead>\n",
              "    <tr style=\"text-align: right;\">\n",
              "      <th></th>\n",
              "      <th>0</th>\n",
              "    </tr>\n",
              "  </thead>\n",
              "  <tbody>\n",
              "    <tr>\n",
              "      <th>0</th>\n",
              "      <td>Programming for Data Science</td>\n",
              "    </tr>\n",
              "    <tr>\n",
              "      <th>1</th>\n",
              "      <td>Managing and Visualising Data</td>\n",
              "    </tr>\n",
              "    <tr>\n",
              "      <th>2</th>\n",
              "      <td>Databases</td>\n",
              "    </tr>\n",
              "  </tbody>\n",
              "</table>\n",
              "</div>"
            ],
            "text/plain": [
              "                               0\n",
              "0   Programming for Data Science\n",
              "1  Managing and Visualising Data\n",
              "2                      Databases"
            ]
          },
          "metadata": {
            "tags": []
          },
          "execution_count": 21
        }
      ]
    },
    {
      "cell_type": "markdown",
      "metadata": {
        "id": "oKiHXth6F1z1"
      },
      "source": [
        "## Example 4: calculate the average mark for each course corresponding to the `course_id`"
      ]
    },
    {
      "cell_type": "code",
      "metadata": {
        "colab": {
          "base_uri": "https://localhost:8080/",
          "height": 142
        },
        "id": "s8vHq77ZF5Gx",
        "outputId": "217219d2-f45c-4016-fbfb-c8ca12a2ad77"
      },
      "source": [
        "q4 = c.execute('''\n",
        "SELECT course_id, AVG(final_mark) as avg_mark \n",
        "  FROM Grade \n",
        " GROUP BY course_id\n",
        "''').fetchall()\n",
        "\n",
        "pd.DataFrame(q4)"
      ],
      "execution_count": 22,
      "outputs": [
        {
          "output_type": "execute_result",
          "data": {
            "text/html": [
              "<div>\n",
              "<style scoped>\n",
              "    .dataframe tbody tr th:only-of-type {\n",
              "        vertical-align: middle;\n",
              "    }\n",
              "\n",
              "    .dataframe tbody tr th {\n",
              "        vertical-align: top;\n",
              "    }\n",
              "\n",
              "    .dataframe thead th {\n",
              "        text-align: right;\n",
              "    }\n",
              "</style>\n",
              "<table border=\"1\" class=\"dataframe\">\n",
              "  <thead>\n",
              "    <tr style=\"text-align: right;\">\n",
              "      <th></th>\n",
              "      <th>0</th>\n",
              "      <th>1</th>\n",
              "    </tr>\n",
              "  </thead>\n",
              "  <tbody>\n",
              "    <tr>\n",
              "      <th>0</th>\n",
              "      <td>ST101</td>\n",
              "      <td>61.666667</td>\n",
              "    </tr>\n",
              "    <tr>\n",
              "      <th>1</th>\n",
              "      <td>ST115</td>\n",
              "      <td>82.333333</td>\n",
              "    </tr>\n",
              "    <tr>\n",
              "      <th>2</th>\n",
              "      <td>ST207</td>\n",
              "      <td>66.500000</td>\n",
              "    </tr>\n",
              "  </tbody>\n",
              "</table>\n",
              "</div>"
            ],
            "text/plain": [
              "       0          1\n",
              "0  ST101  61.666667\n",
              "1  ST115  82.333333\n",
              "2  ST207  66.500000"
            ]
          },
          "metadata": {
            "tags": []
          },
          "execution_count": 22
        }
      ]
    },
    {
      "cell_type": "markdown",
      "metadata": {
        "id": "53zChqROCAEr"
      },
      "source": [
        "# Disconnecting from the database\n",
        "\n",
        "After we finish manipulating the database, we can close the connection using the method `close` on `conn`:"
      ]
    },
    {
      "cell_type": "code",
      "metadata": {
        "id": "6kIzBHmNCAEs"
      },
      "source": [
        "conn.close()"
      ],
      "execution_count": 23,
      "outputs": []
    },
    {
      "cell_type": "code",
      "metadata": {
        "id": "_fUDcvf1fUXb"
      },
      "source": [
        ""
      ],
      "execution_count": 23,
      "outputs": []
    }
  ]
}